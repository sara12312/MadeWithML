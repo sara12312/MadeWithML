{
 "cells": [
  {
   "cell_type": "markdown",
   "id": "9158a776",
   "metadata": {},
   "source": [
    "## 📚 Importing Libraries"
   ]
  },
  {
   "cell_type": "code",
   "execution_count": 97,
   "id": "96e1aa38",
   "metadata": {},
   "outputs": [],
   "source": [
    "# import libraries\n",
    "import pandas as pd\n",
    "import numpy as np\n",
    "import os\n",
    "import ray\n",
    "from sklearn.model_selection import train_test_split\n",
    "from collections import Counter\n",
    "import matplotlib.pyplot as plt\n",
    "import seaborn as sns; sns.set_theme()\n",
    "from wordcloud import WordCloud, STOPWORDS\n",
    "import ipywidgets as widgets\n",
    "from ipywidgets import interact, Dropdown\n",
    "import json\n",
    "import nltk\n",
    "from nltk.corpus import stopwords\n",
    "from nltk.stem import PorterStemmer\n",
    "import re\n",
    "from transformers import BertTokenizer\n",
    "import random\n",
    "import torch\n",
    "import torch.nn as nn\n",
    "from transformers import BertModel\n",
    "from ray.data.preprocessor import Preprocessor\n",
    "from pathlib import Path\n",
    "import ray.train as train\n",
    "from ray.train import Checkpoint, CheckpointConfig, DataConfig, RunConfig, ScalingConfig\n",
    "from ray.train.torch import TorchCheckpoint, TorchTrainer, TorchConfig, TorchPredictor\n",
    "import tempfile\n",
    "import torch.nn.functional as F\n",
    "from torch.nn.parallel.distributed import DistributedDataParallel\n",
    "from dotenv import load_dotenv\n",
    "\n",
    "import warnings\n",
    "warnings.filterwarnings(\"ignore\")\n"
   ]
  },
  {
   "cell_type": "markdown",
   "id": "0351c5c3",
   "metadata": {},
   "source": [
    "## 🛠️ Setup"
   ]
  },
  {
   "cell_type": "code",
   "execution_count": 2,
   "id": "366f623f",
   "metadata": {},
   "outputs": [
    {
     "name": "stderr",
     "output_type": "stream",
     "text": [
      "2025-08-19 15:38:41,710\tINFO worker.py:1633 -- Started a local Ray instance. View the dashboard at \u001b[1m\u001b[32m127.0.0.1:8265 \u001b[39m\u001b[22m\n"
     ]
    },
    {
     "data": {
      "application/vnd.jupyter.widget-view+json": {
       "model_id": "c4f0f704f2c54b8eab170f7d70e26331",
       "version_major": 2,
       "version_minor": 0
      },
      "text/html": [
       "<div class=\"lm-Widget p-Widget lm-Panel p-Panel jp-Cell-outputWrapper\">\n",
       "    <div style=\"margin-left: 50px;display: flex;flex-direction: row;align-items: center\">\n",
       "        <div class=\"jp-RenderedHTMLCommon\" style=\"display: flex; flex-direction: row;\">\n",
       "  <svg viewBox=\"0 0 567 224\" fill=\"none\" xmlns=\"http://www.w3.org/2000/svg\" style=\"height: 3em;\">\n",
       "    <g clip-path=\"url(#clip0_4338_178347)\">\n",
       "        <path d=\"M341.29 165.561H355.29L330.13 129.051C345.63 123.991 354.21 112.051 354.21 94.2307C354.21 71.3707 338.72 58.1807 311.88 58.1807H271V165.561H283.27V131.661H311.8C314.25 131.661 316.71 131.501 319.01 131.351L341.25 165.561H341.29ZM283.29 119.851V70.0007H311.82C331.3 70.0007 342.34 78.2907 342.34 94.5507C342.34 111.271 331.34 119.861 311.82 119.861L283.29 119.851ZM451.4 138.411L463.4 165.561H476.74L428.74 58.1807H416L367.83 165.561H380.83L392.83 138.411H451.4ZM446.19 126.601H398L422 72.1407L446.24 126.601H446.19ZM526.11 128.741L566.91 58.1807H554.35L519.99 114.181L485.17 58.1807H472.44L514.01 129.181V165.541H526.13V128.741H526.11Z\" fill=\"var(--jp-ui-font-color0)\"/>\n",
       "        <path d=\"M82.35 104.44C84.0187 97.8827 87.8248 92.0678 93.1671 87.9146C98.5094 83.7614 105.083 81.5067 111.85 81.5067C118.617 81.5067 125.191 83.7614 130.533 87.9146C135.875 92.0678 139.681 97.8827 141.35 104.44H163.75C164.476 101.562 165.622 98.8057 167.15 96.2605L127.45 56.5605C121.071 60.3522 113.526 61.6823 106.235 60.3005C98.9443 58.9187 92.4094 54.9203 87.8602 49.0574C83.3109 43.1946 81.0609 35.8714 81.5332 28.4656C82.0056 21.0599 85.1679 14.0819 90.4252 8.8446C95.6824 3.60726 102.672 0.471508 110.08 0.0272655C117.487 -0.416977 124.802 1.86091 130.647 6.4324C136.493 11.0039 140.467 17.5539 141.821 24.8501C143.175 32.1463 141.816 39.6859 138 46.0505L177.69 85.7505C182.31 82.9877 187.58 81.4995 192.962 81.4375C198.345 81.3755 203.648 82.742 208.33 85.3976C213.012 88.0532 216.907 91.9029 219.616 96.5544C222.326 101.206 223.753 106.492 223.753 111.875C223.753 117.258 222.326 122.545 219.616 127.197C216.907 131.848 213.012 135.698 208.33 138.353C203.648 141.009 198.345 142.375 192.962 142.313C187.58 142.251 182.31 140.763 177.69 138L138 177.7C141.808 184.071 143.155 191.614 141.79 198.91C140.424 206.205 136.44 212.75 130.585 217.313C124.731 221.875 117.412 224.141 110.004 223.683C102.596 223.226 95.6103 220.077 90.3621 214.828C85.1139 209.58 81.9647 202.595 81.5072 195.187C81.0497 187.779 83.3154 180.459 87.878 174.605C92.4405 168.751 98.9853 164.766 106.281 163.401C113.576 162.035 121.119 163.383 127.49 167.19L167.19 127.49C165.664 124.941 164.518 122.182 163.79 119.3H141.39C139.721 125.858 135.915 131.673 130.573 135.826C125.231 139.98 118.657 142.234 111.89 142.234C105.123 142.234 98.5494 139.98 93.2071 135.826C87.8648 131.673 84.0587 125.858 82.39 119.3H60C58.1878 126.495 53.8086 132.78 47.6863 136.971C41.5641 141.163 34.1211 142.972 26.7579 142.059C19.3947 141.146 12.6191 137.574 7.70605 132.014C2.79302 126.454 0.0813599 119.29 0.0813599 111.87C0.0813599 104.451 2.79302 97.2871 7.70605 91.7272C12.6191 86.1673 19.3947 82.5947 26.7579 81.6817C34.1211 80.7686 41.5641 82.5781 47.6863 86.7696C53.8086 90.9611 58.1878 97.2456 60 104.44H82.35ZM100.86 204.32C103.407 206.868 106.759 208.453 110.345 208.806C113.93 209.159 117.527 208.258 120.522 206.256C123.517 204.254 125.725 201.276 126.771 197.828C127.816 194.38 127.633 190.677 126.253 187.349C124.874 184.021 122.383 181.274 119.205 179.577C116.027 177.88 112.359 177.337 108.826 178.042C105.293 178.746 102.113 180.654 99.8291 183.44C97.5451 186.226 96.2979 189.718 96.3 193.32C96.2985 195.364 96.7006 197.388 97.4831 199.275C98.2656 201.163 99.4132 202.877 100.86 204.32ZM204.32 122.88C206.868 120.333 208.453 116.981 208.806 113.396C209.159 109.811 208.258 106.214 206.256 103.219C204.254 100.223 201.275 98.0151 197.827 96.97C194.38 95.9249 190.676 96.1077 187.348 97.4873C184.02 98.8669 181.274 101.358 179.577 104.536C177.879 107.714 177.337 111.382 178.041 114.915C178.746 118.448 180.653 121.627 183.439 123.911C186.226 126.195 189.717 127.443 193.32 127.44C195.364 127.443 197.388 127.042 199.275 126.259C201.163 125.476 202.878 124.328 204.32 122.88ZM122.88 19.4205C120.333 16.8729 116.981 15.2876 113.395 14.9347C109.81 14.5817 106.213 15.483 103.218 17.4849C100.223 19.4868 98.0146 22.4654 96.9696 25.9131C95.9245 29.3608 96.1073 33.0642 97.4869 36.3922C98.8665 39.7202 101.358 42.4668 104.535 44.1639C107.713 45.861 111.381 46.4036 114.914 45.6992C118.447 44.9949 121.627 43.0871 123.911 40.301C126.195 37.515 127.442 34.0231 127.44 30.4205C127.44 28.3772 127.038 26.3539 126.255 24.4664C125.473 22.5788 124.326 20.8642 122.88 19.4205ZM19.42 100.86C16.8725 103.408 15.2872 106.76 14.9342 110.345C14.5813 113.93 15.4826 117.527 17.4844 120.522C19.4863 123.518 22.4649 125.726 25.9127 126.771C29.3604 127.816 33.0638 127.633 36.3918 126.254C39.7198 124.874 42.4664 122.383 44.1635 119.205C45.8606 116.027 46.4032 112.359 45.6988 108.826C44.9944 105.293 43.0866 102.114 40.3006 99.8296C37.5145 97.5455 34.0227 96.2983 30.42 96.3005C26.2938 96.3018 22.337 97.9421 19.42 100.86ZM100.86 100.86C98.3125 103.408 96.7272 106.76 96.3742 110.345C96.0213 113.93 96.9226 117.527 98.9244 120.522C100.926 123.518 103.905 125.726 107.353 126.771C110.8 127.816 114.504 127.633 117.832 126.254C121.16 124.874 123.906 122.383 125.604 119.205C127.301 116.027 127.843 112.359 127.139 108.826C126.434 105.293 124.527 102.114 121.741 99.8296C118.955 97.5455 115.463 96.2983 111.86 96.3005C109.817 96.299 107.793 96.701 105.905 97.4835C104.018 98.2661 102.303 99.4136 100.86 100.86Z\" fill=\"#00AEEF\"/>\n",
       "    </g>\n",
       "    <defs>\n",
       "        <clipPath id=\"clip0_4338_178347\">\n",
       "            <rect width=\"566.93\" height=\"223.75\" fill=\"white\"/>\n",
       "        </clipPath>\n",
       "    </defs>\n",
       "  </svg>\n",
       "</div>\n",
       "\n",
       "        <table class=\"jp-RenderedHTMLCommon\" style=\"border-collapse: collapse;color: var(--jp-ui-font-color1);font-size: var(--jp-ui-font-size1);\">\n",
       "    <tr>\n",
       "        <td style=\"text-align: left\"><b>Python version:</b></td>\n",
       "        <td style=\"text-align: left\"><b>3.10.18</b></td>\n",
       "    </tr>\n",
       "    <tr>\n",
       "        <td style=\"text-align: left\"><b>Ray version:</b></td>\n",
       "        <td style=\"text-align: left\"><b>2.7.0</b></td>\n",
       "    </tr>\n",
       "    <tr>\n",
       "    <td style=\"text-align: left\"><b>Dashboard:</b></td>\n",
       "    <td style=\"text-align: left\"><b><a href=\"http://127.0.0.1:8265\" target=\"_blank\">http://127.0.0.1:8265</a></b></td>\n",
       "</tr>\n",
       "\n",
       "</table>\n",
       "\n",
       "    </div>\n",
       "</div>\n"
      ],
      "text/plain": [
       "RayContext(dashboard_url='127.0.0.1:8265', python_version='3.10.18', ray_version='2.7.0', ray_commit='b4bba4717f5ba04ee25580fe8f88eed63ef0c5dc', protocol_version=None)"
      ]
     },
     "execution_count": 2,
     "metadata": {},
     "output_type": "execute_result"
    },
    {
     "name": "stderr",
     "output_type": "stream",
     "text": [
      "\u001b[2m\u001b[36m(TorchTrainer pid=24048)\u001b[0m Starting distributed worker processes: ['18760 (127.0.0.1)']\n",
      "\u001b[2m\u001b[36m(RayTrainWorker pid=18760)\u001b[0m Setting up process group for: env:// [rank=0, world_size=1]\n",
      "\u001b[2m\u001b[36m(RayTrainWorker pid=18760)\u001b[0m [W ..\\torch\\csrc\\distributed\\c10d\\socket.cpp:601] [c10d] The client socket has failed to connect to [kubernetes.docker.internal]:51939 (system error: 10049 - The requested address is not valid in its context.).\n",
      "\u001b[2m\u001b[36m(RayTrainWorker pid=18760)\u001b[0m [W ..\\torch\\csrc\\distributed\\c10d\\socket.cpp:601] [c10d] The client socket has failed to connect to [kubernetes.docker.internal]:51939 (system error: 10049 - The requested address is not valid in its context.).\n",
      "\u001b[2m\u001b[36m(RayTrainWorker pid=18760)\u001b[0m C:\\Users\\sara\\AppData\\Roaming\\Python\\Python310\\site-packages\\huggingface_hub\\file_download.py:945: FutureWarning: `resume_download` is deprecated and will be removed in version 1.0.0. Downloads always resume when possible. If you want to force a new download, use `force_download=True`.\n",
      "\u001b[2m\u001b[36m(RayTrainWorker pid=18760)\u001b[0m   warnings.warn(\n",
      "\u001b[2m\u001b[36m(RayTrainWorker pid=18760)\u001b[0m Some weights of the model checkpoint at allenai/scibert_scivocab_uncased were not used when initializing BertModel: ['cls.predictions.transform.LayerNorm.bias', 'cls.predictions.transform.LayerNorm.weight', 'cls.predictions.transform.dense.bias', 'cls.predictions.decoder.bias', 'cls.seq_relationship.weight', 'cls.predictions.transform.dense.weight', 'cls.predictions.bias', 'cls.seq_relationship.bias', 'cls.predictions.decoder.weight']\n",
      "\u001b[2m\u001b[36m(RayTrainWorker pid=18760)\u001b[0m - This IS expected if you are initializing BertModel from the checkpoint of a model trained on another task or with another architecture (e.g. initializing a BertForSequenceClassification model from a BertForPreTraining model).\n",
      "\u001b[2m\u001b[36m(RayTrainWorker pid=18760)\u001b[0m - This IS NOT expected if you are initializing BertModel from the checkpoint of a model that you expect to be exactly identical (initializing a BertForSequenceClassification model from a BertForSequenceClassification model).\n",
      "\u001b[2m\u001b[36m(RayTrainWorker pid=18760)\u001b[0m Moving model to device: cpu\n",
      "\u001b[2m\u001b[36m(SplitCoordinator pid=3308)\u001b[0m Auto configuring locality_with_output=['1e7e87d0f7eb7067befcbb322abcdbb04a092c925a023e8e6d8c4da2']\n",
      "\u001b[2m\u001b[36m(SplitCoordinator pid=3308)\u001b[0m Executing DAG InputDataBuffer[Input] -> OutputSplitter[split(1, equal=True)]\n",
      "\u001b[2m\u001b[36m(SplitCoordinator pid=3308)\u001b[0m Execution config: ExecutionOptions(resource_limits=ExecutionResources(cpu=None, gpu=None, object_store_memory=None), locality_with_output=['1e7e87d0f7eb7067befcbb322abcdbb04a092c925a023e8e6d8c4da2'], preserve_order=True, actor_locality_enabled=True, verbose_progress=False)\n",
      "\u001b[2m\u001b[36m(SplitCoordinator pid=3308)\u001b[0m Tip: For detailed progress reporting, run `ray.data.DataContext.get_current().execution_options.verbose_progress = True`\n",
      "\u001b[2m\u001b[36m(RayTrainWorker pid=18760)\u001b[0m C:\\Users\\sara\\AppData\\Local\\Temp\\ipykernel_23712\\1695845173.py:8: UserWarning: The given NumPy array is not writable, and PyTorch does not support non-writable tensors. This means writing to this tensor will result in undefined behavior. You may want to copy the array to protect its data or make it writable before converting it to a tensor. This type of warning will be suppressed for the rest of this program. (Triggered internally at ..\\torch\\csrc\\utils\\tensor_numpy.cpp:212.)\n",
      "\u001b[2m\u001b[36m(RayTrainWorker pid=18760)\u001b[0m Checkpoint successfully created at: Checkpoint(filesystem=local, path=C:/Users/sara/ray_results\\llm\\TorchTrainer_90bd1_00000_0_2025-08-19_15-39-36\\checkpoint_000000)\n",
      "\u001b[2m\u001b[36m(SplitCoordinator pid=3308)\u001b[0m Executing DAG InputDataBuffer[Input] -> OutputSplitter[split(1, equal=True)]\n",
      "\u001b[2m\u001b[36m(SplitCoordinator pid=3308)\u001b[0m Execution config: ExecutionOptions(resource_limits=ExecutionResources(cpu=None, gpu=None, object_store_memory=None), locality_with_output=['1e7e87d0f7eb7067befcbb322abcdbb04a092c925a023e8e6d8c4da2'], preserve_order=True, actor_locality_enabled=True, verbose_progress=False)\n",
      "\u001b[2m\u001b[36m(SplitCoordinator pid=3308)\u001b[0m Tip: For detailed progress reporting, run `ray.data.DataContext.get_current().execution_options.verbose_progress = True`\n",
      "\u001b[2m\u001b[36m(RayTrainWorker pid=18760)\u001b[0m Checkpoint successfully created at: Checkpoint(filesystem=local, path=C:/Users/sara/ray_results\\llm\\TorchTrainer_90bd1_00000_0_2025-08-19_15-39-36\\checkpoint_000001)\n",
      "\u001b[2m\u001b[36m(SplitCoordinator pid=3308)\u001b[0m Executing DAG InputDataBuffer[Input] -> OutputSplitter[split(1, equal=True)]\n",
      "\u001b[2m\u001b[36m(SplitCoordinator pid=3308)\u001b[0m Execution config: ExecutionOptions(resource_limits=ExecutionResources(cpu=None, gpu=None, object_store_memory=None), locality_with_output=['1e7e87d0f7eb7067befcbb322abcdbb04a092c925a023e8e6d8c4da2'], preserve_order=True, actor_locality_enabled=True, verbose_progress=False)\n",
      "\u001b[2m\u001b[36m(SplitCoordinator pid=3308)\u001b[0m Tip: For detailed progress reporting, run `ray.data.DataContext.get_current().execution_options.verbose_progress = True`\n",
      "\u001b[2m\u001b[36m(RayTrainWorker pid=18760)\u001b[0m Checkpoint successfully created at: Checkpoint(filesystem=local, path=C:/Users/sara/ray_results\\llm\\TorchTrainer_90bd1_00000_0_2025-08-19_15-39-36\\checkpoint_000002)\n",
      "\u001b[2m\u001b[36m(SplitCoordinator pid=3308)\u001b[0m Executing DAG InputDataBuffer[Input] -> OutputSplitter[split(1, equal=True)]\n",
      "\u001b[2m\u001b[36m(SplitCoordinator pid=3308)\u001b[0m Execution config: ExecutionOptions(resource_limits=ExecutionResources(cpu=None, gpu=None, object_store_memory=None), locality_with_output=['1e7e87d0f7eb7067befcbb322abcdbb04a092c925a023e8e6d8c4da2'], preserve_order=True, actor_locality_enabled=True, verbose_progress=False)\n",
      "\u001b[2m\u001b[36m(SplitCoordinator pid=3308)\u001b[0m Tip: For detailed progress reporting, run `ray.data.DataContext.get_current().execution_options.verbose_progress = True`\n",
      "\u001b[2m\u001b[36m(RayTrainWorker pid=18760)\u001b[0m Checkpoint successfully created at: Checkpoint(filesystem=local, path=C:/Users/sara/ray_results\\llm\\TorchTrainer_90bd1_00000_0_2025-08-19_15-39-36\\checkpoint_000003)\n",
      "\u001b[2m\u001b[36m(SplitCoordinator pid=3308)\u001b[0m Executing DAG InputDataBuffer[Input] -> OutputSplitter[split(1, equal=True)]\n",
      "\u001b[2m\u001b[36m(SplitCoordinator pid=3308)\u001b[0m Execution config: ExecutionOptions(resource_limits=ExecutionResources(cpu=None, gpu=None, object_store_memory=None), locality_with_output=['1e7e87d0f7eb7067befcbb322abcdbb04a092c925a023e8e6d8c4da2'], preserve_order=True, actor_locality_enabled=True, verbose_progress=False)\n",
      "\u001b[2m\u001b[36m(SplitCoordinator pid=3308)\u001b[0m Tip: For detailed progress reporting, run `ray.data.DataContext.get_current().execution_options.verbose_progress = True`\n",
      "\u001b[2m\u001b[36m(RayTrainWorker pid=18760)\u001b[0m Checkpoint successfully created at: Checkpoint(filesystem=local, path=C:/Users/sara/ray_results\\llm\\TorchTrainer_90bd1_00000_0_2025-08-19_15-39-36\\checkpoint_000004)\n",
      "\u001b[2m\u001b[36m(SplitCoordinator pid=3308)\u001b[0m Executing DAG InputDataBuffer[Input] -> OutputSplitter[split(1, equal=True)]\n",
      "\u001b[2m\u001b[36m(SplitCoordinator pid=3308)\u001b[0m Execution config: ExecutionOptions(resource_limits=ExecutionResources(cpu=None, gpu=None, object_store_memory=None), locality_with_output=['1e7e87d0f7eb7067befcbb322abcdbb04a092c925a023e8e6d8c4da2'], preserve_order=True, actor_locality_enabled=True, verbose_progress=False)\n",
      "\u001b[2m\u001b[36m(SplitCoordinator pid=3308)\u001b[0m Tip: For detailed progress reporting, run `ray.data.DataContext.get_current().execution_options.verbose_progress = True`\n",
      "\u001b[2m\u001b[36m(RayTrainWorker pid=18760)\u001b[0m Checkpoint successfully created at: Checkpoint(filesystem=local, path=C:/Users/sara/ray_results\\llm\\TorchTrainer_90bd1_00000_0_2025-08-19_15-39-36\\checkpoint_000005)\n",
      "\u001b[2m\u001b[36m(SplitCoordinator pid=3308)\u001b[0m Executing DAG InputDataBuffer[Input] -> OutputSplitter[split(1, equal=True)]\n",
      "\u001b[2m\u001b[36m(SplitCoordinator pid=3308)\u001b[0m Execution config: ExecutionOptions(resource_limits=ExecutionResources(cpu=None, gpu=None, object_store_memory=None), locality_with_output=['1e7e87d0f7eb7067befcbb322abcdbb04a092c925a023e8e6d8c4da2'], preserve_order=True, actor_locality_enabled=True, verbose_progress=False)\n",
      "\u001b[2m\u001b[36m(SplitCoordinator pid=3308)\u001b[0m Tip: For detailed progress reporting, run `ray.data.DataContext.get_current().execution_options.verbose_progress = True`\n",
      "\u001b[2m\u001b[36m(RayTrainWorker pid=18760)\u001b[0m Checkpoint successfully created at: Checkpoint(filesystem=local, path=C:/Users/sara/ray_results\\llm\\TorchTrainer_90bd1_00000_0_2025-08-19_15-39-36\\checkpoint_000006)\n",
      "\u001b[2m\u001b[36m(SplitCoordinator pid=3308)\u001b[0m Executing DAG InputDataBuffer[Input] -> OutputSplitter[split(1, equal=True)]\n",
      "\u001b[2m\u001b[36m(SplitCoordinator pid=3308)\u001b[0m Execution config: ExecutionOptions(resource_limits=ExecutionResources(cpu=None, gpu=None, object_store_memory=None), locality_with_output=['1e7e87d0f7eb7067befcbb322abcdbb04a092c925a023e8e6d8c4da2'], preserve_order=True, actor_locality_enabled=True, verbose_progress=False)\n",
      "\u001b[2m\u001b[36m(SplitCoordinator pid=3308)\u001b[0m Tip: For detailed progress reporting, run `ray.data.DataContext.get_current().execution_options.verbose_progress = True`\n",
      "\u001b[2m\u001b[36m(RayTrainWorker pid=18760)\u001b[0m Checkpoint successfully created at: Checkpoint(filesystem=local, path=C:/Users/sara/ray_results\\llm\\TorchTrainer_90bd1_00000_0_2025-08-19_15-39-36\\checkpoint_000007)\n",
      "\u001b[2m\u001b[36m(SplitCoordinator pid=3308)\u001b[0m Executing DAG InputDataBuffer[Input] -> OutputSplitter[split(1, equal=True)]\n",
      "\u001b[2m\u001b[36m(SplitCoordinator pid=3308)\u001b[0m Execution config: ExecutionOptions(resource_limits=ExecutionResources(cpu=None, gpu=None, object_store_memory=None), locality_with_output=['1e7e87d0f7eb7067befcbb322abcdbb04a092c925a023e8e6d8c4da2'], preserve_order=True, actor_locality_enabled=True, verbose_progress=False)\n",
      "\u001b[2m\u001b[36m(SplitCoordinator pid=3308)\u001b[0m Tip: For detailed progress reporting, run `ray.data.DataContext.get_current().execution_options.verbose_progress = True`\n",
      "\u001b[2m\u001b[36m(RayTrainWorker pid=18760)\u001b[0m Checkpoint successfully created at: Checkpoint(filesystem=local, path=C:/Users/sara/ray_results\\llm\\TorchTrainer_90bd1_00000_0_2025-08-19_15-39-36\\checkpoint_000008)\n",
      "\u001b[2m\u001b[36m(SplitCoordinator pid=3308)\u001b[0m Executing DAG InputDataBuffer[Input] -> OutputSplitter[split(1, equal=True)]\n",
      "\u001b[2m\u001b[36m(SplitCoordinator pid=3308)\u001b[0m Execution config: ExecutionOptions(resource_limits=ExecutionResources(cpu=None, gpu=None, object_store_memory=None), locality_with_output=['1e7e87d0f7eb7067befcbb322abcdbb04a092c925a023e8e6d8c4da2'], preserve_order=True, actor_locality_enabled=True, verbose_progress=False)\n",
      "\u001b[2m\u001b[36m(SplitCoordinator pid=3308)\u001b[0m Tip: For detailed progress reporting, run `ray.data.DataContext.get_current().execution_options.verbose_progress = True`\n",
      "\u001b[2m\u001b[36m(RayTrainWorker pid=18760)\u001b[0m Checkpoint successfully created at: Checkpoint(filesystem=local, path=C:/Users/sara/ray_results\\llm\\TorchTrainer_90bd1_00000_0_2025-08-19_15-39-36\\checkpoint_000009)\n"
     ]
    }
   ],
   "source": [
    "# Initialize Ray\n",
    "if ray.is_initialized():\n",
    "    ray.shutdown()\n",
    "ray.init()"
   ]
  },
  {
   "cell_type": "code",
   "execution_count": 3,
   "id": "83d461df",
   "metadata": {},
   "outputs": [
    {
     "data": {
      "text/plain": [
       "{'object_store_memory': 263405568.0,\n",
       " 'memory': 526811136.0,\n",
       " 'node:127.0.0.1': 1.0,\n",
       " 'GPU': 1.0,\n",
       " 'node:__internal_head__': 1.0,\n",
       " 'CPU': 12.0}"
      ]
     },
     "execution_count": 3,
     "metadata": {},
     "output_type": "execute_result"
    }
   ],
   "source": [
    "ray.cluster_resources()"
   ]
  },
  {
   "cell_type": "code",
   "execution_count": 4,
   "id": "e1918991",
   "metadata": {},
   "outputs": [],
   "source": [
    "num_workers = 1 \n",
    "resources_per_worker={\"CPU\": 2, \"GPU\": 1}  \n",
    "\n"
   ]
  },
  {
   "cell_type": "code",
   "execution_count": 5,
   "id": "f5567b75",
   "metadata": {},
   "outputs": [
    {
     "name": "stdout",
     "output_type": "stream",
     "text": [
      "Storage path: C:\\Users\\sara/ray_results/sara12312\n"
     ]
    }
   ],
   "source": [
    "load_dotenv()\n",
    "LOCAL_DIR = os.path.expanduser(f\"~/ray_results/{os.getenv('GITHUB_USERNAME')}\")\n",
    "os.makedirs(LOCAL_DIR, exist_ok=True)\n",
    "print(\"Storage path:\", LOCAL_DIR)\n"
   ]
  },
  {
   "cell_type": "markdown",
   "id": "ed6f9adc",
   "metadata": {},
   "source": [
    "## 📥 Data Ingestion"
   ]
  },
  {
   "cell_type": "code",
   "execution_count": 6,
   "id": "92b2f586",
   "metadata": {},
   "outputs": [
    {
     "data": {
      "application/vnd.microsoft.datawrangler.viewer.v0+json": {
       "columns": [
        {
         "name": "index",
         "rawType": "int64",
         "type": "integer"
        },
        {
         "name": "id",
         "rawType": "int64",
         "type": "integer"
        },
        {
         "name": "created_on",
         "rawType": "object",
         "type": "string"
        },
        {
         "name": "title",
         "rawType": "object",
         "type": "string"
        },
        {
         "name": "description",
         "rawType": "object",
         "type": "string"
        },
        {
         "name": "tag",
         "rawType": "object",
         "type": "string"
        }
       ],
       "ref": "510f668e-5c35-4ceb-8883-1ea3aea57eb4",
       "rows": [
        [
         "0",
         "6",
         "2020-02-20 06:43:18",
         "Comparison between YOLO and RCNN on real world videos",
         "Bringing theory to experiment is cool. We can easily train models in colab and find the results in minutes.",
         "computer-vision"
        ],
        [
         "1",
         "7",
         "2020-02-20 06:47:21",
         "Show, Infer & Tell: Contextual Inference for Creative Captioning",
         "The beauty of the work lies in the way it architects the fundamental idea that humans look at the overall image and then individual pieces of it.\n",
         "computer-vision"
        ],
        [
         "2",
         "9",
         "2020-02-24 16:24:45",
         "Awesome Graph Classification",
         "A collection of important graph embedding, classification and representation learning papers with implementations.",
         "other"
        ],
        [
         "3",
         "15",
         "2020-02-28 23:55:26",
         "Awesome Monte Carlo Tree Search",
         "A curated list of Monte Carlo tree search papers with implementations. ",
         "other"
        ],
        [
         "4",
         "25",
         "2020-03-07 23:04:31",
         "AttentionWalk",
         "A PyTorch Implementation of \"Watch Your Step: Learning Node Embeddings via Graph Attention\" (NeurIPS 2018). ",
         "other"
        ]
       ],
       "shape": {
        "columns": 5,
        "rows": 5
       }
      },
      "text/html": [
       "<div>\n",
       "<style scoped>\n",
       "    .dataframe tbody tr th:only-of-type {\n",
       "        vertical-align: middle;\n",
       "    }\n",
       "\n",
       "    .dataframe tbody tr th {\n",
       "        vertical-align: top;\n",
       "    }\n",
       "\n",
       "    .dataframe thead th {\n",
       "        text-align: right;\n",
       "    }\n",
       "</style>\n",
       "<table border=\"1\" class=\"dataframe\">\n",
       "  <thead>\n",
       "    <tr style=\"text-align: right;\">\n",
       "      <th></th>\n",
       "      <th>id</th>\n",
       "      <th>created_on</th>\n",
       "      <th>title</th>\n",
       "      <th>description</th>\n",
       "      <th>tag</th>\n",
       "    </tr>\n",
       "  </thead>\n",
       "  <tbody>\n",
       "    <tr>\n",
       "      <th>0</th>\n",
       "      <td>6</td>\n",
       "      <td>2020-02-20 06:43:18</td>\n",
       "      <td>Comparison between YOLO and RCNN on real world...</td>\n",
       "      <td>Bringing theory to experiment is cool. We can ...</td>\n",
       "      <td>computer-vision</td>\n",
       "    </tr>\n",
       "    <tr>\n",
       "      <th>1</th>\n",
       "      <td>7</td>\n",
       "      <td>2020-02-20 06:47:21</td>\n",
       "      <td>Show, Infer &amp; Tell: Contextual Inference for C...</td>\n",
       "      <td>The beauty of the work lies in the way it arch...</td>\n",
       "      <td>computer-vision</td>\n",
       "    </tr>\n",
       "    <tr>\n",
       "      <th>2</th>\n",
       "      <td>9</td>\n",
       "      <td>2020-02-24 16:24:45</td>\n",
       "      <td>Awesome Graph Classification</td>\n",
       "      <td>A collection of important graph embedding, cla...</td>\n",
       "      <td>other</td>\n",
       "    </tr>\n",
       "    <tr>\n",
       "      <th>3</th>\n",
       "      <td>15</td>\n",
       "      <td>2020-02-28 23:55:26</td>\n",
       "      <td>Awesome Monte Carlo Tree Search</td>\n",
       "      <td>A curated list of Monte Carlo tree search pape...</td>\n",
       "      <td>other</td>\n",
       "    </tr>\n",
       "    <tr>\n",
       "      <th>4</th>\n",
       "      <td>25</td>\n",
       "      <td>2020-03-07 23:04:31</td>\n",
       "      <td>AttentionWalk</td>\n",
       "      <td>A PyTorch Implementation of \"Watch Your Step: ...</td>\n",
       "      <td>other</td>\n",
       "    </tr>\n",
       "  </tbody>\n",
       "</table>\n",
       "</div>"
      ],
      "text/plain": [
       "   id           created_on                                              title   \n",
       "0   6  2020-02-20 06:43:18  Comparison between YOLO and RCNN on real world...  \\\n",
       "1   7  2020-02-20 06:47:21  Show, Infer & Tell: Contextual Inference for C...   \n",
       "2   9  2020-02-24 16:24:45                       Awesome Graph Classification   \n",
       "3  15  2020-02-28 23:55:26                    Awesome Monte Carlo Tree Search   \n",
       "4  25  2020-03-07 23:04:31                                      AttentionWalk   \n",
       "\n",
       "                                         description              tag  \n",
       "0  Bringing theory to experiment is cool. We can ...  computer-vision  \n",
       "1  The beauty of the work lies in the way it arch...  computer-vision  \n",
       "2  A collection of important graph embedding, cla...            other  \n",
       "3  A curated list of Monte Carlo tree search pape...            other  \n",
       "4  A PyTorch Implementation of \"Watch Your Step: ...            other  "
      ]
     },
     "execution_count": 6,
     "metadata": {},
     "output_type": "execute_result"
    }
   ],
   "source": [
    "# Data ingestion\n",
    "DATASET_LOC = \"https://raw.githubusercontent.com/GokuMohandas/Made-With-ML/main/datasets/dataset.csv\"\n",
    "df = pd.read_csv(DATASET_LOC)\n",
    "df.head()"
   ]
  },
  {
   "cell_type": "code",
   "execution_count": 7,
   "id": "698a0878",
   "metadata": {},
   "outputs": [
    {
     "data": {
      "application/vnd.microsoft.datawrangler.viewer.v0+json": {
       "columns": [
        {
         "name": "tag",
         "rawType": "object",
         "type": "string"
        },
        {
         "name": "count",
         "rawType": "int64",
         "type": "integer"
        }
       ],
       "ref": "601d00d8-2d29-4bfa-872d-3af08d8db8c3",
       "rows": [
        [
         "natural-language-processing",
         "310"
        ],
        [
         "computer-vision",
         "285"
        ],
        [
         "other",
         "106"
        ],
        [
         "mlops",
         "63"
        ]
       ],
       "shape": {
        "columns": 1,
        "rows": 4
       }
      },
      "text/plain": [
       "tag\n",
       "natural-language-processing    310\n",
       "computer-vision                285\n",
       "other                          106\n",
       "mlops                           63\n",
       "Name: count, dtype: int64"
      ]
     },
     "execution_count": 7,
     "metadata": {},
     "output_type": "execute_result"
    }
   ],
   "source": [
    "df.tag.value_counts()"
   ]
  },
  {
   "cell_type": "markdown",
   "id": "fe4ca47f",
   "metadata": {},
   "source": [
    "## ✂️ Data Splitting"
   ]
  },
  {
   "cell_type": "code",
   "execution_count": 8,
   "id": "a95562d6",
   "metadata": {},
   "outputs": [],
   "source": [
    "# Split dataset\n",
    "train_df, val_df = train_test_split(df, stratify=df.tag, test_size=0.2, random_state=42)\n"
   ]
  },
  {
   "cell_type": "code",
   "execution_count": 9,
   "id": "80052b3d",
   "metadata": {},
   "outputs": [
    {
     "data": {
      "application/vnd.microsoft.datawrangler.viewer.v0+json": {
       "columns": [
        {
         "name": "tag",
         "rawType": "object",
         "type": "string"
        },
        {
         "name": "count",
         "rawType": "int64",
         "type": "integer"
        }
       ],
       "ref": "daf62666-c9f7-42a0-bbbf-9752f677f3a6",
       "rows": [
        [
         "natural-language-processing",
         "248"
        ],
        [
         "computer-vision",
         "228"
        ],
        [
         "other",
         "85"
        ],
        [
         "mlops",
         "50"
        ]
       ],
       "shape": {
        "columns": 1,
        "rows": 4
       }
      },
      "text/plain": [
       "tag\n",
       "natural-language-processing    248\n",
       "computer-vision                228\n",
       "other                           85\n",
       "mlops                           50\n",
       "Name: count, dtype: int64"
      ]
     },
     "execution_count": 9,
     "metadata": {},
     "output_type": "execute_result"
    }
   ],
   "source": [
    "# Train value counts\n",
    "train_df.tag.value_counts()\n"
   ]
  },
  {
   "cell_type": "code",
   "execution_count": 10,
   "id": "2486bba1",
   "metadata": {},
   "outputs": [
    {
     "data": {
      "application/vnd.microsoft.datawrangler.viewer.v0+json": {
       "columns": [
        {
         "name": "tag",
         "rawType": "object",
         "type": "string"
        },
        {
         "name": "count",
         "rawType": "int64",
         "type": "integer"
        }
       ],
       "ref": "0ee46a39-9f07-49a7-9961-e416ac94c85e",
       "rows": [
        [
         "natural-language-processing",
         "248"
        ],
        [
         "computer-vision",
         "228"
        ],
        [
         "other",
         "84"
        ],
        [
         "mlops",
         "52"
        ]
       ],
       "shape": {
        "columns": 1,
        "rows": 4
       }
      },
      "text/plain": [
       "tag\n",
       "natural-language-processing    248\n",
       "computer-vision                228\n",
       "other                           84\n",
       "mlops                           52\n",
       "Name: count, dtype: int64"
      ]
     },
     "execution_count": 10,
     "metadata": {},
     "output_type": "execute_result"
    }
   ],
   "source": [
    "# Validation (adjusted) value counts\n",
    "val_df.tag.value_counts()* int((1-0.2) / 0.2)"
   ]
  },
  {
   "cell_type": "markdown",
   "id": "24b33521",
   "metadata": {},
   "source": [
    "## 📊 Exploratory Data Analysis (EDA)"
   ]
  },
  {
   "cell_type": "code",
   "execution_count": 11,
   "id": "d805782a",
   "metadata": {},
   "outputs": [
    {
     "data": {
      "application/vnd.microsoft.datawrangler.viewer.v0+json": {
       "columns": [
        {
         "name": "tag",
         "rawType": "object",
         "type": "string"
        },
        {
         "name": "count",
         "rawType": "int64",
         "type": "integer"
        }
       ],
       "ref": "ff6af8fc-3eaa-4fb7-a899-4fb40f23b9dd",
       "rows": [
        [
         "natural-language-processing",
         "310"
        ],
        [
         "computer-vision",
         "285"
        ],
        [
         "other",
         "106"
        ],
        [
         "mlops",
         "63"
        ]
       ],
       "shape": {
        "columns": 1,
        "rows": 4
       }
      },
      "text/plain": [
       "tag\n",
       "natural-language-processing    310\n",
       "computer-vision                285\n",
       "other                          106\n",
       "mlops                           63\n",
       "Name: count, dtype: int64"
      ]
     },
     "execution_count": 11,
     "metadata": {},
     "output_type": "execute_result"
    }
   ],
   "source": [
    "# check most common tags\n",
    "df.tag.value_counts()\n"
   ]
  },
  {
   "cell_type": "code",
   "execution_count": 12,
   "id": "e209d9c7",
   "metadata": {},
   "outputs": [
    {
     "data": {
      "application/vnd.microsoft.datawrangler.viewer.v0+json": {
       "columns": [
        {
         "name": "index",
         "rawType": "object",
         "type": "string"
        },
        {
         "name": "0",
         "rawType": "int64",
         "type": "integer"
        }
       ],
       "ref": "721acbc7-d119-42f6-ab7f-e34f680af74d",
       "rows": [
        [
         "id",
         "0"
        ],
        [
         "created_on",
         "0"
        ],
        [
         "title",
         "0"
        ],
        [
         "description",
         "0"
        ],
        [
         "tag",
         "0"
        ]
       ],
       "shape": {
        "columns": 1,
        "rows": 5
       }
      },
      "text/plain": [
       "id             0\n",
       "created_on     0\n",
       "title          0\n",
       "description    0\n",
       "tag            0\n",
       "dtype: int64"
      ]
     },
     "execution_count": 12,
     "metadata": {},
     "output_type": "execute_result"
    }
   ],
   "source": [
    "# Check nulls\n",
    "df.isnull().sum()"
   ]
  },
  {
   "cell_type": "code",
   "execution_count": 13,
   "id": "e4716b47",
   "metadata": {},
   "outputs": [
    {
     "data": {
      "text/plain": [
       "0"
      ]
     },
     "execution_count": 13,
     "metadata": {},
     "output_type": "execute_result"
    }
   ],
   "source": [
    "# Check duplicates\n",
    "df.duplicated().sum()"
   ]
  },
  {
   "cell_type": "code",
   "execution_count": 14,
   "id": "3a73c54b",
   "metadata": {},
   "outputs": [
    {
     "data": {
      "image/png": "[encoded data removed]",
      "text/plain": [
       "<Figure size 1200x600 with 1 Axes>"
      ]
     },
     "metadata": {},
     "output_type": "display_data"
    }
   ],
   "source": [
    "# plot tag distribution\n",
    "plt.figure(figsize=(12, 6))\n",
    "sns.countplot(data=df, x='tag', order=df['tag'].value_counts().index)\n",
    "plt.title('Tag Distribution')\n",
    "plt.xticks()\n",
    "plt.show()\n"
   ]
  },
  {
   "cell_type": "code",
   "execution_count": 15,
   "id": "b60ee1ba",
   "metadata": {},
   "outputs": [
    {
     "data": {
      "application/vnd.jupyter.widget-view+json": {
       "model_id": "e3dbb3ed21b5491c99513eb7da9d5864",
       "version_major": 2,
       "version_minor": 0
      },
      "text/plain": [
       "interactive(children=(Dropdown(description='Select Tag:', options=('computer-vision', 'other', 'natural-langua…"
      ]
     },
     "metadata": {},
     "output_type": "display_data"
    },
    {
     "data": {
      "text/plain": [
       "<function __main__.show_wordcloud(tag)>"
      ]
     },
     "execution_count": 15,
     "metadata": {},
     "output_type": "execute_result"
    }
   ],
   "source": [
    "# Most frequent tokens for each tag \n",
    "def show_wordcloud(tag):\n",
    "    text = \" \".join(df[df[\"tag\"] == tag][\"title\"].astype(str) + \" \" +\n",
    "                    df[df[\"tag\"] == tag][\"description\"].astype(str))\n",
    "    \n",
    "    wc = WordCloud(width=800, height=400, background_color=\"black\", mode=\"RGB\").generate(text)\n",
    "    \n",
    "    fig, ax = plt.subplots(figsize=(10, 5), facecolor=\"black\")\n",
    "    ax.imshow(wc, interpolation=\"bilinear\")\n",
    "    ax.set_facecolor(\"black\")  # Axes background\n",
    "    ax.axis(\"off\")\n",
    "    ax.set_title(f\"Word Cloud for tag: {tag}\", fontsize=16, color=\"white\")\n",
    "    \n",
    "    # Force black canvas when saving or rendering\n",
    "    fig.patch.set_facecolor(\"black\")\n",
    "    plt.tight_layout(pad=0)\n",
    "    plt.show()\n",
    "\n",
    "# Create dropdown with unique tags\n",
    "tags = df[\"tag\"].unique()\n",
    "interact(show_wordcloud, tag=Dropdown(options=tags, description=\"Select Tag:\"))"
   ]
  },
  {
   "cell_type": "markdown",
   "id": "504b810f",
   "metadata": {},
   "source": [
    "## ✨ Data Preprocessing"
   ]
  },
  {
   "cell_type": "markdown",
   "id": "53964907",
   "metadata": {},
   "source": [
    "### Feature Engineering"
   ]
  },
  {
   "cell_type": "code",
   "execution_count": 16,
   "id": "13c05c94",
   "metadata": {},
   "outputs": [],
   "source": [
    "# combine title and description\n",
    "df['text'] = (df[\"title\"] + \" \" + df[\"description\"])"
   ]
  },
  {
   "cell_type": "markdown",
   "id": "2dad96fe",
   "metadata": {},
   "source": [
    "### Cleaning"
   ]
  },
  {
   "cell_type": "code",
   "execution_count": 17,
   "id": "1a49f70f",
   "metadata": {},
   "outputs": [
    {
     "name": "stderr",
     "output_type": "stream",
     "text": [
      "[nltk_data] Downloading package stopwords to\n",
      "[nltk_data]     C:\\Users\\sara\\AppData\\Roaming\\nltk_data...\n",
      "[nltk_data]   Package stopwords is already up-to-date!\n"
     ]
    }
   ],
   "source": [
    "# Download NLTK stopwords\n",
    "nltk.download(\"stopwords\")\n",
    "STOPWORDS = stopwords.words(\"english\")"
   ]
  },
  {
   "cell_type": "code",
   "execution_count": 18,
   "id": "2fd46cd3",
   "metadata": {},
   "outputs": [],
   "source": [
    "# text cleaning\n",
    "def clean_text(text, stopwords=STOPWORDS):\n",
    "    \"\"\"Clean raw text string.\"\"\"\n",
    "    # Lower\n",
    "    text = text.lower()\n",
    "\n",
    "    # Remove stopwords\n",
    "    pattern = re.compile(r'\\b(' + r\"|\".join(stopwords) + r\")\\b\\s*\")\n",
    "    text = pattern.sub('', text)\n",
    "\n",
    "    # Spacing and filters\n",
    "    text = re.sub(r\"([!\\\"'#$%&()*\\+,-./:;<=>?@\\\\\\[\\]^_`{|}~])\", r\" \\1 \", text)  # add spacing\n",
    "    text = re.sub(\"[^A-Za-z0-9]+\", \" \", text)  # remove non alphanumeric chars\n",
    "    text = re.sub(\" +\", \" \", text)  # remove multiple spaces\n",
    "    text = text.strip()  # strip white space at the ends\n",
    "    text = re.sub(r\"http\\S+\", \"\", text)  #  remove links\n",
    "\n",
    "    return text"
   ]
  },
  {
   "cell_type": "code",
   "execution_count": 19,
   "id": "e8e29ea5",
   "metadata": {},
   "outputs": [
    {
     "name": "stdout",
     "output_type": "stream",
     "text": [
      "Comparison between YOLO and RCNN on real world videos Bringing theory to experiment is cool. We can easily train models in colab and find the results in minutes.\n",
      "comparison yolo rcnn real world videos bringing theory experiment cool easily train models colab find results minutes\n"
     ]
    }
   ],
   "source": [
    "# Apply to dataframe\n",
    "original_df = df.copy()\n",
    "df.text = df.text.apply(clean_text)\n",
    "print (f\"{original_df.text.values[0]}\\n{df.text.values[0]}\")"
   ]
  },
  {
   "cell_type": "code",
   "execution_count": 20,
   "id": "092d7c7f",
   "metadata": {},
   "outputs": [
    {
     "data": {
      "application/vnd.microsoft.datawrangler.viewer.v0+json": {
       "columns": [
        {
         "name": "index",
         "rawType": "int64",
         "type": "integer"
        },
        {
         "name": "text",
         "rawType": "object",
         "type": "string"
        },
        {
         "name": "tag",
         "rawType": "object",
         "type": "string"
        }
       ],
       "ref": "bf65882d-96e7-49f5-bd91-6fc99a8b69fb",
       "rows": [
        [
         "0",
         "comparison yolo rcnn real world videos bringing theory experiment cool easily train models colab find results minutes",
         "computer-vision"
        ],
        [
         "1",
         "show infer tell contextual inference creative captioning beauty work lies way architects fundamental idea humans look overall image individual pieces",
         "computer-vision"
        ],
        [
         "2",
         "awesome graph classification collection important graph embedding classification representation learning papers implementations",
         "other"
        ],
        [
         "3",
         "awesome monte carlo tree search curated list monte carlo tree search papers implementations",
         "other"
        ],
        [
         "4",
         "attentionwalk pytorch implementation watch step learning node embeddings via graph attention neurips 2018",
         "other"
        ]
       ],
       "shape": {
        "columns": 2,
        "rows": 5
       }
      },
      "text/html": [
       "<div>\n",
       "<style scoped>\n",
       "    .dataframe tbody tr th:only-of-type {\n",
       "        vertical-align: middle;\n",
       "    }\n",
       "\n",
       "    .dataframe tbody tr th {\n",
       "        vertical-align: top;\n",
       "    }\n",
       "\n",
       "    .dataframe thead th {\n",
       "        text-align: right;\n",
       "    }\n",
       "</style>\n",
       "<table border=\"1\" class=\"dataframe\">\n",
       "  <thead>\n",
       "    <tr style=\"text-align: right;\">\n",
       "      <th></th>\n",
       "      <th>text</th>\n",
       "      <th>tag</th>\n",
       "    </tr>\n",
       "  </thead>\n",
       "  <tbody>\n",
       "    <tr>\n",
       "      <th>0</th>\n",
       "      <td>comparison yolo rcnn real world videos bringin...</td>\n",
       "      <td>computer-vision</td>\n",
       "    </tr>\n",
       "    <tr>\n",
       "      <th>1</th>\n",
       "      <td>show infer tell contextual inference creative ...</td>\n",
       "      <td>computer-vision</td>\n",
       "    </tr>\n",
       "    <tr>\n",
       "      <th>2</th>\n",
       "      <td>awesome graph classification collection import...</td>\n",
       "      <td>other</td>\n",
       "    </tr>\n",
       "    <tr>\n",
       "      <th>3</th>\n",
       "      <td>awesome monte carlo tree search curated list m...</td>\n",
       "      <td>other</td>\n",
       "    </tr>\n",
       "    <tr>\n",
       "      <th>4</th>\n",
       "      <td>attentionwalk pytorch implementation watch ste...</td>\n",
       "      <td>other</td>\n",
       "    </tr>\n",
       "  </tbody>\n",
       "</table>\n",
       "</div>"
      ],
      "text/plain": [
       "                                                text              tag\n",
       "0  comparison yolo rcnn real world videos bringin...  computer-vision\n",
       "1  show infer tell contextual inference creative ...  computer-vision\n",
       "2  awesome graph classification collection import...            other\n",
       "3  awesome monte carlo tree search curated list m...            other\n",
       "4  attentionwalk pytorch implementation watch ste...            other"
      ]
     },
     "execution_count": 20,
     "metadata": {},
     "output_type": "execute_result"
    }
   ],
   "source": [
    "# DataFrame cleanup\n",
    "df = df.drop(columns=[\"id\", \"created_on\", \"title\", \"description\"], errors=\"ignore\")  # drop cols\n",
    "df = df[[\"text\", \"tag\"]]  # rearrange cols\n",
    "df.head()"
   ]
  },
  {
   "cell_type": "markdown",
   "id": "869fde60",
   "metadata": {},
   "source": [
    "### Label Encoding"
   ]
  },
  {
   "cell_type": "code",
   "execution_count": 21,
   "id": "8388c731",
   "metadata": {},
   "outputs": [
    {
     "name": "stdout",
     "output_type": "stream",
     "text": [
      "Class_to_index: {'computer-vision': 0, 'mlops': 1, 'natural-language-processing': 2, 'other': 3}\n",
      "Index to class: {0: 'computer-vision', 1: 'mlops', 2: 'natural-language-processing', 3: 'other'}\n"
     ]
    }
   ],
   "source": [
    "#  Convert column to categorical\n",
    "df['tag'] = df['tag'].astype('category')\n",
    "\n",
    "#  Save the mapping\n",
    "index_to_class = dict(enumerate(df['tag'].cat.categories))\n",
    "class_to_index = {v: k for k, v in index_to_class.items()}\n",
    "\n",
    "print(\"Class_to_index:\", class_to_index)\n",
    "print(\"Index to class:\", index_to_class)\n",
    "\n",
    "#  Replace column with codes\n",
    "df['tag'] = df['tag'].cat.codes\n",
    "\n",
    "# Decode function\n",
    "def decode(indices, index_to_class=index_to_class):\n",
    "    \"\"\"Convert numeric predictions back to class labels.\"\"\"\n",
    "    return [index_to_class[i] for i in indices]"
   ]
  },
  {
   "cell_type": "code",
   "execution_count": 22,
   "id": "3b80356d",
   "metadata": {},
   "outputs": [
    {
     "data": {
      "application/vnd.microsoft.datawrangler.viewer.v0+json": {
       "columns": [
        {
         "name": "index",
         "rawType": "int64",
         "type": "integer"
        },
        {
         "name": "text",
         "rawType": "object",
         "type": "string"
        },
        {
         "name": "tag",
         "rawType": "int8",
         "type": "integer"
        }
       ],
       "ref": "645197bf-3dec-4b30-8102-a7d9bb9a29f7",
       "rows": [
        [
         "0",
         "comparison yolo rcnn real world videos bringing theory experiment cool easily train models colab find results minutes",
         "0"
        ],
        [
         "1",
         "show infer tell contextual inference creative captioning beauty work lies way architects fundamental idea humans look overall image individual pieces",
         "0"
        ],
        [
         "2",
         "awesome graph classification collection important graph embedding classification representation learning papers implementations",
         "3"
        ],
        [
         "3",
         "awesome monte carlo tree search curated list monte carlo tree search papers implementations",
         "3"
        ],
        [
         "4",
         "attentionwalk pytorch implementation watch step learning node embeddings via graph attention neurips 2018",
         "3"
        ]
       ],
       "shape": {
        "columns": 2,
        "rows": 5
       }
      },
      "text/html": [
       "<div>\n",
       "<style scoped>\n",
       "    .dataframe tbody tr th:only-of-type {\n",
       "        vertical-align: middle;\n",
       "    }\n",
       "\n",
       "    .dataframe tbody tr th {\n",
       "        vertical-align: top;\n",
       "    }\n",
       "\n",
       "    .dataframe thead th {\n",
       "        text-align: right;\n",
       "    }\n",
       "</style>\n",
       "<table border=\"1\" class=\"dataframe\">\n",
       "  <thead>\n",
       "    <tr style=\"text-align: right;\">\n",
       "      <th></th>\n",
       "      <th>text</th>\n",
       "      <th>tag</th>\n",
       "    </tr>\n",
       "  </thead>\n",
       "  <tbody>\n",
       "    <tr>\n",
       "      <th>0</th>\n",
       "      <td>comparison yolo rcnn real world videos bringin...</td>\n",
       "      <td>0</td>\n",
       "    </tr>\n",
       "    <tr>\n",
       "      <th>1</th>\n",
       "      <td>show infer tell contextual inference creative ...</td>\n",
       "      <td>0</td>\n",
       "    </tr>\n",
       "    <tr>\n",
       "      <th>2</th>\n",
       "      <td>awesome graph classification collection import...</td>\n",
       "      <td>3</td>\n",
       "    </tr>\n",
       "    <tr>\n",
       "      <th>3</th>\n",
       "      <td>awesome monte carlo tree search curated list m...</td>\n",
       "      <td>3</td>\n",
       "    </tr>\n",
       "    <tr>\n",
       "      <th>4</th>\n",
       "      <td>attentionwalk pytorch implementation watch ste...</td>\n",
       "      <td>3</td>\n",
       "    </tr>\n",
       "  </tbody>\n",
       "</table>\n",
       "</div>"
      ],
      "text/plain": [
       "                                                text  tag\n",
       "0  comparison yolo rcnn real world videos bringin...    0\n",
       "1  show infer tell contextual inference creative ...    0\n",
       "2  awesome graph classification collection import...    3\n",
       "3  awesome monte carlo tree search curated list m...    3\n",
       "4  attentionwalk pytorch implementation watch ste...    3"
      ]
     },
     "execution_count": 22,
     "metadata": {},
     "output_type": "execute_result"
    }
   ],
   "source": [
    "df.head()"
   ]
  },
  {
   "cell_type": "code",
   "execution_count": 23,
   "id": "ad247763",
   "metadata": {},
   "outputs": [
    {
     "data": {
      "text/plain": [
       "['computer-vision', 'computer-vision', 'other', 'other', 'other']"
      ]
     },
     "execution_count": 23,
     "metadata": {},
     "output_type": "execute_result"
    }
   ],
   "source": [
    "decode(df.head()[\"tag\"].values, index_to_class=index_to_class)"
   ]
  },
  {
   "cell_type": "markdown",
   "id": "ac840fa3",
   "metadata": {},
   "source": [
    "### Tokenizer\n"
   ]
  },
  {
   "cell_type": "code",
   "execution_count": 24,
   "id": "b499a849",
   "metadata": {},
   "outputs": [],
   "source": [
    "# Bert tokenizer\n",
    "Tokenizer = BertTokenizer.from_pretrained(\"allenai/scibert_scivocab_uncased\", return_dict=False)\n",
    "\n",
    "# Tokenize batches of data\n",
    "def tokenize(batch):\n",
    "    tokenizer = Tokenizer\n",
    "    encoded_inputs = tokenizer(batch[\"text\"].tolist(), return_tensors=\"np\", padding=\"longest\")\n",
    "    return dict(ids=encoded_inputs[\"input_ids\"], masks=encoded_inputs[\"attention_mask\"], targets=np.array(batch[\"tag\"]))"
   ]
  },
  {
   "cell_type": "code",
   "execution_count": 25,
   "id": "4c2d04a6",
   "metadata": {},
   "outputs": [
    {
     "data": {
      "text/plain": [
       "{'ids': array([[  102,  2029,  1778,   609,  6446,  4857,  1332,  2399, 13572,\n",
       "         19125,  1983,  1954,  6240,  3717,  7434,  1262,   537,   201,\n",
       "          1040,   545,  4714,   103]]),\n",
       " 'masks': array([[1, 1, 1, 1, 1, 1, 1, 1, 1, 1, 1, 1, 1, 1, 1, 1, 1, 1, 1, 1, 1, 1]]),\n",
       " 'targets': array([0], dtype=int8)}"
      ]
     },
     "execution_count": 25,
     "metadata": {},
     "output_type": "execute_result"
    }
   ],
   "source": [
    "tokenize(df.head(1))"
   ]
  },
  {
   "cell_type": "markdown",
   "id": "b68453b9",
   "metadata": {},
   "source": [
    "Combine preprocessing into one function"
   ]
  },
  {
   "cell_type": "code",
   "execution_count": 26,
   "id": "ab87613c",
   "metadata": {},
   "outputs": [],
   "source": [
    "def preprocess(df, class_to_index):\n",
    "    \"\"\"Preprocess the data.\"\"\"\n",
    "    df[\"text\"] = df.title + \" \" + df.description  # feature engineering\n",
    "    df[\"text\"] = df.text.apply(clean_text)  # clean text\n",
    "    df = df.drop(columns=[\"id\", \"created_on\", \"title\", \"description\"], errors=\"ignore\")  # clean dataframe\n",
    "    df = df[[\"text\", \"tag\"]]  # rearrange columns\n",
    "    df[\"tag\"] = df[\"tag\"].map(class_to_index)  # label encoding\n",
    "    outputs = tokenize(df)\n",
    "    return outputs"
   ]
  },
  {
   "cell_type": "code",
   "execution_count": 27,
   "id": "84d2eb48",
   "metadata": {},
   "outputs": [
    {
     "data": {
      "text/plain": [
       "{'ids': array([[  102,  6828,  1630, ...,     0,     0,     0],\n",
       "        [  102,  2570,  7885, ...,     0,     0,     0],\n",
       "        [  102,  8854,  2998, ...,     0,     0,     0],\n",
       "        ...,\n",
       "        [  102,  3526,   318, ...,     0,     0,     0],\n",
       "        [  102,  1387, 30110, ...,     0,     0,     0],\n",
       "        [  102, 10850,   142, ...,     0,     0,     0]]),\n",
       " 'masks': array([[1, 1, 1, ..., 0, 0, 0],\n",
       "        [1, 1, 1, ..., 0, 0, 0],\n",
       "        [1, 1, 1, ..., 0, 0, 0],\n",
       "        ...,\n",
       "        [1, 1, 1, ..., 0, 0, 0],\n",
       "        [1, 1, 1, ..., 0, 0, 0],\n",
       "        [1, 1, 1, ..., 0, 0, 0]]),\n",
       " 'targets': array([2, 2, 2, 2, 2, 0, 2, 0, 3, 0, 2, 2, 0, 3, 3, 0, 1, 0, 3, 2, 0, 0,\n",
       "        2, 1, 3, 1, 2, 2, 0, 2, 3, 2, 2, 2, 1, 0, 2, 0, 2, 0, 2, 0, 1, 0,\n",
       "        3, 0, 2, 3, 1, 2, 0, 2, 0, 2, 0, 0, 1, 0, 2, 0, 2, 2, 2, 2, 0, 0,\n",
       "        2, 2, 0, 0, 0, 2, 2, 0, 0, 1, 0, 0, 0, 3, 2, 2, 1, 0, 3, 2, 2, 2,\n",
       "        0, 0, 3, 2, 2, 0, 2, 0, 0, 2, 2, 2, 3, 3, 3, 0, 2, 2, 0, 3, 0, 1,\n",
       "        2, 0, 2, 0, 2, 2, 1, 2, 3, 0, 2, 0, 0, 2, 3, 1, 2, 0, 3, 2, 0, 3,\n",
       "        0, 2, 2, 0, 2, 2, 3, 0, 0, 0, 0, 2, 2, 2, 0, 0, 0, 0, 3, 2, 3, 0,\n",
       "        3, 0, 0, 1, 1, 0, 2, 1, 0, 2, 2, 1, 0, 0, 0, 2, 0, 0, 0, 3, 0, 3,\n",
       "        0, 0, 0, 0, 1, 2, 1, 0, 0, 1, 2, 3, 0, 3, 2, 2, 3, 3, 2, 2, 0, 2,\n",
       "        3, 2, 0, 0, 3, 0, 0, 2, 0, 1, 0, 0, 2, 0, 3, 2, 1, 0, 2, 2, 0, 2,\n",
       "        2, 0, 1, 2, 2, 2, 2, 1, 0, 3, 3, 3, 0, 2, 0, 0, 2, 3, 1, 1, 2, 0,\n",
       "        2, 0, 2, 2, 0, 3, 2, 1, 2, 1, 0, 0, 2, 0, 0, 2, 2, 2, 2, 1, 2, 0,\n",
       "        0, 0, 2, 0, 0, 2, 0, 0, 2, 3, 3, 3, 0, 3, 0, 3, 0, 2, 0, 2, 2, 0,\n",
       "        2, 0, 0, 2, 0, 3, 2, 2, 0, 0, 2, 2, 2, 2, 2, 0, 2, 2, 2, 2, 2, 2,\n",
       "        0, 2, 2, 3, 3, 3, 3, 0, 2, 2, 0, 2, 2, 3, 0, 1, 3, 0, 2, 2, 2, 2,\n",
       "        0, 2, 3, 2, 2, 3, 2, 2, 2, 2, 2, 2, 2, 2, 0, 0, 0, 0, 0, 0, 2, 0,\n",
       "        0, 2, 2, 2, 3, 2, 1, 0, 0, 2, 3, 2, 3, 0, 0, 2, 2, 2, 1, 2, 2, 1,\n",
       "        2, 2, 2, 0, 2, 2, 2, 0, 0, 2, 2, 2, 2, 2, 2, 3, 2, 3, 2, 2, 1, 2,\n",
       "        2, 2, 2, 2, 0, 0, 0, 0, 3, 0, 3, 2, 1, 0, 0, 2, 0, 1, 2, 2, 0, 2,\n",
       "        2, 0, 2, 0, 0, 0, 3, 0, 0, 0, 0, 2, 1, 2, 3, 2, 2, 3, 2, 0, 3, 3,\n",
       "        2, 0, 2, 0, 2, 0, 3, 0, 2, 0, 0, 3, 2, 0, 0, 2, 2, 0, 2, 0, 2, 0,\n",
       "        0, 1, 2, 1, 0, 2, 0, 3, 2, 2, 2, 2, 3, 0, 0, 0, 0, 1, 0, 2, 2, 2,\n",
       "        1, 2, 3, 2, 2, 2, 0, 2, 2, 0, 0, 0, 2, 0, 0, 1, 2, 2, 1, 2, 0, 2,\n",
       "        2, 0, 3, 0, 0, 3, 0, 2, 0, 0, 0, 3, 3, 0, 1, 1, 0, 3, 2, 0, 0, 2,\n",
       "        1, 3, 2, 0, 0, 2, 3, 2, 2, 0, 3, 0, 2, 2, 3, 2, 1, 0, 1, 0, 2, 0,\n",
       "        0, 2, 0, 1, 0, 0, 0, 3, 0, 0, 3, 0, 2, 2, 1, 2, 2, 3, 2, 0, 2, 0,\n",
       "        0, 0, 3, 0, 2, 2, 2, 2, 0, 0, 0, 0, 0, 0, 2, 0, 3, 0, 2, 2, 2, 0,\n",
       "        0, 0, 0, 3, 0, 3, 3, 2, 0, 1, 2, 2, 2, 2, 0, 2, 2], dtype=int64)}"
      ]
     },
     "execution_count": 27,
     "metadata": {},
     "output_type": "execute_result"
    }
   ],
   "source": [
    "# Apply\n",
    "preprocess(df=train_df, class_to_index= class_to_index)"
   ]
  },
  {
   "cell_type": "markdown",
   "id": "90c2dd1a",
   "metadata": {},
   "source": [
    "## 🌐 Distributed Preprocessing"
   ]
  },
  {
   "cell_type": "markdown",
   "id": "39412c21",
   "metadata": {},
   "source": [
    "Performing data processing but in a distributed manner using Ray."
   ]
  },
  {
   "cell_type": "code",
   "execution_count": 28,
   "id": "ebdaf7cd",
   "metadata": {},
   "outputs": [],
   "source": [
    "# setup\n",
    "ray.data.DatasetContext.get_current().execution_options.preserve_order = True  # deterministic"
   ]
  },
  {
   "cell_type": "code",
   "execution_count": 29,
   "id": "6fec6c6d",
   "metadata": {},
   "outputs": [
    {
     "name": "stderr",
     "output_type": "stream",
     "text": [
      "2025-08-19 15:39:05,398\tINFO read_api.py:406 -- To satisfy the requested parallelism of 24, each read task output is split into 24 smaller blocks.\n",
      "2025-08-19 15:39:05,447\tINFO dataset.py:2380 -- Tip: Use `take_batch()` instead of `take() / show()` to return records in pandas or numpy batch format.\n",
      "2025-08-19 15:39:05,453\tINFO streaming_executor.py:93 -- Executing DAG InputDataBuffer[Input] -> TaskPoolMapOperator[ReadCSV->SplitBlocks(24)] -> AllToAllOperator[RandomShuffle] -> LimitOperator[limit=1]\n",
      "2025-08-19 15:39:05,454\tINFO streaming_executor.py:94 -- Execution config: ExecutionOptions(resource_limits=ExecutionResources(cpu=None, gpu=None, object_store_memory=None), locality_with_output=False, preserve_order=True, actor_locality_enabled=True, verbose_progress=False)\n",
      "2025-08-19 15:39:05,454\tINFO streaming_executor.py:96 -- Tip: For detailed progress reporting, run `ray.data.DataContext.get_current().execution_options.verbose_progress = True`\n"
     ]
    },
    {
     "data": {
      "application/vnd.jupyter.widget-view+json": {
       "model_id": "9c6065e830f24cf7bcbf1d43ba05aaba",
       "version_major": 2,
       "version_minor": 0
      },
      "text/plain": [
       "- RandomShuffle 1:   0%|          | 0/576 [00:00<?, ?it/s]"
      ]
     },
     "metadata": {},
     "output_type": "display_data"
    },
    {
     "data": {
      "application/vnd.jupyter.widget-view+json": {
       "model_id": "3fa6cdc5dc9843d2bc3918792f14ef41",
       "version_major": 2,
       "version_minor": 0
      },
      "text/plain": [
       "Shuffle Map 2:   0%|          | 0/576 [00:00<?, ?it/s]"
      ]
     },
     "metadata": {},
     "output_type": "display_data"
    },
    {
     "data": {
      "application/vnd.jupyter.widget-view+json": {
       "model_id": "3ca4e70e4d0f46f8aa5df273e31d1f97",
       "version_major": 2,
       "version_minor": 0
      },
      "text/plain": [
       "Shuffle Reduce 3:   0%|          | 0/576 [00:00<?, ?it/s]"
      ]
     },
     "metadata": {},
     "output_type": "display_data"
    },
    {
     "data": {
      "application/vnd.jupyter.widget-view+json": {
       "model_id": "11640bb8ac6c416dadc82cf2ba3a6092",
       "version_major": 2,
       "version_minor": 0
      },
      "text/plain": [
       "Running 0:   0%|          | 0/1 [00:00<?, ?it/s]"
      ]
     },
     "metadata": {},
     "output_type": "display_data"
    },
    {
     "data": {
      "text/plain": [
       "[{'id': 653,\n",
       "  'created_on': datetime.datetime(2020, 4, 28, 16, 20, 29),\n",
       "  'title': 'Semantic Graphs for Generating Deep Questions',\n",
       "  'description': 'Deep Question Generation (DQG), which aims to generate complex questions that require reasoning over multiple pieces of information of the input passage. ',\n",
       "  'tag': 'natural-language-processing'}]"
      ]
     },
     "execution_count": 29,
     "metadata": {},
     "output_type": "execute_result"
    }
   ],
   "source": [
    "# Data ingestion\n",
    "ds = ray.data.read_csv(DATASET_LOC)\n",
    "ds = ds.random_shuffle(seed=42)\n",
    "ds.take(1)"
   ]
  },
  {
   "cell_type": "code",
   "execution_count": 30,
   "id": "e3cb4410",
   "metadata": {},
   "outputs": [
    {
     "name": "stdout",
     "output_type": "stream",
     "text": [
      "c:\\Users\\sara\\MadeWithML\n"
     ]
    }
   ],
   "source": [
    "%cd .."
   ]
  },
  {
   "cell_type": "code",
   "execution_count": 31,
   "id": "2b9ec12b",
   "metadata": {},
   "outputs": [
    {
     "name": "stderr",
     "output_type": "stream",
     "text": [
      "2025-08-19 15:39:08,760\tINFO streaming_executor.py:93 -- Executing DAG InputDataBuffer[Input] -> TaskPoolMapOperator[ReadCSV->SplitBlocks(24)] -> AllToAllOperator[RandomShuffle] -> LimitOperator[limit=1]\n",
      "2025-08-19 15:39:08,766\tINFO streaming_executor.py:94 -- Execution config: ExecutionOptions(resource_limits=ExecutionResources(cpu=None, gpu=None, object_store_memory=None), locality_with_output=False, preserve_order=True, actor_locality_enabled=True, verbose_progress=False)\n",
      "2025-08-19 15:39:08,766\tINFO streaming_executor.py:96 -- Tip: For detailed progress reporting, run `ray.data.DataContext.get_current().execution_options.verbose_progress = True`\n"
     ]
    },
    {
     "data": {
      "application/vnd.jupyter.widget-view+json": {
       "model_id": "f014c0d630ea4ab19d1c49d04657c70f",
       "version_major": 2,
       "version_minor": 0
      },
      "text/plain": [
       "- RandomShuffle 1:   0%|          | 0/576 [00:00<?, ?it/s]"
      ]
     },
     "metadata": {},
     "output_type": "display_data"
    },
    {
     "data": {
      "application/vnd.jupyter.widget-view+json": {
       "model_id": "27bd90c748e5489e903e1b9f14884336",
       "version_major": 2,
       "version_minor": 0
      },
      "text/plain": [
       "Shuffle Map 2:   0%|          | 0/576 [00:00<?, ?it/s]"
      ]
     },
     "metadata": {},
     "output_type": "display_data"
    },
    {
     "data": {
      "application/vnd.jupyter.widget-view+json": {
       "model_id": "36cda3da31e24a00b2bdd9f33d9717a6",
       "version_major": 2,
       "version_minor": 0
      },
      "text/plain": [
       "Shuffle Reduce 3:   0%|          | 0/576 [00:00<?, ?it/s]"
      ]
     },
     "metadata": {},
     "output_type": "display_data"
    },
    {
     "data": {
      "application/vnd.jupyter.widget-view+json": {
       "model_id": "5394dd6be9394948890d2523d75f69bd",
       "version_major": 2,
       "version_minor": 0
      },
      "text/plain": [
       "Running 0:   0%|          | 0/1 [00:00<?, ?it/s]"
      ]
     },
     "metadata": {},
     "output_type": "display_data"
    }
   ],
   "source": [
    "# split dataset\n",
    "from src import stratify_split\n",
    "\n",
    "test_size = 0.2\n",
    "train_ds, val_ds = stratify_split(ds, stratify=\"tag\", test_size=test_size)"
   ]
  },
  {
   "cell_type": "code",
   "execution_count": 32,
   "id": "7306c639",
   "metadata": {},
   "outputs": [
    {
     "data": {
      "application/vnd.jupyter.widget-view+json": {
       "model_id": "dc8a27d1fc72422193fce9341d6d6624",
       "version_major": 2,
       "version_minor": 0
      },
      "text/plain": [
       "RandomShuffle\n",
       "+- MapBatches(_filter_train)\n",
       "   +- MapBatches(group_fn)\n",
       "      +- Sort\n",
       "         +- RandomShuffle\n",
       "            +- Dataset(\n",
       "                  num_blocks=24,\n",
       "                  num_rows=764,\n",
       "                  schema={\n",
       "                     id: int64,\n",
       "                     created_on: timestamp[s],\n",
       "                     title: string,\n",
       "                     description: string,\n",
       "                     tag: string\n",
       "                  }\n",
       "               )"
      ]
     },
     "execution_count": 32,
     "metadata": {},
     "output_type": "execute_result"
    }
   ],
   "source": [
    "train_ds"
   ]
  },
  {
   "cell_type": "code",
   "execution_count": 33,
   "id": "44121207",
   "metadata": {},
   "outputs": [
    {
     "name": "stderr",
     "output_type": "stream",
     "text": [
      "2025-08-19 15:39:12,040\tINFO streaming_executor.py:93 -- Executing DAG InputDataBuffer[Input] -> TaskPoolMapOperator[ReadCSV->SplitBlocks(24)] -> AllToAllOperator[RandomShuffle] -> AllToAllOperator[Sort] -> AllToAllOperator[MapBatches(group_fn)->MapBatches(_filter_train)->RandomShuffle] -> LimitOperator[limit=1]\n",
      "2025-08-19 15:39:12,040\tINFO streaming_executor.py:94 -- Execution config: ExecutionOptions(resource_limits=ExecutionResources(cpu=None, gpu=None, object_store_memory=None), locality_with_output=False, preserve_order=True, actor_locality_enabled=True, verbose_progress=False)\n",
      "2025-08-19 15:39:12,040\tINFO streaming_executor.py:96 -- Tip: For detailed progress reporting, run `ray.data.DataContext.get_current().execution_options.verbose_progress = True`\n"
     ]
    },
    {
     "data": {
      "application/vnd.jupyter.widget-view+json": {
       "model_id": "2b34e311b46744a6ba9bf3a6d0f3613a",
       "version_major": 2,
       "version_minor": 0
      },
      "text/plain": [
       "- RandomShuffle 1:   0%|          | 0/576 [00:00<?, ?it/s]"
      ]
     },
     "metadata": {},
     "output_type": "display_data"
    },
    {
     "data": {
      "application/vnd.jupyter.widget-view+json": {
       "model_id": "d7f086a39dc744dca4ed426e7fde5acd",
       "version_major": 2,
       "version_minor": 0
      },
      "text/plain": [
       "Shuffle Map 2:   0%|          | 0/576 [00:00<?, ?it/s]"
      ]
     },
     "metadata": {},
     "output_type": "display_data"
    },
    {
     "data": {
      "application/vnd.jupyter.widget-view+json": {
       "model_id": "9c1437cc714f497ebf0a42916c4b9a78",
       "version_major": 2,
       "version_minor": 0
      },
      "text/plain": [
       "Shuffle Reduce 3:   0%|          | 0/576 [00:00<?, ?it/s]"
      ]
     },
     "metadata": {},
     "output_type": "display_data"
    },
    {
     "data": {
      "application/vnd.jupyter.widget-view+json": {
       "model_id": "0f8ce9276c334b92aa72f7528b4d4c52",
       "version_major": 2,
       "version_minor": 0
      },
      "text/plain": [
       "- Sort 4:   0%|          | 0/576 [00:00<?, ?it/s]"
      ]
     },
     "metadata": {},
     "output_type": "display_data"
    },
    {
     "data": {
      "application/vnd.jupyter.widget-view+json": {
       "model_id": "d7beb6588f4a462fa745bae260412667",
       "version_major": 2,
       "version_minor": 0
      },
      "text/plain": [
       "Sort Sample 5:   0%|          | 0/576 [00:00<?, ?it/s]"
      ]
     },
     "metadata": {},
     "output_type": "display_data"
    },
    {
     "data": {
      "application/vnd.jupyter.widget-view+json": {
       "model_id": "a6cec6d23a404171b2f6ee3f9d275063",
       "version_major": 2,
       "version_minor": 0
      },
      "text/plain": [
       "Shuffle Map 6:   0%|          | 0/576 [00:00<?, ?it/s]"
      ]
     },
     "metadata": {},
     "output_type": "display_data"
    },
    {
     "data": {
      "application/vnd.jupyter.widget-view+json": {
       "model_id": "5cd5a9189f96435b9e0b592c4f681192",
       "version_major": 2,
       "version_minor": 0
      },
      "text/plain": [
       "Shuffle Reduce 7:   0%|          | 0/576 [00:00<?, ?it/s]"
      ]
     },
     "metadata": {},
     "output_type": "display_data"
    },
    {
     "data": {
      "application/vnd.jupyter.widget-view+json": {
       "model_id": "24c0ef9a7051413388462ff9c448d9db",
       "version_major": 2,
       "version_minor": 0
      },
      "text/plain": [
       "- MapBatches(group_fn)->MapBatches(_filter_train)->RandomShuffle 8:   0%|          | 0/576 [00:00<?, ?it/s]"
      ]
     },
     "metadata": {},
     "output_type": "display_data"
    },
    {
     "data": {
      "application/vnd.jupyter.widget-view+json": {
       "model_id": "abcf34d3de8f49cb9dc6575580ec44de",
       "version_major": 2,
       "version_minor": 0
      },
      "text/plain": [
       "Shuffle Map 9:   0%|          | 0/576 [00:00<?, ?it/s]"
      ]
     },
     "metadata": {},
     "output_type": "display_data"
    },
    {
     "data": {
      "application/vnd.jupyter.widget-view+json": {
       "model_id": "8e3f57164bad4c188c456687b7d5f9b5",
       "version_major": 2,
       "version_minor": 0
      },
      "text/plain": [
       "Shuffle Reduce 10:   0%|          | 0/576 [00:00<?, ?it/s]"
      ]
     },
     "metadata": {},
     "output_type": "display_data"
    },
    {
     "data": {
      "application/vnd.jupyter.widget-view+json": {
       "model_id": "eac4e1fcaf1544b994cdb7f6a6c1281a",
       "version_major": 2,
       "version_minor": 0
      },
      "text/plain": [
       "Running 0:   0%|          | 0/1 [00:00<?, ?it/s]"
      ]
     },
     "metadata": {},
     "output_type": "display_data"
    },
    {
     "data": {
      "application/vnd.jupyter.widget-view+json": {
       "model_id": "a04a6b60c8b541b8a4c67e15ce8c9f55",
       "version_major": 2,
       "version_minor": 0
      },
      "text/plain": [
       "Sort Sample 0:   0%|          | 0/24 [00:00<?, ?it/s]"
      ]
     },
     "metadata": {},
     "output_type": "display_data"
    },
    {
     "name": "stderr",
     "output_type": "stream",
     "text": [
      "2025-08-19 15:39:17,521\tINFO streaming_executor.py:93 -- Executing DAG InputDataBuffer[Input] -> TaskPoolMapOperator[ReadCSV->SplitBlocks(24)] -> AllToAllOperator[RandomShuffle] -> AllToAllOperator[Sort] -> AllToAllOperator[MapBatches(group_fn)->MapBatches(_filter_train)->RandomShuffle] -> AllToAllOperator[Aggregate] -> TaskPoolMapOperator[MapBatches(<lambda>)]\n",
      "2025-08-19 15:39:17,532\tINFO streaming_executor.py:94 -- Execution config: ExecutionOptions(resource_limits=ExecutionResources(cpu=None, gpu=None, object_store_memory=None), locality_with_output=False, preserve_order=True, actor_locality_enabled=True, verbose_progress=False)\n",
      "2025-08-19 15:39:17,537\tINFO streaming_executor.py:96 -- Tip: For detailed progress reporting, run `ray.data.DataContext.get_current().execution_options.verbose_progress = True`\n"
     ]
    },
    {
     "data": {
      "application/vnd.jupyter.widget-view+json": {
       "model_id": "b7a7d55325b147ebabcac58183fa4f9d",
       "version_major": 2,
       "version_minor": 0
      },
      "text/plain": [
       "- RandomShuffle 1:   0%|          | 0/576 [00:00<?, ?it/s]"
      ]
     },
     "metadata": {},
     "output_type": "display_data"
    },
    {
     "data": {
      "application/vnd.jupyter.widget-view+json": {
       "model_id": "380c2adfce91418e9909e7091684e3d5",
       "version_major": 2,
       "version_minor": 0
      },
      "text/plain": [
       "Shuffle Map 2:   0%|          | 0/576 [00:00<?, ?it/s]"
      ]
     },
     "metadata": {},
     "output_type": "display_data"
    },
    {
     "data": {
      "application/vnd.jupyter.widget-view+json": {
       "model_id": "7e3106af570844fd99882594d0376751",
       "version_major": 2,
       "version_minor": 0
      },
      "text/plain": [
       "Shuffle Reduce 3:   0%|          | 0/576 [00:00<?, ?it/s]"
      ]
     },
     "metadata": {},
     "output_type": "display_data"
    },
    {
     "data": {
      "application/vnd.jupyter.widget-view+json": {
       "model_id": "3d45a82022e742c2b34e5c8fb9c05f25",
       "version_major": 2,
       "version_minor": 0
      },
      "text/plain": [
       "- Sort 4:   0%|          | 0/576 [00:00<?, ?it/s]"
      ]
     },
     "metadata": {},
     "output_type": "display_data"
    },
    {
     "data": {
      "application/vnd.jupyter.widget-view+json": {
       "model_id": "5e54c1e6d70140e7802de045e0d547c8",
       "version_major": 2,
       "version_minor": 0
      },
      "text/plain": [
       "Sort Sample 5:   0%|          | 0/576 [00:00<?, ?it/s]"
      ]
     },
     "metadata": {},
     "output_type": "display_data"
    },
    {
     "data": {
      "application/vnd.jupyter.widget-view+json": {
       "model_id": "1219033765fc466184f246403ec790ec",
       "version_major": 2,
       "version_minor": 0
      },
      "text/plain": [
       "Shuffle Map 6:   0%|          | 0/576 [00:00<?, ?it/s]"
      ]
     },
     "metadata": {},
     "output_type": "display_data"
    },
    {
     "data": {
      "application/vnd.jupyter.widget-view+json": {
       "model_id": "8c36f0090fb64f02833143aefcc1ffa5",
       "version_major": 2,
       "version_minor": 0
      },
      "text/plain": [
       "Shuffle Reduce 7:   0%|          | 0/576 [00:00<?, ?it/s]"
      ]
     },
     "metadata": {},
     "output_type": "display_data"
    },
    {
     "data": {
      "application/vnd.jupyter.widget-view+json": {
       "model_id": "c50fbef098314533aa898665b3d9221c",
       "version_major": 2,
       "version_minor": 0
      },
      "text/plain": [
       "- MapBatches(group_fn)->MapBatches(_filter_train)->RandomShuffle 8:   0%|          | 0/576 [00:00<?, ?it/s]"
      ]
     },
     "metadata": {},
     "output_type": "display_data"
    },
    {
     "data": {
      "application/vnd.jupyter.widget-view+json": {
       "model_id": "870ec057c3ad4798bd5b89006a1150ce",
       "version_major": 2,
       "version_minor": 0
      },
      "text/plain": [
       "Shuffle Map 9:   0%|          | 0/576 [00:00<?, ?it/s]"
      ]
     },
     "metadata": {},
     "output_type": "display_data"
    },
    {
     "data": {
      "application/vnd.jupyter.widget-view+json": {
       "model_id": "af5985b4718b43dda52fc6c9161fdb70",
       "version_major": 2,
       "version_minor": 0
      },
      "text/plain": [
       "Shuffle Reduce 10:   0%|          | 0/576 [00:00<?, ?it/s]"
      ]
     },
     "metadata": {},
     "output_type": "display_data"
    },
    {
     "data": {
      "application/vnd.jupyter.widget-view+json": {
       "model_id": "311f54fb877b4924a7210f2f8a3f75c5",
       "version_major": 2,
       "version_minor": 0
      },
      "text/plain": [
       "- Aggregate 11:   0%|          | 0/576 [00:00<?, ?it/s]"
      ]
     },
     "metadata": {},
     "output_type": "display_data"
    },
    {
     "data": {
      "application/vnd.jupyter.widget-view+json": {
       "model_id": "b12185bae9fb4156af8bc92cd81e55c1",
       "version_major": 2,
       "version_minor": 0
      },
      "text/plain": [
       "Shuffle Map 12:   0%|          | 0/576 [00:00<?, ?it/s]"
      ]
     },
     "metadata": {},
     "output_type": "display_data"
    },
    {
     "data": {
      "application/vnd.jupyter.widget-view+json": {
       "model_id": "fa059165a47844949d510863581d926a",
       "version_major": 2,
       "version_minor": 0
      },
      "text/plain": [
       "Shuffle Reduce 13:   0%|          | 0/576 [00:00<?, ?it/s]"
      ]
     },
     "metadata": {},
     "output_type": "display_data"
    },
    {
     "data": {
      "application/vnd.jupyter.widget-view+json": {
       "model_id": "1277a2b7da9c447792aefc2a0b35fd8d",
       "version_major": 2,
       "version_minor": 0
      },
      "text/plain": [
       "Running 0:   0%|          | 0/576 [00:00<?, ?it/s]"
      ]
     },
     "metadata": {},
     "output_type": "display_data"
    },
    {
     "data": {
      "application/vnd.jupyter.widget-view+json": {
       "model_id": "496cafec13544557a76d754fb8fa95bc",
       "version_major": 2,
       "version_minor": 0
      },
      "text/plain": [
       "Sort Sample 0:   0%|          | 0/24 [00:00<?, ?it/s]"
      ]
     },
     "metadata": {},
     "output_type": "display_data"
    },
    {
     "data": {
      "application/vnd.jupyter.widget-view+json": {
       "model_id": "35342724cfef488abbe75c199ee69725",
       "version_major": 2,
       "version_minor": 0
      },
      "text/plain": [
       "Sort Sample 0:   0%|          | 0/24 [00:00<?, ?it/s]"
      ]
     },
     "metadata": {},
     "output_type": "display_data"
    }
   ],
   "source": [
    "# Mapping\n",
    "tags = train_ds.unique(column=\"tag\")\n",
    "class_to_index = {tag: i for i, tag in enumerate(tags)}"
   ]
  },
  {
   "cell_type": "code",
   "execution_count": 34,
   "id": "e10d909b",
   "metadata": {},
   "outputs": [
    {
     "name": "stderr",
     "output_type": "stream",
     "text": [
      "2025-08-19 15:39:19,258\tINFO streaming_executor.py:93 -- Executing DAG InputDataBuffer[Input] -> TaskPoolMapOperator[ReadCSV->SplitBlocks(24)] -> AllToAllOperator[RandomShuffle] -> AllToAllOperator[Sort] -> AllToAllOperator[MapBatches(group_fn)->MapBatches(_filter_train)->RandomShuffle] -> TaskPoolMapOperator[MapBatches(preprocess)] -> LimitOperator[limit=1]\n",
      "2025-08-19 15:39:19,260\tINFO streaming_executor.py:94 -- Execution config: ExecutionOptions(resource_limits=ExecutionResources(cpu=None, gpu=None, object_store_memory=None), locality_with_output=False, preserve_order=True, actor_locality_enabled=True, verbose_progress=False)\n",
      "2025-08-19 15:39:19,260\tINFO streaming_executor.py:96 -- Tip: For detailed progress reporting, run `ray.data.DataContext.get_current().execution_options.verbose_progress = True`\n"
     ]
    },
    {
     "data": {
      "application/vnd.jupyter.widget-view+json": {
       "model_id": "4016e52fea2143de8e512d4491314105",
       "version_major": 2,
       "version_minor": 0
      },
      "text/plain": [
       "- RandomShuffle 1:   0%|          | 0/576 [00:00<?, ?it/s]"
      ]
     },
     "metadata": {},
     "output_type": "display_data"
    },
    {
     "data": {
      "application/vnd.jupyter.widget-view+json": {
       "model_id": "037d7ce56b5b4f058c4e7f475662adb8",
       "version_major": 2,
       "version_minor": 0
      },
      "text/plain": [
       "Shuffle Map 2:   0%|          | 0/576 [00:00<?, ?it/s]"
      ]
     },
     "metadata": {},
     "output_type": "display_data"
    },
    {
     "data": {
      "application/vnd.jupyter.widget-view+json": {
       "model_id": "7678dc7d0eb74b0a9953805dc7a28aa6",
       "version_major": 2,
       "version_minor": 0
      },
      "text/plain": [
       "Shuffle Reduce 3:   0%|          | 0/576 [00:00<?, ?it/s]"
      ]
     },
     "metadata": {},
     "output_type": "display_data"
    },
    {
     "data": {
      "application/vnd.jupyter.widget-view+json": {
       "model_id": "269242bdb9504e27993c6876b204f65e",
       "version_major": 2,
       "version_minor": 0
      },
      "text/plain": [
       "- Sort 4:   0%|          | 0/576 [00:00<?, ?it/s]"
      ]
     },
     "metadata": {},
     "output_type": "display_data"
    },
    {
     "data": {
      "application/vnd.jupyter.widget-view+json": {
       "model_id": "3345f7860b2646e1b98bc3e07cee03f5",
       "version_major": 2,
       "version_minor": 0
      },
      "text/plain": [
       "Sort Sample 5:   0%|          | 0/576 [00:00<?, ?it/s]"
      ]
     },
     "metadata": {},
     "output_type": "display_data"
    },
    {
     "data": {
      "application/vnd.jupyter.widget-view+json": {
       "model_id": "f10e5eb2674a405f832bf8f54d213255",
       "version_major": 2,
       "version_minor": 0
      },
      "text/plain": [
       "Shuffle Map 6:   0%|          | 0/576 [00:00<?, ?it/s]"
      ]
     },
     "metadata": {},
     "output_type": "display_data"
    },
    {
     "data": {
      "application/vnd.jupyter.widget-view+json": {
       "model_id": "4452d99f932447519d9770e748e65118",
       "version_major": 2,
       "version_minor": 0
      },
      "text/plain": [
       "Shuffle Reduce 7:   0%|          | 0/576 [00:00<?, ?it/s]"
      ]
     },
     "metadata": {},
     "output_type": "display_data"
    },
    {
     "data": {
      "application/vnd.jupyter.widget-view+json": {
       "model_id": "0479fbf458ff49b08f368d82e891fc7a",
       "version_major": 2,
       "version_minor": 0
      },
      "text/plain": [
       "- MapBatches(group_fn)->MapBatches(_filter_train)->RandomShuffle 8:   0%|          | 0/576 [00:00<?, ?it/s]"
      ]
     },
     "metadata": {},
     "output_type": "display_data"
    },
    {
     "data": {
      "application/vnd.jupyter.widget-view+json": {
       "model_id": "cfe176a807a540c08be3b2e33c2feaaa",
       "version_major": 2,
       "version_minor": 0
      },
      "text/plain": [
       "Shuffle Map 9:   0%|          | 0/576 [00:00<?, ?it/s]"
      ]
     },
     "metadata": {},
     "output_type": "display_data"
    },
    {
     "data": {
      "application/vnd.jupyter.widget-view+json": {
       "model_id": "e755a7e8dec146c68de09493539ad621",
       "version_major": 2,
       "version_minor": 0
      },
      "text/plain": [
       "Shuffle Reduce 10:   0%|          | 0/576 [00:00<?, ?it/s]"
      ]
     },
     "metadata": {},
     "output_type": "display_data"
    },
    {
     "data": {
      "application/vnd.jupyter.widget-view+json": {
       "model_id": "1bbb479676d34696b7698ca7195e0db6",
       "version_major": 2,
       "version_minor": 0
      },
      "text/plain": [
       "Running 0:   0%|          | 0/1 [00:00<?, ?it/s]"
      ]
     },
     "metadata": {},
     "output_type": "display_data"
    },
    {
     "data": {
      "application/vnd.jupyter.widget-view+json": {
       "model_id": "95ee9fc35b714a1f8ef73b0da3ede822",
       "version_major": 2,
       "version_minor": 0
      },
      "text/plain": [
       "Sort Sample 0:   0%|          | 0/24 [00:00<?, ?it/s]"
      ]
     },
     "metadata": {},
     "output_type": "display_data"
    },
    {
     "name": "stdout",
     "output_type": "stream",
     "text": [
      "{'ids': array([  102, 17007,   160,   239, 30118,  1313,  4744,  1995, 17007,\n",
      "         160, 23907,  5702,  2112,   255,   239, 30118,  2567,  1995,\n",
      "        1313,  4744,   103,     0,     0,     0,     0,     0,     0,\n",
      "           0]), 'masks': array([1, 1, 1, 1, 1, 1, 1, 1, 1, 1, 1, 1, 1, 1, 1, 1, 1, 1, 1, 1, 1, 0,\n",
      "       0, 0, 0, 0, 0, 0]), 'targets': 0}\n"
     ]
    }
   ],
   "source": [
    "# Distributed preprocessing\n",
    "sample_ds = train_ds.map_batches(\n",
    "    preprocess,\n",
    "    fn_kwargs={\"class_to_index\": class_to_index},\n",
    "    batch_format=\"pandas\")\n",
    "sample_ds.show(1)"
   ]
  },
  {
   "cell_type": "markdown",
   "id": "58d59188",
   "metadata": {},
   "source": [
    "Functions for reproducibility"
   ]
  },
  {
   "cell_type": "code",
   "execution_count": 35,
   "id": "90570085",
   "metadata": {},
   "outputs": [],
   "source": [
    "# set seeds\n",
    "def set_seeds(seed=42):\n",
    "    \"\"\"Set seeds for reproducibility.\"\"\"\n",
    "    np.random.seed(seed)\n",
    "    random.seed(seed)\n",
    "    torch.manual_seed(seed)\n",
    "    torch.cuda.manual_seed(seed)\n",
    "    eval(\"setattr(torch.backends.cudnn, 'deterministic', True)\")\n",
    "    eval(\"setattr(torch.backends.cudnn, 'benchmark', False)\")\n",
    "    os.environ[\"PYTHONHASHSEED\"] = str(seed)"
   ]
  },
  {
   "cell_type": "code",
   "execution_count": 36,
   "id": "69a75e69",
   "metadata": {},
   "outputs": [],
   "source": [
    "# load data\n",
    "def load_data(num_samples=None):\n",
    "    ds = ray.data.read_csv(DATASET_LOC)\n",
    "    ds = ds.random_shuffle(seed=1234)\n",
    "    ds = ray.data.from_items(ds.take(num_samples)) if num_samples else ds\n",
    "    return ds"
   ]
  },
  {
   "cell_type": "code",
   "execution_count": 37,
   "id": "65537c26",
   "metadata": {},
   "outputs": [],
   "source": [
    "# preprocessor\n",
    "class CustomPreprocessor(Preprocessor):\n",
    "    \"\"\"Custom preprocessor class.\"\"\"\n",
    "    def _fit(self, ds):\n",
    "        tags = ds.unique(column=\"tag\")\n",
    "        self.class_to_index = {tag: i for i, tag in enumerate(tags)}\n",
    "        self.index_to_class = {v:k for k, v in self.class_to_index.items()}\n",
    "    def _transform_pandas(self, batch):  # could also do _transform_numpy\n",
    "        return preprocess(batch, class_to_index=self.class_to_index)"
   ]
  },
  {
   "cell_type": "markdown",
   "id": "b185a6b9",
   "metadata": {},
   "source": [
    "## 🤖 Model"
   ]
  },
  {
   "cell_type": "code",
   "execution_count": 38,
   "id": "b8631b23",
   "metadata": {},
   "outputs": [
    {
     "name": "stderr",
     "output_type": "stream",
     "text": [
      "Some weights of the model checkpoint at allenai/scibert_scivocab_uncased were not used when initializing BertModel: ['cls.predictions.decoder.bias', 'cls.seq_relationship.bias', 'cls.predictions.transform.LayerNorm.bias', 'cls.predictions.decoder.weight', 'cls.seq_relationship.weight', 'cls.predictions.transform.dense.bias', 'cls.predictions.bias', 'cls.predictions.transform.dense.weight', 'cls.predictions.transform.LayerNorm.weight']\n",
      "- This IS expected if you are initializing BertModel from the checkpoint of a model trained on another task or with another architecture (e.g. initializing a BertForSequenceClassification model from a BertForPreTraining model).\n",
      "- This IS NOT expected if you are initializing BertModel from the checkpoint of a model that you expect to be exactly identical (initializing a BertForSequenceClassification model from a BertForSequenceClassification model).\n"
     ]
    }
   ],
   "source": [
    "# Pretrained LLM\n",
    "llm = BertModel.from_pretrained(\"allenai/scibert_scivocab_uncased\", return_dict=False)\n",
    "embedding_dim = llm.config.hidden_size"
   ]
  },
  {
   "cell_type": "code",
   "execution_count": 39,
   "id": "6a5f221f",
   "metadata": {},
   "outputs": [
    {
     "data": {
      "text/plain": [
       "768"
      ]
     },
     "execution_count": 39,
     "metadata": {},
     "output_type": "execute_result"
    }
   ],
   "source": [
    "embedding_dim"
   ]
  },
  {
   "cell_type": "code",
   "execution_count": 40,
   "id": "8aea0fe0",
   "metadata": {},
   "outputs": [],
   "source": [
    "# Fine-tuning the LLM\n",
    "class FinetunedLLM(nn.Module):\n",
    "    def __init__(self, llm, dropout_p, embedding_dim, num_classes):\n",
    "        super(FinetunedLLM, self).__init__()\n",
    "        self.llm = llm\n",
    "        self.dropout_p = dropout_p\n",
    "        self.embedding_dim = embedding_dim\n",
    "        self.num_classes = num_classes\n",
    "        self.dropout = torch.nn.Dropout(dropout_p)\n",
    "        self.fc1 = torch.nn.Linear(embedding_dim, num_classes)\n",
    "\n",
    "    def forward(self, batch):\n",
    "        ids, masks = batch[\"ids\"], batch[\"masks\"]\n",
    "        seq, pool = self.llm(input_ids=ids, attention_mask=masks)\n",
    "        z = self.dropout(pool)\n",
    "        z = self.fc1(z)\n",
    "        return z\n",
    "    \n",
    "    @torch.inference_mode()\n",
    "    def predict(self, batch):\n",
    "        self.eval()\n",
    "        z = self(batch)\n",
    "        y_pred = torch.argmax(z, dim=1).cpu().numpy()\n",
    "        return y_pred\n",
    "    \n",
    "    @torch.inference_mode()\n",
    "    def predict_proba(self, batch):\n",
    "        self.eval()\n",
    "        z = self(batch)\n",
    "        y_probs = F.softmax(z, dim=1).cpu().numpy()\n",
    "        return y_probs\n",
    "    \n",
    "    def save(self, dp):\n",
    "        with open(Path(dp, \"args.json\"), \"w\") as fp:\n",
    "            contents = {\n",
    "                \"dropout_p\": self.dropout_p,\n",
    "                \"embedding_dim\": self.embedding_dim,\n",
    "                \"num_classes\": self.num_classes,\n",
    "            }\n",
    "            json.dump(contents, fp, indent=4, sort_keys=False)\n",
    "        torch.save(self.state_dict(), os.path.join(dp, \"model.pt\"))\n",
    "\n",
    "    @classmethod\n",
    "    def load(cls, args_fp, state_dict_fp):\n",
    "        with open(args_fp, \"r\") as fp:\n",
    "            kwargs = json.load(fp=fp)\n",
    "        llm = BertModel.from_pretrained(\"allenai/scibert_scivocab_uncased\", return_dict=False)\n",
    "        model = cls(llm=llm, **kwargs)\n",
    "        model.load_state_dict(torch.load(state_dict_fp, map_location=torch.device(\"cpu\")))\n",
    "        return model"
   ]
  },
  {
   "cell_type": "code",
   "execution_count": 41,
   "id": "b6355c38",
   "metadata": {},
   "outputs": [
    {
     "name": "stdout",
     "output_type": "stream",
     "text": [
      "<bound method Module.named_parameters of FinetunedLLM(\n",
      "  (llm): BertModel(\n",
      "    (embeddings): BertEmbeddings(\n",
      "      (word_embeddings): Embedding(31090, 768, padding_idx=0)\n",
      "      (position_embeddings): Embedding(512, 768)\n",
      "      (token_type_embeddings): Embedding(2, 768)\n",
      "      (LayerNorm): LayerNorm((768,), eps=1e-12, elementwise_affine=True)\n",
      "      (dropout): Dropout(p=0.1, inplace=False)\n",
      "    )\n",
      "    (encoder): BertEncoder(\n",
      "      (layer): ModuleList(\n",
      "        (0-11): 12 x BertLayer(\n",
      "          (attention): BertAttention(\n",
      "            (self): BertSelfAttention(\n",
      "              (query): Linear(in_features=768, out_features=768, bias=True)\n",
      "              (key): Linear(in_features=768, out_features=768, bias=True)\n",
      "              (value): Linear(in_features=768, out_features=768, bias=True)\n",
      "              (dropout): Dropout(p=0.1, inplace=False)\n",
      "            )\n",
      "            (output): BertSelfOutput(\n",
      "              (dense): Linear(in_features=768, out_features=768, bias=True)\n",
      "              (LayerNorm): LayerNorm((768,), eps=1e-12, elementwise_affine=True)\n",
      "              (dropout): Dropout(p=0.1, inplace=False)\n",
      "            )\n",
      "          )\n",
      "          (intermediate): BertIntermediate(\n",
      "            (dense): Linear(in_features=768, out_features=3072, bias=True)\n",
      "            (intermediate_act_fn): GELUActivation()\n",
      "          )\n",
      "          (output): BertOutput(\n",
      "            (dense): Linear(in_features=3072, out_features=768, bias=True)\n",
      "            (LayerNorm): LayerNorm((768,), eps=1e-12, elementwise_affine=True)\n",
      "            (dropout): Dropout(p=0.1, inplace=False)\n",
      "          )\n",
      "        )\n",
      "      )\n",
      "    )\n",
      "    (pooler): BertPooler(\n",
      "      (dense): Linear(in_features=768, out_features=768, bias=True)\n",
      "      (activation): Tanh()\n",
      "    )\n",
      "  )\n",
      "  (dropout): Dropout(p=0.5, inplace=False)\n",
      "  (fc1): Linear(in_features=768, out_features=4, bias=True)\n",
      ")>\n"
     ]
    }
   ],
   "source": [
    "# Initialize model\n",
    "num_classes=4\n",
    "model = FinetunedLLM(llm=llm, dropout_p=0.5, embedding_dim=embedding_dim, num_classes=num_classes)\n",
    "print (model.named_parameters)"
   ]
  },
  {
   "cell_type": "markdown",
   "id": "1993fe88",
   "metadata": {},
   "source": [
    "## 📦 Batching"
   ]
  },
  {
   "cell_type": "code",
   "execution_count": 42,
   "id": "3f335a7f",
   "metadata": {},
   "outputs": [],
   "source": [
    "from ray.train.torch import get_device"
   ]
  },
  {
   "cell_type": "markdown",
   "id": "015a6705",
   "metadata": {},
   "source": [
    "padding training batches"
   ]
  },
  {
   "cell_type": "code",
   "execution_count": 43,
   "id": "c5523e32",
   "metadata": {},
   "outputs": [],
   "source": [
    "# Function to pad sequences to the same length\n",
    "def pad_array(arr, dtype=np.int32):\n",
    "    max_len = max(len(row) for row in arr)\n",
    "    padded_arr = np.zeros((arr.shape[0], max_len), dtype=dtype)\n",
    "    for i, row in enumerate(arr):\n",
    "        padded_arr[i][:len(row)] = row\n",
    "    return padded_arr"
   ]
  },
  {
   "cell_type": "code",
   "execution_count": 44,
   "id": "9b1e1cf7",
   "metadata": {},
   "outputs": [],
   "source": [
    "# Function to collate padded batches into tensors\n",
    "def collate_fn(batch):\n",
    "    batch[\"ids\"] = pad_array(batch[\"ids\"])\n",
    "    batch[\"masks\"] = pad_array(batch[\"masks\"])\n",
    "    dtypes = {\"ids\": torch.int32, \"masks\": torch.int32, \"targets\": torch.int64}\n",
    "    tensor_batch = {}\n",
    "    for key, array in batch.items():\n",
    "        tensor_batch[key] = torch.as_tensor(array, dtype=dtypes[key], device=get_device())\n",
    "    return tensor_batch"
   ]
  },
  {
   "cell_type": "code",
   "execution_count": 45,
   "id": "231565ef",
   "metadata": {},
   "outputs": [
    {
     "name": "stderr",
     "output_type": "stream",
     "text": [
      "2025-08-19 15:39:25,636\tINFO streaming_executor.py:93 -- Executing DAG InputDataBuffer[Input] -> TaskPoolMapOperator[ReadCSV->SplitBlocks(24)] -> AllToAllOperator[RandomShuffle] -> AllToAllOperator[Sort] -> AllToAllOperator[MapBatches(group_fn)->MapBatches(_filter_train)->RandomShuffle] -> TaskPoolMapOperator[MapBatches(preprocess)] -> LimitOperator[limit=128]\n",
      "2025-08-19 15:39:25,640\tINFO streaming_executor.py:94 -- Execution config: ExecutionOptions(resource_limits=ExecutionResources(cpu=None, gpu=None, object_store_memory=None), locality_with_output=False, preserve_order=True, actor_locality_enabled=True, verbose_progress=False)\n",
      "2025-08-19 15:39:25,641\tINFO streaming_executor.py:96 -- Tip: For detailed progress reporting, run `ray.data.DataContext.get_current().execution_options.verbose_progress = True`\n"
     ]
    },
    {
     "data": {
      "application/vnd.jupyter.widget-view+json": {
       "model_id": "6b078b17738a460f940ed317ed7a712e",
       "version_major": 2,
       "version_minor": 0
      },
      "text/plain": [
       "- RandomShuffle 1:   0%|          | 0/576 [00:00<?, ?it/s]"
      ]
     },
     "metadata": {},
     "output_type": "display_data"
    },
    {
     "data": {
      "application/vnd.jupyter.widget-view+json": {
       "model_id": "7f4c69c157314beb97f091585c71e901",
       "version_major": 2,
       "version_minor": 0
      },
      "text/plain": [
       "Shuffle Map 2:   0%|          | 0/576 [00:00<?, ?it/s]"
      ]
     },
     "metadata": {},
     "output_type": "display_data"
    },
    {
     "data": {
      "application/vnd.jupyter.widget-view+json": {
       "model_id": "9289ade6f12a44a8b80d9f46b4ed261e",
       "version_major": 2,
       "version_minor": 0
      },
      "text/plain": [
       "Shuffle Reduce 3:   0%|          | 0/576 [00:00<?, ?it/s]"
      ]
     },
     "metadata": {},
     "output_type": "display_data"
    },
    {
     "data": {
      "application/vnd.jupyter.widget-view+json": {
       "model_id": "59977d7b301e4b30a5a9d5c895f19dd4",
       "version_major": 2,
       "version_minor": 0
      },
      "text/plain": [
       "- Sort 4:   0%|          | 0/576 [00:00<?, ?it/s]"
      ]
     },
     "metadata": {},
     "output_type": "display_data"
    },
    {
     "data": {
      "application/vnd.jupyter.widget-view+json": {
       "model_id": "5dd8431eaf5343af9f238394168e1571",
       "version_major": 2,
       "version_minor": 0
      },
      "text/plain": [
       "Sort Sample 5:   0%|          | 0/576 [00:00<?, ?it/s]"
      ]
     },
     "metadata": {},
     "output_type": "display_data"
    },
    {
     "data": {
      "application/vnd.jupyter.widget-view+json": {
       "model_id": "5a181756cf9647be86210ebc14779145",
       "version_major": 2,
       "version_minor": 0
      },
      "text/plain": [
       "Shuffle Map 6:   0%|          | 0/576 [00:00<?, ?it/s]"
      ]
     },
     "metadata": {},
     "output_type": "display_data"
    },
    {
     "data": {
      "application/vnd.jupyter.widget-view+json": {
       "model_id": "e1a432391ff749a4bd8b95c278126f7d",
       "version_major": 2,
       "version_minor": 0
      },
      "text/plain": [
       "Shuffle Reduce 7:   0%|          | 0/576 [00:00<?, ?it/s]"
      ]
     },
     "metadata": {},
     "output_type": "display_data"
    },
    {
     "data": {
      "application/vnd.jupyter.widget-view+json": {
       "model_id": "ebd7dc22155d461db0bb913c19a66f8d",
       "version_major": 2,
       "version_minor": 0
      },
      "text/plain": [
       "- MapBatches(group_fn)->MapBatches(_filter_train)->RandomShuffle 8:   0%|          | 0/576 [00:00<?, ?it/s]"
      ]
     },
     "metadata": {},
     "output_type": "display_data"
    },
    {
     "data": {
      "application/vnd.jupyter.widget-view+json": {
       "model_id": "aac8627b3ff04ec79d949c0cd11c7cc8",
       "version_major": 2,
       "version_minor": 0
      },
      "text/plain": [
       "Shuffle Map 9:   0%|          | 0/576 [00:00<?, ?it/s]"
      ]
     },
     "metadata": {},
     "output_type": "display_data"
    },
    {
     "data": {
      "application/vnd.jupyter.widget-view+json": {
       "model_id": "a949a00a76e24a08874482cde80a3b33",
       "version_major": 2,
       "version_minor": 0
      },
      "text/plain": [
       "Shuffle Reduce 10:   0%|          | 0/576 [00:00<?, ?it/s]"
      ]
     },
     "metadata": {},
     "output_type": "display_data"
    },
    {
     "data": {
      "application/vnd.jupyter.widget-view+json": {
       "model_id": "b3a3904999964034b4b705a98fead82c",
       "version_major": 2,
       "version_minor": 0
      },
      "text/plain": [
       "Running 0:   0%|          | 0/1 [00:00<?, ?it/s]"
      ]
     },
     "metadata": {},
     "output_type": "display_data"
    },
    {
     "data": {
      "application/vnd.jupyter.widget-view+json": {
       "model_id": "3c96be8e13154652ac84fad273d32fdc",
       "version_major": 2,
       "version_minor": 0
      },
      "text/plain": [
       "Sort Sample 0:   0%|          | 0/24 [00:00<?, ?it/s]"
      ]
     },
     "metadata": {},
     "output_type": "display_data"
    },
    {
     "data": {
      "text/plain": [
       "{'ids': tensor([[  102, 17755,   919,  ...,     0,     0,     0],\n",
       "         [  102,  3997,  1904,  ...,     0,     0,     0],\n",
       "         [  102,  3577,   791,  ...,     0,     0,     0],\n",
       "         ...,\n",
       "         [  102,  4631, 22938,  ...,     0,     0,     0],\n",
       "         [  102,   760,  1391,  ...,     0,     0,     0],\n",
       "         [  102, 16337,  5712,  ...,     0,     0,     0]], dtype=torch.int32),\n",
       " 'masks': tensor([[1, 1, 1,  ..., 0, 0, 0],\n",
       "         [1, 1, 1,  ..., 0, 0, 0],\n",
       "         [1, 1, 1,  ..., 0, 0, 0],\n",
       "         ...,\n",
       "         [1, 1, 1,  ..., 0, 0, 0],\n",
       "         [1, 1, 1,  ..., 0, 0, 0],\n",
       "         [1, 1, 1,  ..., 0, 0, 0]], dtype=torch.int32),\n",
       " 'targets': tensor([0, 3, 0, 2, 0, 1, 2, 2, 1, 2, 2, 0, 0, 0, 0, 2, 2, 0, 3, 3, 2, 3, 2, 0,\n",
       "         1, 2, 2, 0, 1, 2, 0, 3, 2, 1, 2, 0, 3, 0, 0, 2, 2, 0, 0, 2, 2, 3, 2, 3,\n",
       "         2, 0, 1, 2, 2, 0, 0, 2, 0, 3, 2, 0, 2, 0, 3, 0, 0, 2, 2, 0, 0, 2, 2, 3,\n",
       "         2, 3, 0, 2, 2, 2, 0, 0, 3, 0, 2, 0, 1, 2, 2, 1, 2, 2, 0, 0, 0, 0, 2, 2,\n",
       "         0, 3, 3, 2, 3, 2, 0, 1, 2, 2, 0, 2, 0, 0, 0, 2, 1, 0, 2, 0, 0, 1, 3, 0,\n",
       "         0, 2, 2, 3, 3, 0, 1, 2])}"
      ]
     },
     "execution_count": 45,
     "metadata": {},
     "output_type": "execute_result"
    }
   ],
   "source": [
    "# Sample batch\n",
    "sample_batch = sample_ds.take_batch(batch_size=128)\n",
    "collate_fn(batch=sample_batch)"
   ]
  },
  {
   "cell_type": "markdown",
   "id": "bdfcaa89",
   "metadata": {},
   "source": [
    "## 🧮 Utilities"
   ]
  },
  {
   "cell_type": "code",
   "execution_count": 46,
   "id": "8e7c48ae",
   "metadata": {},
   "outputs": [],
   "source": [
    "# Training step\n",
    "def train_step(ds, batch_size, model, num_classes, loss_fn, optimizer):\n",
    "    \"\"\"Train step.\"\"\"\n",
    "    model.train()\n",
    "    loss = 0.0\n",
    "    ds_generator = ds.iter_torch_batches(batch_size=batch_size, collate_fn=collate_fn)\n",
    "    for i, batch in enumerate(ds_generator):\n",
    "        optimizer.zero_grad()  # reset gradients\n",
    "        z = model(batch)  # forward pass\n",
    "        targets = F.one_hot(batch[\"targets\"], num_classes=num_classes).float()  # one-hot (for loss_fn)\n",
    "        J = loss_fn(z, targets)  # define loss\n",
    "        J.backward()  # backward pass\n",
    "        optimizer.step()  # update weights\n",
    "        loss += (J.detach().item() - loss) / (i + 1)  # cumulative loss\n",
    "    return loss"
   ]
  },
  {
   "cell_type": "code",
   "execution_count": 47,
   "id": "30a223ca",
   "metadata": {},
   "outputs": [],
   "source": [
    "# Evaluation step\n",
    "def eval_step(ds, batch_size, model, num_classes, loss_fn):\n",
    "    \"\"\"Eval step.\"\"\"\n",
    "    model.eval()\n",
    "    loss = 0.0\n",
    "    y_trues, y_preds = [], []\n",
    "    ds_generator = ds.iter_torch_batches(batch_size=batch_size, collate_fn=collate_fn)\n",
    "    with torch.inference_mode():\n",
    "        for i, batch in enumerate(ds_generator):\n",
    "            z = model(batch)\n",
    "            targets = F.one_hot(batch[\"targets\"], num_classes=num_classes).float()  # one-hot (for loss_fn)\n",
    "            J = loss_fn(z, targets).item()\n",
    "            loss += (J - loss) / (i + 1)\n",
    "            y_trues.extend(batch[\"targets\"].cpu().numpy())\n",
    "            y_preds.extend(torch.argmax(z, dim=1).cpu().numpy())\n",
    "    return loss, np.vstack(y_trues), np.vstack(y_preds)"
   ]
  },
  {
   "cell_type": "code",
   "execution_count": 48,
   "id": "c7c35ea2",
   "metadata": {},
   "outputs": [],
   "source": [
    "# Training loop\n",
    "def train_loop_per_worker(config):\n",
    "    # Hyperparameters\n",
    "    dropout_p = config[\"dropout_p\"]\n",
    "    lr = config[\"lr\"]\n",
    "    lr_factor = config[\"lr_factor\"]\n",
    "    lr_patience = config[\"lr_patience\"]\n",
    "    num_epochs = config[\"num_epochs\"]\n",
    "    batch_size = config[\"batch_size\"]\n",
    "    num_classes = config[\"num_classes\"]\n",
    "\n",
    "    # Get datasets\n",
    "    set_seeds()\n",
    "    train_ds = train.get_dataset_shard(\"train\")\n",
    "    val_ds = train.get_dataset_shard(\"val\")\n",
    "\n",
    "    # Model\n",
    "    llm = BertModel.from_pretrained(\"allenai/scibert_scivocab_uncased\", return_dict=False)\n",
    "    model = FinetunedLLM(llm=llm, dropout_p=dropout_p, embedding_dim=llm.config.hidden_size, num_classes=num_classes)\n",
    "    model = train.torch.prepare_model(model)\n",
    "\n",
    "    # Training components\n",
    "    loss_fn = nn.BCEWithLogitsLoss()\n",
    "    optimizer = torch.optim.Adam(model.parameters(), lr=lr)\n",
    "    scheduler = torch.optim.lr_scheduler.ReduceLROnPlateau(optimizer, mode=\"min\", factor=lr_factor, patience=lr_patience)\n",
    "\n",
    "    # Training\n",
    "    num_workers = train.get_context().get_world_size()\n",
    "    batch_size_per_worker = batch_size // num_workers\n",
    "    for epoch in range(num_epochs):\n",
    "        # Step\n",
    "        train_loss = train_step(train_ds, batch_size_per_worker, model, num_classes, loss_fn, optimizer)\n",
    "        val_loss, _, _ = eval_step(val_ds, batch_size_per_worker, model, num_classes, loss_fn)\n",
    "        scheduler.step(val_loss)\n",
    "\n",
    "        # Checkpoint\n",
    "        with tempfile.TemporaryDirectory() as dp:\n",
    "            if isinstance(model, DistributedDataParallel):  # cpu\n",
    "                model.module.save(dp=dp)\n",
    "            else:\n",
    "                model.save(dp=dp)\n",
    "            metrics = dict(epoch=epoch, lr=optimizer.param_groups[0][\"lr\"], train_loss=train_loss, val_loss=val_loss)\n",
    "            checkpoint = Checkpoint.from_directory(dp)\n",
    "            train.report(metrics, checkpoint=checkpoint)"
   ]
  },
  {
   "cell_type": "markdown",
   "id": "00ad9916",
   "metadata": {},
   "source": [
    "## 🗂️ Configurations"
   ]
  },
  {
   "cell_type": "code",
   "execution_count": 49,
   "id": "1803e7be",
   "metadata": {},
   "outputs": [],
   "source": [
    "# Train loop config\n",
    "train_loop_config = {\n",
    "    \"dropout_p\": 0.5,\n",
    "    \"lr\": 1e-4,\n",
    "    \"lr_factor\": 0.8,\n",
    "    \"lr_patience\": 3,\n",
    "    \"num_epochs\": 10,\n",
    "    \"batch_size\": 256,\n",
    "    \"num_classes\": num_classes,\n",
    "}"
   ]
  },
  {
   "cell_type": "code",
   "execution_count": 50,
   "id": "b6af5142",
   "metadata": {},
   "outputs": [],
   "source": [
    "# Scaling config\n",
    "scaling_config = ScalingConfig(\n",
    "    num_workers=num_workers,\n",
    "    use_gpu=bool(resources_per_worker[\"GPU\"]),\n",
    "    resources_per_worker=resources_per_worker\n",
    ")"
   ]
  },
  {
   "cell_type": "code",
   "execution_count": 51,
   "id": "42197004",
   "metadata": {},
   "outputs": [],
   "source": [
    "# Run config\n",
    "checkpoint_config = CheckpointConfig(num_to_keep=1, checkpoint_score_attribute=\"val_loss\", checkpoint_score_order=\"min\")\n",
    "# Fix RunConfig with proper storage path\n",
    "run_config = RunConfig(\n",
    "    name=\"llm\",\n",
    "    checkpoint_config=checkpoint_config,\n",
    "    local_dir=os.path.expanduser(\"~/ray_results\"),  \n",
    "    verbose=1\n",
    ")"
   ]
  },
  {
   "cell_type": "markdown",
   "id": "65ed507f",
   "metadata": {},
   "source": [
    "## 🚂 Training"
   ]
  },
  {
   "cell_type": "code",
   "execution_count": 52,
   "id": "07b7bc92",
   "metadata": {},
   "outputs": [
    {
     "name": "stderr",
     "output_type": "stream",
     "text": [
      "2025-08-19 15:39:28,222\tINFO read_api.py:406 -- To satisfy the requested parallelism of 24, each read task output is split into 24 smaller blocks.\n",
      "2025-08-19 15:39:28,238\tINFO streaming_executor.py:93 -- Executing DAG InputDataBuffer[Input] -> TaskPoolMapOperator[ReadCSV->SplitBlocks(24)] -> AllToAllOperator[RandomShuffle] -> LimitOperator[limit=1]\n",
      "2025-08-19 15:39:28,238\tINFO streaming_executor.py:94 -- Execution config: ExecutionOptions(resource_limits=ExecutionResources(cpu=None, gpu=None, object_store_memory=None), locality_with_output=False, preserve_order=True, actor_locality_enabled=True, verbose_progress=False)\n",
      "2025-08-19 15:39:28,238\tINFO streaming_executor.py:96 -- Tip: For detailed progress reporting, run `ray.data.DataContext.get_current().execution_options.verbose_progress = True`\n"
     ]
    },
    {
     "data": {
      "application/vnd.jupyter.widget-view+json": {
       "model_id": "2551fc442ff44b57b9c7e341f375b9e1",
       "version_major": 2,
       "version_minor": 0
      },
      "text/plain": [
       "- RandomShuffle 1:   0%|          | 0/576 [00:00<?, ?it/s]"
      ]
     },
     "metadata": {},
     "output_type": "display_data"
    },
    {
     "data": {
      "application/vnd.jupyter.widget-view+json": {
       "model_id": "0eb37e5df7094cac9fd0d64a1c4b8382",
       "version_major": 2,
       "version_minor": 0
      },
      "text/plain": [
       "Shuffle Map 2:   0%|          | 0/576 [00:00<?, ?it/s]"
      ]
     },
     "metadata": {},
     "output_type": "display_data"
    },
    {
     "data": {
      "application/vnd.jupyter.widget-view+json": {
       "model_id": "6efb52c68d64404db56cffd18b5919f1",
       "version_major": 2,
       "version_minor": 0
      },
      "text/plain": [
       "Shuffle Reduce 3:   0%|          | 0/576 [00:00<?, ?it/s]"
      ]
     },
     "metadata": {},
     "output_type": "display_data"
    },
    {
     "data": {
      "application/vnd.jupyter.widget-view+json": {
       "model_id": "1f34fb33c0f34c63aa55e256e4f797ff",
       "version_major": 2,
       "version_minor": 0
      },
      "text/plain": [
       "Running 0:   0%|          | 0/1 [00:00<?, ?it/s]"
      ]
     },
     "metadata": {},
     "output_type": "display_data"
    }
   ],
   "source": [
    "# Load and split data\n",
    "ds = load_data()\n",
    "train_ds, val_ds = stratify_split(ds, stratify=\"tag\", test_size=test_size)"
   ]
  },
  {
   "cell_type": "code",
   "execution_count": 53,
   "id": "f150dc29",
   "metadata": {},
   "outputs": [
    {
     "name": "stderr",
     "output_type": "stream",
     "text": [
      "2025-08-19 15:39:28,992\tINFO streaming_executor.py:93 -- Executing DAG InputDataBuffer[Input] -> TaskPoolMapOperator[ReadCSV->SplitBlocks(24)] -> AllToAllOperator[RandomShuffle] -> AllToAllOperator[Sort] -> AllToAllOperator[MapBatches(group_fn)->MapBatches(_filter_train)->RandomShuffle] -> LimitOperator[limit=1]\n",
      "2025-08-19 15:39:28,992\tINFO streaming_executor.py:94 -- Execution config: ExecutionOptions(resource_limits=ExecutionResources(cpu=None, gpu=None, object_store_memory=None), locality_with_output=False, preserve_order=True, actor_locality_enabled=True, verbose_progress=False)\n",
      "2025-08-19 15:39:28,992\tINFO streaming_executor.py:96 -- Tip: For detailed progress reporting, run `ray.data.DataContext.get_current().execution_options.verbose_progress = True`\n"
     ]
    },
    {
     "data": {
      "application/vnd.jupyter.widget-view+json": {
       "model_id": "a0f4e61925d341569e66d292aedaf711",
       "version_major": 2,
       "version_minor": 0
      },
      "text/plain": [
       "- RandomShuffle 1:   0%|          | 0/576 [00:00<?, ?it/s]"
      ]
     },
     "metadata": {},
     "output_type": "display_data"
    },
    {
     "data": {
      "application/vnd.jupyter.widget-view+json": {
       "model_id": "81538ea8445b4383ae12cde89d6f22ab",
       "version_major": 2,
       "version_minor": 0
      },
      "text/plain": [
       "Shuffle Map 2:   0%|          | 0/576 [00:00<?, ?it/s]"
      ]
     },
     "metadata": {},
     "output_type": "display_data"
    },
    {
     "data": {
      "application/vnd.jupyter.widget-view+json": {
       "model_id": "e30ff322d8b24d789608a33d379605b4",
       "version_major": 2,
       "version_minor": 0
      },
      "text/plain": [
       "Shuffle Reduce 3:   0%|          | 0/576 [00:00<?, ?it/s]"
      ]
     },
     "metadata": {},
     "output_type": "display_data"
    },
    {
     "data": {
      "application/vnd.jupyter.widget-view+json": {
       "model_id": "6a22f3d212ce41ccbb5ba3fb2ca95aa0",
       "version_major": 2,
       "version_minor": 0
      },
      "text/plain": [
       "- Sort 4:   0%|          | 0/576 [00:00<?, ?it/s]"
      ]
     },
     "metadata": {},
     "output_type": "display_data"
    },
    {
     "data": {
      "application/vnd.jupyter.widget-view+json": {
       "model_id": "0fa9828ebbd342199aa67e69e8825f73",
       "version_major": 2,
       "version_minor": 0
      },
      "text/plain": [
       "Sort Sample 5:   0%|          | 0/576 [00:00<?, ?it/s]"
      ]
     },
     "metadata": {},
     "output_type": "display_data"
    },
    {
     "data": {
      "application/vnd.jupyter.widget-view+json": {
       "model_id": "e3516d054788400c9ce8a1f410200eb7",
       "version_major": 2,
       "version_minor": 0
      },
      "text/plain": [
       "Shuffle Map 6:   0%|          | 0/576 [00:00<?, ?it/s]"
      ]
     },
     "metadata": {},
     "output_type": "display_data"
    },
    {
     "data": {
      "application/vnd.jupyter.widget-view+json": {
       "model_id": "6dc02b83fda5442bac7a729b82e41823",
       "version_major": 2,
       "version_minor": 0
      },
      "text/plain": [
       "Shuffle Reduce 7:   0%|          | 0/576 [00:00<?, ?it/s]"
      ]
     },
     "metadata": {},
     "output_type": "display_data"
    },
    {
     "data": {
      "application/vnd.jupyter.widget-view+json": {
       "model_id": "bf6265712c2d4820a4c1e9add257ae4f",
       "version_major": 2,
       "version_minor": 0
      },
      "text/plain": [
       "- MapBatches(group_fn)->MapBatches(_filter_train)->RandomShuffle 8:   0%|          | 0/576 [00:00<?, ?it/s]"
      ]
     },
     "metadata": {},
     "output_type": "display_data"
    },
    {
     "data": {
      "application/vnd.jupyter.widget-view+json": {
       "model_id": "944f087e1c234e7c89e0aefb702bfc30",
       "version_major": 2,
       "version_minor": 0
      },
      "text/plain": [
       "Shuffle Map 9:   0%|          | 0/576 [00:00<?, ?it/s]"
      ]
     },
     "metadata": {},
     "output_type": "display_data"
    },
    {
     "data": {
      "application/vnd.jupyter.widget-view+json": {
       "model_id": "c8ac02e1f76347a88eecd6d22ee739a6",
       "version_major": 2,
       "version_minor": 0
      },
      "text/plain": [
       "Shuffle Reduce 10:   0%|          | 0/576 [00:00<?, ?it/s]"
      ]
     },
     "metadata": {},
     "output_type": "display_data"
    },
    {
     "data": {
      "application/vnd.jupyter.widget-view+json": {
       "model_id": "b902c6944d81407bafe4b8234b548d4c",
       "version_major": 2,
       "version_minor": 0
      },
      "text/plain": [
       "Running 0:   0%|          | 0/1 [00:00<?, ?it/s]"
      ]
     },
     "metadata": {},
     "output_type": "display_data"
    },
    {
     "data": {
      "application/vnd.jupyter.widget-view+json": {
       "model_id": "cdcebfceda824a62ae6e2092db4ba150",
       "version_major": 2,
       "version_minor": 0
      },
      "text/plain": [
       "Sort Sample 0:   0%|          | 0/24 [00:00<?, ?it/s]"
      ]
     },
     "metadata": {},
     "output_type": "display_data"
    },
    {
     "name": "stderr",
     "output_type": "stream",
     "text": [
      "2025-08-19 15:39:30,293\tINFO streaming_executor.py:93 -- Executing DAG InputDataBuffer[Input] -> TaskPoolMapOperator[ReadCSV->SplitBlocks(24)] -> AllToAllOperator[RandomShuffle] -> AllToAllOperator[Sort] -> AllToAllOperator[MapBatches(group_fn)->MapBatches(_filter_train)->RandomShuffle] -> AllToAllOperator[Aggregate] -> TaskPoolMapOperator[MapBatches(<lambda>)]\n",
      "2025-08-19 15:39:30,296\tINFO streaming_executor.py:94 -- Execution config: ExecutionOptions(resource_limits=ExecutionResources(cpu=None, gpu=None, object_store_memory=None), locality_with_output=False, preserve_order=True, actor_locality_enabled=True, verbose_progress=False)\n",
      "2025-08-19 15:39:30,297\tINFO streaming_executor.py:96 -- Tip: For detailed progress reporting, run `ray.data.DataContext.get_current().execution_options.verbose_progress = True`\n"
     ]
    },
    {
     "data": {
      "application/vnd.jupyter.widget-view+json": {
       "model_id": "c936471545fd4c1182b629e2461b7408",
       "version_major": 2,
       "version_minor": 0
      },
      "text/plain": [
       "- RandomShuffle 1:   0%|          | 0/576 [00:00<?, ?it/s]"
      ]
     },
     "metadata": {},
     "output_type": "display_data"
    },
    {
     "data": {
      "application/vnd.jupyter.widget-view+json": {
       "model_id": "5025e789b7b74fcba3395694aa9df763",
       "version_major": 2,
       "version_minor": 0
      },
      "text/plain": [
       "Shuffle Map 2:   0%|          | 0/576 [00:00<?, ?it/s]"
      ]
     },
     "metadata": {},
     "output_type": "display_data"
    },
    {
     "data": {
      "application/vnd.jupyter.widget-view+json": {
       "model_id": "5f24dd95b46c4552a69c66ed36d69d61",
       "version_major": 2,
       "version_minor": 0
      },
      "text/plain": [
       "Shuffle Reduce 3:   0%|          | 0/576 [00:00<?, ?it/s]"
      ]
     },
     "metadata": {},
     "output_type": "display_data"
    },
    {
     "data": {
      "application/vnd.jupyter.widget-view+json": {
       "model_id": "3d6e1ae8fc9b411392acf6ccad05f281",
       "version_major": 2,
       "version_minor": 0
      },
      "text/plain": [
       "- Sort 4:   0%|          | 0/576 [00:00<?, ?it/s]"
      ]
     },
     "metadata": {},
     "output_type": "display_data"
    },
    {
     "data": {
      "application/vnd.jupyter.widget-view+json": {
       "model_id": "7e1e3fbb727e4a528525338934d3aed7",
       "version_major": 2,
       "version_minor": 0
      },
      "text/plain": [
       "Sort Sample 5:   0%|          | 0/576 [00:00<?, ?it/s]"
      ]
     },
     "metadata": {},
     "output_type": "display_data"
    },
    {
     "data": {
      "application/vnd.jupyter.widget-view+json": {
       "model_id": "b1ebd31941294420a870e3b81cfe4080",
       "version_major": 2,
       "version_minor": 0
      },
      "text/plain": [
       "Shuffle Map 6:   0%|          | 0/576 [00:00<?, ?it/s]"
      ]
     },
     "metadata": {},
     "output_type": "display_data"
    },
    {
     "data": {
      "application/vnd.jupyter.widget-view+json": {
       "model_id": "f9a6332ba1ad4a4c8ba4c6e78aa60806",
       "version_major": 2,
       "version_minor": 0
      },
      "text/plain": [
       "Shuffle Reduce 7:   0%|          | 0/576 [00:00<?, ?it/s]"
      ]
     },
     "metadata": {},
     "output_type": "display_data"
    },
    {
     "data": {
      "application/vnd.jupyter.widget-view+json": {
       "model_id": "c72241e399b2440782f0618e66b63979",
       "version_major": 2,
       "version_minor": 0
      },
      "text/plain": [
       "- MapBatches(group_fn)->MapBatches(_filter_train)->RandomShuffle 8:   0%|          | 0/576 [00:00<?, ?it/s]"
      ]
     },
     "metadata": {},
     "output_type": "display_data"
    },
    {
     "data": {
      "application/vnd.jupyter.widget-view+json": {
       "model_id": "9cedebca8dec43c6a2016700a76233f6",
       "version_major": 2,
       "version_minor": 0
      },
      "text/plain": [
       "Shuffle Map 9:   0%|          | 0/576 [00:00<?, ?it/s]"
      ]
     },
     "metadata": {},
     "output_type": "display_data"
    },
    {
     "data": {
      "application/vnd.jupyter.widget-view+json": {
       "model_id": "8dc1c8e28eb34a7796bd65551bb9b68d",
       "version_major": 2,
       "version_minor": 0
      },
      "text/plain": [
       "Shuffle Reduce 10:   0%|          | 0/576 [00:00<?, ?it/s]"
      ]
     },
     "metadata": {},
     "output_type": "display_data"
    },
    {
     "data": {
      "application/vnd.jupyter.widget-view+json": {
       "model_id": "43117a17596f4f139562bbb4d10c6610",
       "version_major": 2,
       "version_minor": 0
      },
      "text/plain": [
       "- Aggregate 11:   0%|          | 0/576 [00:00<?, ?it/s]"
      ]
     },
     "metadata": {},
     "output_type": "display_data"
    },
    {
     "data": {
      "application/vnd.jupyter.widget-view+json": {
       "model_id": "ba2ec89feded4c55be456665fa198d1b",
       "version_major": 2,
       "version_minor": 0
      },
      "text/plain": [
       "Shuffle Map 12:   0%|          | 0/576 [00:00<?, ?it/s]"
      ]
     },
     "metadata": {},
     "output_type": "display_data"
    },
    {
     "data": {
      "application/vnd.jupyter.widget-view+json": {
       "model_id": "f7e15006876b44d68d1ef4f53cbeb20c",
       "version_major": 2,
       "version_minor": 0
      },
      "text/plain": [
       "Shuffle Reduce 13:   0%|          | 0/576 [00:00<?, ?it/s]"
      ]
     },
     "metadata": {},
     "output_type": "display_data"
    },
    {
     "data": {
      "application/vnd.jupyter.widget-view+json": {
       "model_id": "9ca8a600790f482d92b5a1e71add8c61",
       "version_major": 2,
       "version_minor": 0
      },
      "text/plain": [
       "Running 0:   0%|          | 0/576 [00:00<?, ?it/s]"
      ]
     },
     "metadata": {},
     "output_type": "display_data"
    },
    {
     "data": {
      "application/vnd.jupyter.widget-view+json": {
       "model_id": "58851154b86e4ae8823987eca24149c0",
       "version_major": 2,
       "version_minor": 0
      },
      "text/plain": [
       "Sort Sample 0:   0%|          | 0/24 [00:00<?, ?it/s]"
      ]
     },
     "metadata": {},
     "output_type": "display_data"
    },
    {
     "data": {
      "application/vnd.jupyter.widget-view+json": {
       "model_id": "88cfcb7159b14ef3abb142e825ed9af3",
       "version_major": 2,
       "version_minor": 0
      },
      "text/plain": [
       "Sort Sample 0:   0%|          | 0/24 [00:00<?, ?it/s]"
      ]
     },
     "metadata": {},
     "output_type": "display_data"
    },
    {
     "name": "stderr",
     "output_type": "stream",
     "text": [
      "2025-08-19 15:39:32,180\tINFO streaming_executor.py:93 -- Executing DAG InputDataBuffer[Input] -> TaskPoolMapOperator[ReadCSV->SplitBlocks(24)] -> AllToAllOperator[RandomShuffle] -> AllToAllOperator[Sort] -> AllToAllOperator[MapBatches(group_fn)->MapBatches(_filter_train)->RandomShuffle] -> TaskPoolMapOperator[MapBatches(CustomPreprocessor._transform_pandas)]\n",
      "2025-08-19 15:39:32,181\tINFO streaming_executor.py:94 -- Execution config: ExecutionOptions(resource_limits=ExecutionResources(cpu=None, gpu=None, object_store_memory=None), locality_with_output=False, preserve_order=True, actor_locality_enabled=True, verbose_progress=False)\n",
      "2025-08-19 15:39:32,182\tINFO streaming_executor.py:96 -- Tip: For detailed progress reporting, run `ray.data.DataContext.get_current().execution_options.verbose_progress = True`\n"
     ]
    },
    {
     "data": {
      "application/vnd.jupyter.widget-view+json": {
       "model_id": "3675b6c8a47347c8b4c1261a15dcb212",
       "version_major": 2,
       "version_minor": 0
      },
      "text/plain": [
       "- RandomShuffle 1:   0%|          | 0/576 [00:00<?, ?it/s]"
      ]
     },
     "metadata": {},
     "output_type": "display_data"
    },
    {
     "data": {
      "application/vnd.jupyter.widget-view+json": {
       "model_id": "9c0ff846ff044c09a4c73b9149a33538",
       "version_major": 2,
       "version_minor": 0
      },
      "text/plain": [
       "Shuffle Map 2:   0%|          | 0/576 [00:00<?, ?it/s]"
      ]
     },
     "metadata": {},
     "output_type": "display_data"
    },
    {
     "data": {
      "application/vnd.jupyter.widget-view+json": {
       "model_id": "15b6c07682ff4ac2adbbccdc22e242b3",
       "version_major": 2,
       "version_minor": 0
      },
      "text/plain": [
       "Shuffle Reduce 3:   0%|          | 0/576 [00:00<?, ?it/s]"
      ]
     },
     "metadata": {},
     "output_type": "display_data"
    },
    {
     "data": {
      "application/vnd.jupyter.widget-view+json": {
       "model_id": "3b4a9972e36a487cb6576f977f51bd0e",
       "version_major": 2,
       "version_minor": 0
      },
      "text/plain": [
       "- Sort 4:   0%|          | 0/576 [00:00<?, ?it/s]"
      ]
     },
     "metadata": {},
     "output_type": "display_data"
    },
    {
     "data": {
      "application/vnd.jupyter.widget-view+json": {
       "model_id": "1750563bb72349f0a3ad0345a10f03d8",
       "version_major": 2,
       "version_minor": 0
      },
      "text/plain": [
       "Sort Sample 5:   0%|          | 0/576 [00:00<?, ?it/s]"
      ]
     },
     "metadata": {},
     "output_type": "display_data"
    },
    {
     "data": {
      "application/vnd.jupyter.widget-view+json": {
       "model_id": "cb1682fd67824cefbab23b66b542925a",
       "version_major": 2,
       "version_minor": 0
      },
      "text/plain": [
       "Shuffle Map 6:   0%|          | 0/576 [00:00<?, ?it/s]"
      ]
     },
     "metadata": {},
     "output_type": "display_data"
    },
    {
     "data": {
      "application/vnd.jupyter.widget-view+json": {
       "model_id": "1c49ed7346144568a26a88fa79583d1e",
       "version_major": 2,
       "version_minor": 0
      },
      "text/plain": [
       "Shuffle Reduce 7:   0%|          | 0/576 [00:00<?, ?it/s]"
      ]
     },
     "metadata": {},
     "output_type": "display_data"
    },
    {
     "data": {
      "application/vnd.jupyter.widget-view+json": {
       "model_id": "91ed139eba204c3cb4c1d95521efae68",
       "version_major": 2,
       "version_minor": 0
      },
      "text/plain": [
       "- MapBatches(group_fn)->MapBatches(_filter_train)->RandomShuffle 8:   0%|          | 0/576 [00:00<?, ?it/s]"
      ]
     },
     "metadata": {},
     "output_type": "display_data"
    },
    {
     "data": {
      "application/vnd.jupyter.widget-view+json": {
       "model_id": "a4212c428a5a4c5480200c18279d31c9",
       "version_major": 2,
       "version_minor": 0
      },
      "text/plain": [
       "Shuffle Map 9:   0%|          | 0/576 [00:00<?, ?it/s]"
      ]
     },
     "metadata": {},
     "output_type": "display_data"
    },
    {
     "data": {
      "application/vnd.jupyter.widget-view+json": {
       "model_id": "2d1042675ffb4439981dd384561375f9",
       "version_major": 2,
       "version_minor": 0
      },
      "text/plain": [
       "Shuffle Reduce 10:   0%|          | 0/576 [00:00<?, ?it/s]"
      ]
     },
     "metadata": {},
     "output_type": "display_data"
    },
    {
     "data": {
      "application/vnd.jupyter.widget-view+json": {
       "model_id": "ca2bc8cb72304f1dbf04d72dde3d8865",
       "version_major": 2,
       "version_minor": 0
      },
      "text/plain": [
       "Running 0:   0%|          | 0/576 [00:00<?, ?it/s]"
      ]
     },
     "metadata": {},
     "output_type": "display_data"
    },
    {
     "data": {
      "application/vnd.jupyter.widget-view+json": {
       "model_id": "fe2d55d25ffa4fb090b771ffadfdb1bd",
       "version_major": 2,
       "version_minor": 0
      },
      "text/plain": [
       "Sort Sample 0:   0%|          | 0/24 [00:00<?, ?it/s]"
      ]
     },
     "metadata": {},
     "output_type": "display_data"
    },
    {
     "name": "stderr",
     "output_type": "stream",
     "text": [
      "2025-08-19 15:39:34,120\tINFO streaming_executor.py:93 -- Executing DAG InputDataBuffer[Input] -> TaskPoolMapOperator[ReadCSV->SplitBlocks(24)] -> AllToAllOperator[RandomShuffle] -> AllToAllOperator[Sort] -> AllToAllOperator[MapBatches(group_fn)->MapBatches(_filter_test)->RandomShuffle] -> TaskPoolMapOperator[MapBatches(CustomPreprocessor._transform_pandas)]\n",
      "2025-08-19 15:39:34,121\tINFO streaming_executor.py:94 -- Execution config: ExecutionOptions(resource_limits=ExecutionResources(cpu=None, gpu=None, object_store_memory=None), locality_with_output=False, preserve_order=True, actor_locality_enabled=True, verbose_progress=False)\n",
      "2025-08-19 15:39:34,123\tINFO streaming_executor.py:96 -- Tip: For detailed progress reporting, run `ray.data.DataContext.get_current().execution_options.verbose_progress = True`\n"
     ]
    },
    {
     "data": {
      "application/vnd.jupyter.widget-view+json": {
       "model_id": "9e9e7dbe1649419387208cb30fd95955",
       "version_major": 2,
       "version_minor": 0
      },
      "text/plain": [
       "- RandomShuffle 1:   0%|          | 0/576 [00:00<?, ?it/s]"
      ]
     },
     "metadata": {},
     "output_type": "display_data"
    },
    {
     "data": {
      "application/vnd.jupyter.widget-view+json": {
       "model_id": "ec02e5c336374470a3af9f910dacf0e8",
       "version_major": 2,
       "version_minor": 0
      },
      "text/plain": [
       "Shuffle Map 2:   0%|          | 0/576 [00:00<?, ?it/s]"
      ]
     },
     "metadata": {},
     "output_type": "display_data"
    },
    {
     "data": {
      "application/vnd.jupyter.widget-view+json": {
       "model_id": "18597c20ee024e33ae21511d6d08c161",
       "version_major": 2,
       "version_minor": 0
      },
      "text/plain": [
       "Shuffle Reduce 3:   0%|          | 0/576 [00:00<?, ?it/s]"
      ]
     },
     "metadata": {},
     "output_type": "display_data"
    },
    {
     "data": {
      "application/vnd.jupyter.widget-view+json": {
       "model_id": "a618b1d3a87b4dd1bd518383737d1f5b",
       "version_major": 2,
       "version_minor": 0
      },
      "text/plain": [
       "- Sort 4:   0%|          | 0/576 [00:00<?, ?it/s]"
      ]
     },
     "metadata": {},
     "output_type": "display_data"
    },
    {
     "data": {
      "application/vnd.jupyter.widget-view+json": {
       "model_id": "1358f8fed6ad4e329a65367004a7828d",
       "version_major": 2,
       "version_minor": 0
      },
      "text/plain": [
       "Sort Sample 5:   0%|          | 0/576 [00:00<?, ?it/s]"
      ]
     },
     "metadata": {},
     "output_type": "display_data"
    },
    {
     "data": {
      "application/vnd.jupyter.widget-view+json": {
       "model_id": "23a259ebdea942979bd2af97d3b93874",
       "version_major": 2,
       "version_minor": 0
      },
      "text/plain": [
       "Shuffle Map 6:   0%|          | 0/576 [00:00<?, ?it/s]"
      ]
     },
     "metadata": {},
     "output_type": "display_data"
    },
    {
     "data": {
      "application/vnd.jupyter.widget-view+json": {
       "model_id": "17476f10bb064bb3bcc007d7324a464c",
       "version_major": 2,
       "version_minor": 0
      },
      "text/plain": [
       "Shuffle Reduce 7:   0%|          | 0/576 [00:00<?, ?it/s]"
      ]
     },
     "metadata": {},
     "output_type": "display_data"
    },
    {
     "data": {
      "application/vnd.jupyter.widget-view+json": {
       "model_id": "c57e098c482245c0b58849d0f4b3b05c",
       "version_major": 2,
       "version_minor": 0
      },
      "text/plain": [
       "- MapBatches(group_fn)->MapBatches(_filter_test)->RandomShuffle 8:   0%|          | 0/576 [00:00<?, ?it/s]"
      ]
     },
     "metadata": {},
     "output_type": "display_data"
    },
    {
     "data": {
      "application/vnd.jupyter.widget-view+json": {
       "model_id": "a41dfe91754e499cbf7dfabf57f453cf",
       "version_major": 2,
       "version_minor": 0
      },
      "text/plain": [
       "Shuffle Map 9:   0%|          | 0/576 [00:00<?, ?it/s]"
      ]
     },
     "metadata": {},
     "output_type": "display_data"
    },
    {
     "data": {
      "application/vnd.jupyter.widget-view+json": {
       "model_id": "d249df10ed0444ad8867ef661f688d9b",
       "version_major": 2,
       "version_minor": 0
      },
      "text/plain": [
       "Shuffle Reduce 10:   0%|          | 0/576 [00:00<?, ?it/s]"
      ]
     },
     "metadata": {},
     "output_type": "display_data"
    },
    {
     "data": {
      "application/vnd.jupyter.widget-view+json": {
       "model_id": "ea94d57e034149ad9a68dd7f9c31a6e8",
       "version_major": 2,
       "version_minor": 0
      },
      "text/plain": [
       "Running 0:   0%|          | 0/576 [00:00<?, ?it/s]"
      ]
     },
     "metadata": {},
     "output_type": "display_data"
    },
    {
     "data": {
      "application/vnd.jupyter.widget-view+json": {
       "model_id": "6c6b6c43b0ff4b5888a12c587ec454f8",
       "version_major": 2,
       "version_minor": 0
      },
      "text/plain": [
       "Sort Sample 0:   0%|          | 0/24 [00:00<?, ?it/s]"
      ]
     },
     "metadata": {},
     "output_type": "display_data"
    }
   ],
   "source": [
    "# Preprocess\n",
    "preprocessor = CustomPreprocessor()\n",
    "train_ds =  preprocessor.fit_transform(train_ds)\n",
    "val_ds = preprocessor.transform(val_ds)\n",
    "train_ds = train_ds.materialize()\n",
    "val_ds = val_ds.materialize()"
   ]
  },
  {
   "cell_type": "code",
   "execution_count": 54,
   "id": "ba2bc12a",
   "metadata": {},
   "outputs": [],
   "source": [
    "# Dataset config\n",
    "options = ray.data.ExecutionOptions(preserve_order=True)\n",
    "dataset_config = DataConfig(\n",
    "    datasets_to_split=[\"train\"],\n",
    "    execution_options=options\n",
    "    )"
   ]
  },
  {
   "cell_type": "code",
   "execution_count": 55,
   "id": "24e8921f",
   "metadata": {},
   "outputs": [],
   "source": [
    "# Trainer\n",
    "trainer = TorchTrainer(\n",
    "    train_loop_per_worker=train_loop_per_worker,\n",
    "    train_loop_config=train_loop_config,\n",
    "    scaling_config=scaling_config,\n",
    "    run_config=run_config,\n",
    "    datasets={\"train\": train_ds, \"val\": val_ds},\n",
    "    dataset_config=dataset_config,\n",
    "    torch_config=TorchConfig(backend=\"gloo\"),\n",
    "    metadata={\"class_to_index\": preprocessor.class_to_index}\n",
    ")"
   ]
  },
  {
   "cell_type": "code",
   "execution_count": 56,
   "id": "e0cd5904",
   "metadata": {},
   "outputs": [
    {
     "data": {
      "text/html": [
       "<div class=\"tuneStatus\">\n",
       "  <div style=\"display: flex;flex-direction: row\">\n",
       "    <div style=\"display: flex;flex-direction: column;\">\n",
       "      <h3>Tune Status</h3>\n",
       "      <table>\n",
       "<tbody>\n",
       "<tr><td>Current time:</td><td>2025-08-19 16:45:46</td></tr>\n",
       "<tr><td>Running for: </td><td>01:06:09.11        </td></tr>\n",
       "<tr><td>Memory:      </td><td>4.3/7.7 GiB        </td></tr>\n",
       "</tbody>\n",
       "</table>\n",
       "    </div>\n",
       "    <div class=\"vDivider\"></div>\n",
       "    <div class=\"systemInfo\">\n",
       "      <h3>System Info</h3>\n",
       "      Using FIFO scheduling algorithm.<br>Logical resource usage: 3.0/12 CPUs, 1.0/1 GPUs\n",
       "    </div>\n",
       "    \n",
       "  </div>\n",
       "  <div class=\"hDivider\"></div>\n",
       "  <div class=\"trialStatus\">\n",
       "    <h3>Trial Status</h3>\n",
       "    <table>\n",
       "<thead>\n",
       "<tr><th>Trial name              </th><th>status    </th><th>loc            </th><th style=\"text-align: right;\">  iter</th><th style=\"text-align: right;\">  total time (s)</th><th style=\"text-align: right;\">  epoch</th><th style=\"text-align: right;\">    lr</th><th style=\"text-align: right;\">  train_loss</th></tr>\n",
       "</thead>\n",
       "<tbody>\n",
       "<tr><td>TorchTrainer_90bd1_00000</td><td>TERMINATED</td><td>127.0.0.1:24048</td><td style=\"text-align: right;\">    10</td><td style=\"text-align: right;\">         3953.53</td><td style=\"text-align: right;\">      9</td><td style=\"text-align: right;\">0.0001</td><td style=\"text-align: right;\">    0.031551</td></tr>\n",
       "</tbody>\n",
       "</table>\n",
       "  </div>\n",
       "</div>\n",
       "<style>\n",
       ".tuneStatus {\n",
       "  color: var(--jp-ui-font-color1);\n",
       "}\n",
       ".tuneStatus .systemInfo {\n",
       "  display: flex;\n",
       "  flex-direction: column;\n",
       "}\n",
       ".tuneStatus td {\n",
       "  white-space: nowrap;\n",
       "}\n",
       ".tuneStatus .trialStatus {\n",
       "  display: flex;\n",
       "  flex-direction: column;\n",
       "}\n",
       ".tuneStatus h3 {\n",
       "  font-weight: bold;\n",
       "}\n",
       ".tuneStatus .hDivider {\n",
       "  border-bottom-width: var(--jp-border-width);\n",
       "  border-bottom-color: var(--jp-border-color0);\n",
       "  border-bottom-style: solid;\n",
       "}\n",
       ".tuneStatus .vDivider {\n",
       "  border-left-width: var(--jp-border-width);\n",
       "  border-left-color: var(--jp-border-color0);\n",
       "  border-left-style: solid;\n",
       "  margin: 0.5em 1em 0.5em 1em;\n",
       "}\n",
       "</style>\n"
      ],
      "text/plain": [
       "<IPython.core.display.HTML object>"
      ]
     },
     "metadata": {},
     "output_type": "display_data"
    },
    {
     "data": {
      "application/vnd.jupyter.widget-view+json": {
       "model_id": "ac8e6e65c7fb4e18847f1418bcc254d6",
       "version_major": 2,
       "version_minor": 0
      },
      "text/plain": [
       "(pid=3308) Running 0:   0%|          | 0/24 [00:00<?, ?it/s]"
      ]
     },
     "metadata": {},
     "output_type": "display_data"
    },
    {
     "name": "stderr",
     "output_type": "stream",
     "text": [
      "2025-08-19 15:41:06,346\tWARNING util.py:315 -- The `on_step_begin` operation took 0.875 s, which may be a performance bottleneck.\n",
      "2025-08-19 15:41:50,323\tWARNING util.py:315 -- The `on_step_begin` operation took 0.607 s, which may be a performance bottleneck.\n",
      "2025-08-19 15:43:43,198\tWARNING util.py:315 -- The `on_step_begin` operation took 0.551 s, which may be a performance bottleneck.\n",
      "2025-08-19 15:44:27,085\tWARNING util.py:315 -- The `on_step_begin` operation took 0.754 s, which may be a performance bottleneck.\n",
      "2025-08-19 15:45:56,610\tWARNING syncer.py:458 -- Last sync command failed with the following error:\n",
      "Traceback (most recent call last):\n",
      "  File \"c:\\Users\\sara\\miniconda3\\envs\\mwml\\lib\\site-packages\\ray\\train\\_internal\\syncer.py\", line 456, in _launch_sync_process\n",
      "    self.wait()\n",
      "  File \"c:\\Users\\sara\\miniconda3\\envs\\mwml\\lib\\site-packages\\ray\\train\\_internal\\syncer.py\", line 530, in wait\n",
      "    raise e\n",
      "  File \"c:\\Users\\sara\\miniconda3\\envs\\mwml\\lib\\site-packages\\ray\\train\\_internal\\syncer.py\", line 528, in wait\n",
      "    self._sync_process.wait(timeout=self.sync_timeout)\n",
      "  File \"c:\\Users\\sara\\miniconda3\\envs\\mwml\\lib\\site-packages\\ray\\train\\_internal\\syncer.py\", line 203, in wait\n",
      "    raise exception\n",
      "  File \"c:\\Users\\sara\\miniconda3\\envs\\mwml\\lib\\site-packages\\ray\\train\\_internal\\syncer.py\", line 166, in entrypoint\n",
      "    result = self._fn(*args, **kwargs)\n",
      "  File \"c:\\Users\\sara\\miniconda3\\envs\\mwml\\lib\\site-packages\\ray\\train\\_internal\\storage.py\", line 221, in _upload_to_fs_path\n",
      "    _upload_to_uri_with_exclude_fsspec(\n",
      "  File \"c:\\Users\\sara\\miniconda3\\envs\\mwml\\lib\\site-packages\\ray\\train\\_internal\\storage.py\", line 234, in _upload_to_uri_with_exclude_fsspec\n",
      "    _pyarrow_fs_copy_files(\n",
      "  File \"c:\\Users\\sara\\miniconda3\\envs\\mwml\\lib\\site-packages\\ray\\train\\_internal\\storage.py\", line 115, in _pyarrow_fs_copy_files\n",
      "    return pyarrow.fs.copy_files(\n",
      "  File \"c:\\Users\\sara\\miniconda3\\envs\\mwml\\lib\\site-packages\\pyarrow\\fs.py\", line 244, in copy_files\n",
      "    _copy_files_selector(source_fs, source_sel,\n",
      "  File \"pyarrow\\_fs.pyx\", line 1229, in pyarrow._fs._copy_files_selector\n",
      "  File \"pyarrow\\error.pxi\", line 99, in pyarrow.lib.check_status\n",
      "pyarrow.lib.ArrowInvalid: GetFileInfo() yielded path 'C:/Users/sara/ray_results/llm', which is outside base dir 'C:\\Users\\sara/ray_results\\llm'\n",
      "\n",
      "2025-08-19 15:46:06,122\tWARNING experiment_state.py:311 -- The previous sync of the experiment directory to the cloud failed with the error: GetFileInfo() yielded path 'C:/Users/sara/ray_results/llm', which is outside base dir 'C:\\Users\\sara/ray_results\\llm'\n",
      "Syncing will be retried.\n"
     ]
    },
    {
     "data": {
      "application/vnd.jupyter.widget-view+json": {
       "model_id": "e571e8b5bed243f3a7df7556d52fb628",
       "version_major": 2,
       "version_minor": 0
      },
      "text/plain": [
       "(pid=3308) Running 0:   0%|          | 0/24 [00:00<?, ?it/s]"
      ]
     },
     "metadata": {},
     "output_type": "display_data"
    },
    {
     "name": "stderr",
     "output_type": "stream",
     "text": [
      "2025-08-19 15:46:06,133\tWARNING experiment_state.py:371 -- Experiment checkpoint syncing has been triggered multiple times in the last 30.0 seconds. A sync will be triggered whenever a trial has checkpointed more than `num_to_keep` times since last sync or if 300 seconds have passed since last sync. If you have set `num_to_keep` in your `CheckpointConfig`, consider increasing the checkpoint frequency or keeping more checkpoints. You can supress this warning by changing the `TUNE_WARN_EXCESSIVE_EXPERIMENT_CHECKPOINT_SYNC_THRESHOLD_S` environment variable.\n",
      "2025-08-19 15:46:18,603\tWARNING util.py:315 -- The `on_step_begin` operation took 0.508 s, which may be a performance bottleneck.\n",
      "2025-08-19 15:48:57,579\tWARNING util.py:315 -- The `on_step_begin` operation took 2.089 s, which may be a performance bottleneck.\n",
      "2025-08-19 15:50:42,066\tWARNING util.py:315 -- The `on_step_begin` operation took 1.221 s, which may be a performance bottleneck.\n",
      "2025-08-19 15:50:51,617\tWARNING util.py:315 -- The `on_step_begin` operation took 1.003 s, which may be a performance bottleneck.\n"
     ]
    },
    {
     "data": {
      "application/vnd.jupyter.widget-view+json": {
       "model_id": "203e20c4702e45ee9c7a5e634dfcc43c",
       "version_major": 2,
       "version_minor": 0
      },
      "text/plain": [
       "(pid=3308) Running 0:   0%|          | 0/24 [00:00<?, ?it/s]"
      ]
     },
     "metadata": {},
     "output_type": "display_data"
    },
    {
     "name": "stderr",
     "output_type": "stream",
     "text": [
      "2025-08-19 15:52:21,127\tWARNING experiment_state.py:311 -- The previous sync of the experiment directory to the cloud failed with the error: GetFileInfo() yielded path 'C:/Users/sara/ray_results/llm', which is outside base dir 'C:\\Users\\sara/ray_results\\llm'\n",
      "Syncing will be retried.\n",
      "2025-08-19 15:52:54,768\tWARNING syncer.py:458 -- Last sync command failed with the following error:\n",
      "Traceback (most recent call last):\n",
      "  File \"c:\\Users\\sara\\miniconda3\\envs\\mwml\\lib\\site-packages\\ray\\train\\_internal\\syncer.py\", line 456, in _launch_sync_process\n",
      "    self.wait()\n",
      "  File \"c:\\Users\\sara\\miniconda3\\envs\\mwml\\lib\\site-packages\\ray\\train\\_internal\\syncer.py\", line 530, in wait\n",
      "    raise e\n",
      "  File \"c:\\Users\\sara\\miniconda3\\envs\\mwml\\lib\\site-packages\\ray\\train\\_internal\\syncer.py\", line 528, in wait\n",
      "    self._sync_process.wait(timeout=self.sync_timeout)\n",
      "  File \"c:\\Users\\sara\\miniconda3\\envs\\mwml\\lib\\site-packages\\ray\\train\\_internal\\syncer.py\", line 203, in wait\n",
      "    raise exception\n",
      "  File \"c:\\Users\\sara\\miniconda3\\envs\\mwml\\lib\\site-packages\\ray\\train\\_internal\\syncer.py\", line 166, in entrypoint\n",
      "    result = self._fn(*args, **kwargs)\n",
      "  File \"c:\\Users\\sara\\miniconda3\\envs\\mwml\\lib\\site-packages\\ray\\train\\_internal\\storage.py\", line 221, in _upload_to_fs_path\n",
      "    _upload_to_uri_with_exclude_fsspec(\n",
      "  File \"c:\\Users\\sara\\miniconda3\\envs\\mwml\\lib\\site-packages\\ray\\train\\_internal\\storage.py\", line 234, in _upload_to_uri_with_exclude_fsspec\n",
      "    _pyarrow_fs_copy_files(\n",
      "  File \"c:\\Users\\sara\\miniconda3\\envs\\mwml\\lib\\site-packages\\ray\\train\\_internal\\storage.py\", line 115, in _pyarrow_fs_copy_files\n",
      "    return pyarrow.fs.copy_files(\n",
      "  File \"c:\\Users\\sara\\miniconda3\\envs\\mwml\\lib\\site-packages\\pyarrow\\fs.py\", line 244, in copy_files\n",
      "    _copy_files_selector(source_fs, source_sel,\n",
      "  File \"pyarrow\\_fs.pyx\", line 1229, in pyarrow._fs._copy_files_selector\n",
      "  File \"pyarrow\\error.pxi\", line 99, in pyarrow.lib.check_status\n",
      "pyarrow.lib.ArrowInvalid: GetFileInfo() yielded path 'C:/Users/sara/ray_results/llm', which is outside base dir 'C:\\Users\\sara/ray_results\\llm'\n",
      "\n",
      "2025-08-19 15:53:08,912\tWARNING util.py:315 -- The `on_step_begin` operation took 1.356 s, which may be a performance bottleneck.\n",
      "2025-08-19 15:53:37,653\tWARNING util.py:315 -- The `on_step_begin` operation took 18.957 s, which may be a performance bottleneck.\n",
      "2025-08-19 15:54:55,300\tWARNING util.py:315 -- The `on_step_begin` operation took 2.930 s, which may be a performance bottleneck.\n",
      "2025-08-19 15:55:19,862\tWARNING util.py:315 -- The `callbacks.on_step_begin` operation took 0.732 s, which may be a performance bottleneck.\n",
      "2025-08-19 15:55:58,910\tWARNING util.py:315 -- The `on_step_begin` operation took 2.797 s, which may be a performance bottleneck.\n"
     ]
    },
    {
     "data": {
      "application/vnd.jupyter.widget-view+json": {
       "model_id": "a333a29ec1414d7e874e7c2f0cf11630",
       "version_major": 2,
       "version_minor": 0
      },
      "text/plain": [
       "(pid=3308) Running 0:   0%|          | 0/24 [00:00<?, ?it/s]"
      ]
     },
     "metadata": {},
     "output_type": "display_data"
    },
    {
     "name": "stderr",
     "output_type": "stream",
     "text": [
      "2025-08-19 15:57:58,917\tWARNING experiment_state.py:311 -- The previous sync of the experiment directory to the cloud failed with the error: GetFileInfo() yielded path 'C:/Users/sara/ray_results/llm', which is outside base dir 'C:\\Users\\sara/ray_results\\llm'\n",
      "Syncing will be retried.\n",
      "2025-08-19 15:58:09,439\tWARNING syncer.py:458 -- Last sync command failed with the following error:\n",
      "Traceback (most recent call last):\n",
      "  File \"c:\\Users\\sara\\miniconda3\\envs\\mwml\\lib\\site-packages\\ray\\train\\_internal\\syncer.py\", line 456, in _launch_sync_process\n",
      "    self.wait()\n",
      "  File \"c:\\Users\\sara\\miniconda3\\envs\\mwml\\lib\\site-packages\\ray\\train\\_internal\\syncer.py\", line 530, in wait\n",
      "    raise e\n",
      "  File \"c:\\Users\\sara\\miniconda3\\envs\\mwml\\lib\\site-packages\\ray\\train\\_internal\\syncer.py\", line 528, in wait\n",
      "    self._sync_process.wait(timeout=self.sync_timeout)\n",
      "  File \"c:\\Users\\sara\\miniconda3\\envs\\mwml\\lib\\site-packages\\ray\\train\\_internal\\syncer.py\", line 203, in wait\n",
      "    raise exception\n",
      "  File \"c:\\Users\\sara\\miniconda3\\envs\\mwml\\lib\\site-packages\\ray\\train\\_internal\\syncer.py\", line 166, in entrypoint\n",
      "    result = self._fn(*args, **kwargs)\n",
      "  File \"c:\\Users\\sara\\miniconda3\\envs\\mwml\\lib\\site-packages\\ray\\train\\_internal\\storage.py\", line 221, in _upload_to_fs_path\n",
      "    _upload_to_uri_with_exclude_fsspec(\n",
      "  File \"c:\\Users\\sara\\miniconda3\\envs\\mwml\\lib\\site-packages\\ray\\train\\_internal\\storage.py\", line 234, in _upload_to_uri_with_exclude_fsspec\n",
      "    _pyarrow_fs_copy_files(\n",
      "  File \"c:\\Users\\sara\\miniconda3\\envs\\mwml\\lib\\site-packages\\ray\\train\\_internal\\storage.py\", line 115, in _pyarrow_fs_copy_files\n",
      "    return pyarrow.fs.copy_files(\n",
      "  File \"c:\\Users\\sara\\miniconda3\\envs\\mwml\\lib\\site-packages\\pyarrow\\fs.py\", line 244, in copy_files\n",
      "    _copy_files_selector(source_fs, source_sel,\n",
      "  File \"pyarrow\\_fs.pyx\", line 1229, in pyarrow._fs._copy_files_selector\n",
      "  File \"pyarrow\\error.pxi\", line 99, in pyarrow.lib.check_status\n",
      "pyarrow.lib.ArrowInvalid: GetFileInfo() yielded path 'C:/Users/sara/ray_results/llm', which is outside base dir 'C:\\Users\\sara/ray_results\\llm'\n",
      "\n",
      "2025-08-19 15:58:09,724\tWARNING experiment_state.py:371 -- Experiment checkpoint syncing has been triggered multiple times in the last 30.0 seconds. A sync will be triggered whenever a trial has checkpointed more than `num_to_keep` times since last sync or if 300 seconds have passed since last sync. If you have set `num_to_keep` in your `CheckpointConfig`, consider increasing the checkpoint frequency or keeping more checkpoints. You can supress this warning by changing the `TUNE_WARN_EXCESSIVE_EXPERIMENT_CHECKPOINT_SYNC_THRESHOLD_S` environment variable.\n",
      "2025-08-19 15:58:25,937\tWARNING util.py:315 -- The `on_step_begin` operation took 3.528 s, which may be a performance bottleneck.\n",
      "2025-08-19 16:00:42,846\tWARNING util.py:315 -- The `on_step_begin` operation took 2.220 s, which may be a performance bottleneck.\n",
      "2025-08-19 16:01:52,404\tWARNING util.py:315 -- The `on_step_begin` operation took 0.977 s, which may be a performance bottleneck.\n",
      "2025-08-19 16:02:37,327\tWARNING util.py:315 -- The `callbacks.on_step_begin` operation took 0.590 s, which may be a performance bottleneck.\n",
      "2025-08-19 16:02:48,156\tWARNING util.py:315 -- The `on_step_begin` operation took 2.595 s, which may be a performance bottleneck.\n"
     ]
    },
    {
     "data": {
      "application/vnd.jupyter.widget-view+json": {
       "model_id": "fdfd7c6f608247eeb2189db20111da52",
       "version_major": 2,
       "version_minor": 0
      },
      "text/plain": [
       "(pid=3308) Running 0:   0%|          | 0/24 [00:00<?, ?it/s]"
      ]
     },
     "metadata": {},
     "output_type": "display_data"
    },
    {
     "name": "stderr",
     "output_type": "stream",
     "text": [
      "2025-08-19 16:04:19,627\tWARNING experiment_state.py:311 -- The previous sync of the experiment directory to the cloud failed with the error: GetFileInfo() yielded path 'C:/Users/sara/ray_results/llm', which is outside base dir 'C:\\Users\\sara/ray_results\\llm'\n",
      "Syncing will be retried.\n",
      "2025-08-19 16:04:30,580\tWARNING syncer.py:458 -- Last sync command failed with the following error:\n",
      "Traceback (most recent call last):\n",
      "  File \"c:\\Users\\sara\\miniconda3\\envs\\mwml\\lib\\site-packages\\ray\\train\\_internal\\syncer.py\", line 456, in _launch_sync_process\n",
      "    self.wait()\n",
      "  File \"c:\\Users\\sara\\miniconda3\\envs\\mwml\\lib\\site-packages\\ray\\train\\_internal\\syncer.py\", line 530, in wait\n",
      "    raise e\n",
      "  File \"c:\\Users\\sara\\miniconda3\\envs\\mwml\\lib\\site-packages\\ray\\train\\_internal\\syncer.py\", line 528, in wait\n",
      "    self._sync_process.wait(timeout=self.sync_timeout)\n",
      "  File \"c:\\Users\\sara\\miniconda3\\envs\\mwml\\lib\\site-packages\\ray\\train\\_internal\\syncer.py\", line 203, in wait\n",
      "    raise exception\n",
      "  File \"c:\\Users\\sara\\miniconda3\\envs\\mwml\\lib\\site-packages\\ray\\train\\_internal\\syncer.py\", line 166, in entrypoint\n",
      "    result = self._fn(*args, **kwargs)\n",
      "  File \"c:\\Users\\sara\\miniconda3\\envs\\mwml\\lib\\site-packages\\ray\\train\\_internal\\storage.py\", line 221, in _upload_to_fs_path\n",
      "    _upload_to_uri_with_exclude_fsspec(\n",
      "  File \"c:\\Users\\sara\\miniconda3\\envs\\mwml\\lib\\site-packages\\ray\\train\\_internal\\storage.py\", line 234, in _upload_to_uri_with_exclude_fsspec\n",
      "    _pyarrow_fs_copy_files(\n",
      "  File \"c:\\Users\\sara\\miniconda3\\envs\\mwml\\lib\\site-packages\\ray\\train\\_internal\\storage.py\", line 115, in _pyarrow_fs_copy_files\n",
      "    return pyarrow.fs.copy_files(\n",
      "  File \"c:\\Users\\sara\\miniconda3\\envs\\mwml\\lib\\site-packages\\pyarrow\\fs.py\", line 244, in copy_files\n",
      "    _copy_files_selector(source_fs, source_sel,\n",
      "  File \"pyarrow\\_fs.pyx\", line 1229, in pyarrow._fs._copy_files_selector\n",
      "  File \"pyarrow\\error.pxi\", line 99, in pyarrow.lib.check_status\n",
      "pyarrow.lib.ArrowInvalid: GetFileInfo() yielded path 'C:/Users/sara/ray_results/llm', which is outside base dir 'C:\\Users\\sara/ray_results\\llm'\n",
      "\n",
      "2025-08-19 16:04:30,649\tWARNING experiment_state.py:371 -- Experiment checkpoint syncing has been triggered multiple times in the last 30.0 seconds. A sync will be triggered whenever a trial has checkpointed more than `num_to_keep` times since last sync or if 300 seconds have passed since last sync. If you have set `num_to_keep` in your `CheckpointConfig`, consider increasing the checkpoint frequency or keeping more checkpoints. You can supress this warning by changing the `TUNE_WARN_EXCESSIVE_EXPERIMENT_CHECKPOINT_SYNC_THRESHOLD_S` environment variable.\n",
      "2025-08-19 16:04:47,787\tWARNING util.py:315 -- The `on_step_begin` operation took 6.331 s, which may be a performance bottleneck.\n",
      "2025-08-19 16:06:40,181\tWARNING util.py:315 -- The `on_step_begin` operation took 1.697 s, which may be a performance bottleneck.\n",
      "2025-08-19 16:16:40,187\tWARNING syncer.py:458 -- Last sync command failed with the following error:\n",
      "Traceback (most recent call last):\n",
      "  File \"c:\\Users\\sara\\miniconda3\\envs\\mwml\\lib\\site-packages\\ray\\train\\_internal\\syncer.py\", line 456, in _launch_sync_process\n",
      "    self.wait()\n",
      "  File \"c:\\Users\\sara\\miniconda3\\envs\\mwml\\lib\\site-packages\\ray\\train\\_internal\\syncer.py\", line 530, in wait\n",
      "    raise e\n",
      "  File \"c:\\Users\\sara\\miniconda3\\envs\\mwml\\lib\\site-packages\\ray\\train\\_internal\\syncer.py\", line 528, in wait\n",
      "    self._sync_process.wait(timeout=self.sync_timeout)\n",
      "  File \"c:\\Users\\sara\\miniconda3\\envs\\mwml\\lib\\site-packages\\ray\\train\\_internal\\syncer.py\", line 203, in wait\n",
      "    raise exception\n",
      "  File \"c:\\Users\\sara\\miniconda3\\envs\\mwml\\lib\\site-packages\\ray\\train\\_internal\\syncer.py\", line 166, in entrypoint\n",
      "    result = self._fn(*args, **kwargs)\n",
      "  File \"c:\\Users\\sara\\miniconda3\\envs\\mwml\\lib\\site-packages\\ray\\train\\_internal\\storage.py\", line 221, in _upload_to_fs_path\n",
      "    _upload_to_uri_with_exclude_fsspec(\n",
      "  File \"c:\\Users\\sara\\miniconda3\\envs\\mwml\\lib\\site-packages\\ray\\train\\_internal\\storage.py\", line 234, in _upload_to_uri_with_exclude_fsspec\n",
      "    _pyarrow_fs_copy_files(\n",
      "  File \"c:\\Users\\sara\\miniconda3\\envs\\mwml\\lib\\site-packages\\ray\\train\\_internal\\storage.py\", line 115, in _pyarrow_fs_copy_files\n",
      "    return pyarrow.fs.copy_files(\n",
      "  File \"c:\\Users\\sara\\miniconda3\\envs\\mwml\\lib\\site-packages\\pyarrow\\fs.py\", line 244, in copy_files\n",
      "    _copy_files_selector(source_fs, source_sel,\n",
      "  File \"pyarrow\\_fs.pyx\", line 1229, in pyarrow._fs._copy_files_selector\n",
      "  File \"pyarrow\\error.pxi\", line 99, in pyarrow.lib.check_status\n",
      "pyarrow.lib.ArrowInvalid: GetFileInfo() yielded path 'C:/Users/sara/ray_results/llm', which is outside base dir 'C:\\Users\\sara/ray_results\\llm'\n",
      "\n",
      "2025-08-19 16:16:52,561\tWARNING util.py:315 -- The `on_step_begin` operation took 0.894 s, which may be a performance bottleneck.\n",
      "2025-08-19 16:17:11,290\tWARNING util.py:315 -- The `on_step_begin` operation took 1.309 s, which may be a performance bottleneck.\n"
     ]
    },
    {
     "data": {
      "application/vnd.jupyter.widget-view+json": {
       "model_id": "1e324ad4dba5466f8295433677faac4e",
       "version_major": 2,
       "version_minor": 0
      },
      "text/plain": [
       "(pid=3308) Running 0:   0%|          | 0/24 [00:00<?, ?it/s]"
      ]
     },
     "metadata": {},
     "output_type": "display_data"
    },
    {
     "name": "stderr",
     "output_type": "stream",
     "text": [
      "2025-08-19 16:18:38,890\tWARNING experiment_state.py:311 -- The previous sync of the experiment directory to the cloud failed with the error: GetFileInfo() yielded path 'C:/Users/sara/ray_results/llm', which is outside base dir 'C:\\Users\\sara/ray_results\\llm'\n",
      "Syncing will be retried.\n",
      "2025-08-19 16:19:33,514\tWARNING util.py:315 -- The `on_step_begin` operation took 10.963 s, which may be a performance bottleneck.\n",
      "2025-08-19 16:19:44,939\tWARNING util.py:315 -- The `on_step_begin` operation took 0.875 s, which may be a performance bottleneck.\n",
      "2025-08-19 16:22:31,151\tWARNING syncer.py:458 -- Last sync command failed with the following error:\n",
      "Traceback (most recent call last):\n",
      "  File \"c:\\Users\\sara\\miniconda3\\envs\\mwml\\lib\\site-packages\\ray\\train\\_internal\\syncer.py\", line 456, in _launch_sync_process\n",
      "    self.wait()\n",
      "  File \"c:\\Users\\sara\\miniconda3\\envs\\mwml\\lib\\site-packages\\ray\\train\\_internal\\syncer.py\", line 530, in wait\n",
      "    raise e\n",
      "  File \"c:\\Users\\sara\\miniconda3\\envs\\mwml\\lib\\site-packages\\ray\\train\\_internal\\syncer.py\", line 528, in wait\n",
      "    self._sync_process.wait(timeout=self.sync_timeout)\n",
      "  File \"c:\\Users\\sara\\miniconda3\\envs\\mwml\\lib\\site-packages\\ray\\train\\_internal\\syncer.py\", line 203, in wait\n",
      "    raise exception\n",
      "  File \"c:\\Users\\sara\\miniconda3\\envs\\mwml\\lib\\site-packages\\ray\\train\\_internal\\syncer.py\", line 166, in entrypoint\n",
      "    result = self._fn(*args, **kwargs)\n",
      "  File \"c:\\Users\\sara\\miniconda3\\envs\\mwml\\lib\\site-packages\\ray\\train\\_internal\\storage.py\", line 221, in _upload_to_fs_path\n",
      "    _upload_to_uri_with_exclude_fsspec(\n",
      "  File \"c:\\Users\\sara\\miniconda3\\envs\\mwml\\lib\\site-packages\\ray\\train\\_internal\\storage.py\", line 234, in _upload_to_uri_with_exclude_fsspec\n",
      "    _pyarrow_fs_copy_files(\n",
      "  File \"c:\\Users\\sara\\miniconda3\\envs\\mwml\\lib\\site-packages\\ray\\train\\_internal\\storage.py\", line 115, in _pyarrow_fs_copy_files\n",
      "    return pyarrow.fs.copy_files(\n",
      "  File \"c:\\Users\\sara\\miniconda3\\envs\\mwml\\lib\\site-packages\\pyarrow\\fs.py\", line 244, in copy_files\n",
      "    _copy_files_selector(source_fs, source_sel,\n",
      "  File \"pyarrow\\_fs.pyx\", line 1229, in pyarrow._fs._copy_files_selector\n",
      "  File \"pyarrow\\error.pxi\", line 99, in pyarrow.lib.check_status\n",
      "pyarrow.lib.ArrowInvalid: GetFileInfo() yielded path 'C:/Users/sara/ray_results/llm', which is outside base dir 'C:\\Users\\sara/ray_results\\llm'\n",
      "\n",
      "2025-08-19 16:23:58,997\tWARNING experiment_state.py:311 -- The previous sync of the experiment directory to the cloud failed with the error: GetFileInfo() yielded path 'C:/Users/sara/ray_results/llm', which is outside base dir 'C:\\Users\\sara/ray_results\\llm'\n",
      "Syncing will be retried.\n"
     ]
    },
    {
     "data": {
      "application/vnd.jupyter.widget-view+json": {
       "model_id": "1cf80e8c1ea3407d823ae3ceba43b804",
       "version_major": 2,
       "version_minor": 0
      },
      "text/plain": [
       "(pid=3308) Running 0:   0%|          | 0/24 [00:00<?, ?it/s]"
      ]
     },
     "metadata": {},
     "output_type": "display_data"
    },
    {
     "name": "stderr",
     "output_type": "stream",
     "text": [
      "2025-08-19 16:24:58,751\tWARNING util.py:315 -- The `on_step_begin` operation took 0.850 s, which may be a performance bottleneck.\n",
      "2025-08-19 16:25:31,904\tWARNING util.py:315 -- The `on_step_begin` operation took 0.924 s, which may be a performance bottleneck.\n"
     ]
    },
    {
     "data": {
      "application/vnd.jupyter.widget-view+json": {
       "model_id": "010297f238b64af79b5176a315584d07",
       "version_major": 2,
       "version_minor": 0
      },
      "text/plain": [
       "(pid=3308) Running 0:   0%|          | 0/24 [00:00<?, ?it/s]"
      ]
     },
     "metadata": {},
     "output_type": "display_data"
    },
    {
     "name": "stderr",
     "output_type": "stream",
     "text": [
      "2025-08-19 16:29:12,819\tWARNING experiment_state.py:311 -- The previous sync of the experiment directory to the cloud failed with the error: GetFileInfo() yielded path 'C:/Users/sara/ray_results/llm', which is outside base dir 'C:\\Users\\sara/ray_results\\llm'\n",
      "Syncing will be retried.\n",
      "2025-08-19 16:29:23,333\tWARNING syncer.py:458 -- Last sync command failed with the following error:\n",
      "Traceback (most recent call last):\n",
      "  File \"c:\\Users\\sara\\miniconda3\\envs\\mwml\\lib\\site-packages\\ray\\train\\_internal\\syncer.py\", line 456, in _launch_sync_process\n",
      "    self.wait()\n",
      "  File \"c:\\Users\\sara\\miniconda3\\envs\\mwml\\lib\\site-packages\\ray\\train\\_internal\\syncer.py\", line 530, in wait\n",
      "    raise e\n",
      "  File \"c:\\Users\\sara\\miniconda3\\envs\\mwml\\lib\\site-packages\\ray\\train\\_internal\\syncer.py\", line 528, in wait\n",
      "    self._sync_process.wait(timeout=self.sync_timeout)\n",
      "  File \"c:\\Users\\sara\\miniconda3\\envs\\mwml\\lib\\site-packages\\ray\\train\\_internal\\syncer.py\", line 203, in wait\n",
      "    raise exception\n",
      "  File \"c:\\Users\\sara\\miniconda3\\envs\\mwml\\lib\\site-packages\\ray\\train\\_internal\\syncer.py\", line 166, in entrypoint\n",
      "    result = self._fn(*args, **kwargs)\n",
      "  File \"c:\\Users\\sara\\miniconda3\\envs\\mwml\\lib\\site-packages\\ray\\train\\_internal\\storage.py\", line 221, in _upload_to_fs_path\n",
      "    _upload_to_uri_with_exclude_fsspec(\n",
      "  File \"c:\\Users\\sara\\miniconda3\\envs\\mwml\\lib\\site-packages\\ray\\train\\_internal\\storage.py\", line 234, in _upload_to_uri_with_exclude_fsspec\n",
      "    _pyarrow_fs_copy_files(\n",
      "  File \"c:\\Users\\sara\\miniconda3\\envs\\mwml\\lib\\site-packages\\ray\\train\\_internal\\storage.py\", line 115, in _pyarrow_fs_copy_files\n",
      "    return pyarrow.fs.copy_files(\n",
      "  File \"c:\\Users\\sara\\miniconda3\\envs\\mwml\\lib\\site-packages\\pyarrow\\fs.py\", line 244, in copy_files\n",
      "    _copy_files_selector(source_fs, source_sel,\n",
      "  File \"pyarrow\\_fs.pyx\", line 1229, in pyarrow._fs._copy_files_selector\n",
      "  File \"pyarrow\\error.pxi\", line 99, in pyarrow.lib.check_status\n",
      "pyarrow.lib.ArrowInvalid: GetFileInfo() yielded path 'C:/Users/sara/ray_results/llm', which is outside base dir 'C:\\Users\\sara/ray_results\\llm'\n",
      "\n",
      "2025-08-19 16:29:23,595\tWARNING experiment_state.py:371 -- Experiment checkpoint syncing has been triggered multiple times in the last 30.0 seconds. A sync will be triggered whenever a trial has checkpointed more than `num_to_keep` times since last sync or if 300 seconds have passed since last sync. If you have set `num_to_keep` in your `CheckpointConfig`, consider increasing the checkpoint frequency or keeping more checkpoints. You can supress this warning by changing the `TUNE_WARN_EXCESSIVE_EXPERIMENT_CHECKPOINT_SYNC_THRESHOLD_S` environment variable.\n",
      "2025-08-19 16:29:51,317\tWARNING util.py:315 -- The `on_step_begin` operation took 2.819 s, which may be a performance bottleneck.\n",
      "2025-08-19 16:34:36,624\tWARNING syncer.py:458 -- Last sync command failed with the following error:\n",
      "Traceback (most recent call last):\n",
      "  File \"c:\\Users\\sara\\miniconda3\\envs\\mwml\\lib\\site-packages\\ray\\train\\_internal\\syncer.py\", line 456, in _launch_sync_process\n",
      "    self.wait()\n",
      "  File \"c:\\Users\\sara\\miniconda3\\envs\\mwml\\lib\\site-packages\\ray\\train\\_internal\\syncer.py\", line 530, in wait\n",
      "    raise e\n",
      "  File \"c:\\Users\\sara\\miniconda3\\envs\\mwml\\lib\\site-packages\\ray\\train\\_internal\\syncer.py\", line 528, in wait\n",
      "    self._sync_process.wait(timeout=self.sync_timeout)\n",
      "  File \"c:\\Users\\sara\\miniconda3\\envs\\mwml\\lib\\site-packages\\ray\\train\\_internal\\syncer.py\", line 203, in wait\n",
      "    raise exception\n",
      "  File \"c:\\Users\\sara\\miniconda3\\envs\\mwml\\lib\\site-packages\\ray\\train\\_internal\\syncer.py\", line 166, in entrypoint\n",
      "    result = self._fn(*args, **kwargs)\n",
      "  File \"c:\\Users\\sara\\miniconda3\\envs\\mwml\\lib\\site-packages\\ray\\train\\_internal\\storage.py\", line 221, in _upload_to_fs_path\n",
      "    _upload_to_uri_with_exclude_fsspec(\n",
      "  File \"c:\\Users\\sara\\miniconda3\\envs\\mwml\\lib\\site-packages\\ray\\train\\_internal\\storage.py\", line 234, in _upload_to_uri_with_exclude_fsspec\n",
      "    _pyarrow_fs_copy_files(\n",
      "  File \"c:\\Users\\sara\\miniconda3\\envs\\mwml\\lib\\site-packages\\ray\\train\\_internal\\storage.py\", line 115, in _pyarrow_fs_copy_files\n",
      "    return pyarrow.fs.copy_files(\n",
      "  File \"c:\\Users\\sara\\miniconda3\\envs\\mwml\\lib\\site-packages\\pyarrow\\fs.py\", line 244, in copy_files\n",
      "    _copy_files_selector(source_fs, source_sel,\n",
      "  File \"pyarrow\\_fs.pyx\", line 1229, in pyarrow._fs._copy_files_selector\n",
      "  File \"pyarrow\\error.pxi\", line 99, in pyarrow.lib.check_status\n",
      "pyarrow.lib.ArrowInvalid: GetFileInfo() yielded path 'C:/Users/sara/ray_results/llm', which is outside base dir 'C:\\Users\\sara/ray_results\\llm'\n",
      "\n"
     ]
    },
    {
     "data": {
      "application/vnd.jupyter.widget-view+json": {
       "model_id": "2b8d90a935434c2d8af380ab2a27ae8d",
       "version_major": 2,
       "version_minor": 0
      },
      "text/plain": [
       "(pid=3308) Running 0:   0%|          | 0/24 [00:00<?, ?it/s]"
      ]
     },
     "metadata": {},
     "output_type": "display_data"
    },
    {
     "name": "stderr",
     "output_type": "stream",
     "text": [
      "2025-08-19 16:34:52,018\tWARNING experiment_state.py:311 -- The previous sync of the experiment directory to the cloud failed with the error: GetFileInfo() yielded path 'C:/Users/sara/ray_results/llm', which is outside base dir 'C:\\Users\\sara/ray_results\\llm'\n",
      "Syncing will be retried.\n",
      "2025-08-19 16:34:52,026\tWARNING experiment_state.py:371 -- Experiment checkpoint syncing has been triggered multiple times in the last 30.0 seconds. A sync will be triggered whenever a trial has checkpointed more than `num_to_keep` times since last sync or if 300 seconds have passed since last sync. If you have set `num_to_keep` in your `CheckpointConfig`, consider increasing the checkpoint frequency or keeping more checkpoints. You can supress this warning by changing the `TUNE_WARN_EXCESSIVE_EXPERIMENT_CHECKPOINT_SYNC_THRESHOLD_S` environment variable.\n",
      "2025-08-19 16:35:03,591\tWARNING util.py:315 -- The `on_step_begin` operation took 0.888 s, which may be a performance bottleneck.\n",
      "2025-08-19 16:38:03,418\tWARNING util.py:315 -- The `on_step_begin` operation took 0.515 s, which may be a performance bottleneck.\n",
      "2025-08-19 16:38:26,384\tWARNING util.py:315 -- The `on_step_begin` operation took 1.887 s, which may be a performance bottleneck.\n",
      "2025-08-19 16:38:48,506\tWARNING util.py:315 -- The `on_step_begin` operation took 11.247 s, which may be a performance bottleneck.\n",
      "2025-08-19 16:39:20,848\tWARNING util.py:315 -- The `on_step_begin` operation took 0.603 s, which may be a performance bottleneck.\n",
      "2025-08-19 16:40:11,408\tWARNING syncer.py:458 -- Last sync command failed with the following error:\n",
      "Traceback (most recent call last):\n",
      "  File \"c:\\Users\\sara\\miniconda3\\envs\\mwml\\lib\\site-packages\\ray\\train\\_internal\\syncer.py\", line 456, in _launch_sync_process\n",
      "    self.wait()\n",
      "  File \"c:\\Users\\sara\\miniconda3\\envs\\mwml\\lib\\site-packages\\ray\\train\\_internal\\syncer.py\", line 530, in wait\n",
      "    raise e\n",
      "  File \"c:\\Users\\sara\\miniconda3\\envs\\mwml\\lib\\site-packages\\ray\\train\\_internal\\syncer.py\", line 528, in wait\n",
      "    self._sync_process.wait(timeout=self.sync_timeout)\n",
      "  File \"c:\\Users\\sara\\miniconda3\\envs\\mwml\\lib\\site-packages\\ray\\train\\_internal\\syncer.py\", line 203, in wait\n",
      "    raise exception\n",
      "  File \"c:\\Users\\sara\\miniconda3\\envs\\mwml\\lib\\site-packages\\ray\\train\\_internal\\syncer.py\", line 166, in entrypoint\n",
      "    result = self._fn(*args, **kwargs)\n",
      "  File \"c:\\Users\\sara\\miniconda3\\envs\\mwml\\lib\\site-packages\\ray\\train\\_internal\\storage.py\", line 221, in _upload_to_fs_path\n",
      "    _upload_to_uri_with_exclude_fsspec(\n",
      "  File \"c:\\Users\\sara\\miniconda3\\envs\\mwml\\lib\\site-packages\\ray\\train\\_internal\\storage.py\", line 234, in _upload_to_uri_with_exclude_fsspec\n",
      "    _pyarrow_fs_copy_files(\n",
      "  File \"c:\\Users\\sara\\miniconda3\\envs\\mwml\\lib\\site-packages\\ray\\train\\_internal\\storage.py\", line 115, in _pyarrow_fs_copy_files\n",
      "    return pyarrow.fs.copy_files(\n",
      "  File \"c:\\Users\\sara\\miniconda3\\envs\\mwml\\lib\\site-packages\\pyarrow\\fs.py\", line 244, in copy_files\n",
      "    _copy_files_selector(source_fs, source_sel,\n",
      "  File \"pyarrow\\_fs.pyx\", line 1229, in pyarrow._fs._copy_files_selector\n",
      "  File \"pyarrow\\error.pxi\", line 99, in pyarrow.lib.check_status\n",
      "pyarrow.lib.ArrowInvalid: GetFileInfo() yielded path 'C:/Users/sara/ray_results/llm', which is outside base dir 'C:\\Users\\sara/ray_results\\llm'\n",
      "\n",
      "2025-08-19 16:40:46,615\tWARNING experiment_state.py:311 -- The previous sync of the experiment directory to the cloud failed with the error: GetFileInfo() yielded path 'C:/Users/sara/ray_results/llm', which is outside base dir 'C:\\Users\\sara/ray_results\\llm'\n",
      "Syncing will be retried.\n"
     ]
    },
    {
     "data": {
      "application/vnd.jupyter.widget-view+json": {
       "model_id": "1d6f2060af2444b1ad9df442afe5766d",
       "version_major": 2,
       "version_minor": 0
      },
      "text/plain": [
       "(pid=3308) Running 0:   0%|          | 0/24 [00:00<?, ?it/s]"
      ]
     },
     "metadata": {},
     "output_type": "display_data"
    },
    {
     "name": "stderr",
     "output_type": "stream",
     "text": [
      "2025-08-19 16:41:56,094\tWARNING util.py:315 -- The `on_step_begin` operation took 1.984 s, which may be a performance bottleneck.\n",
      "2025-08-19 16:42:08,021\tWARNING util.py:315 -- The `callbacks.on_step_begin` operation took 0.702 s, which may be a performance bottleneck.\n",
      "2025-08-19 16:44:03,898\tWARNING util.py:315 -- The `on_step_begin` operation took 3.137 s, which may be a performance bottleneck.\n",
      "2025-08-19 16:45:44,821\tWARNING experiment_state.py:311 -- The previous sync of the experiment directory to the cloud failed with the error: GetFileInfo() yielded path 'C:/Users/sara/ray_results/llm', which is outside base dir 'C:\\Users\\sara/ray_results\\llm'\n",
      "Syncing will be retried.\n",
      "2025-08-19 16:45:46,018\tWARNING experiment_state.py:311 -- The previous sync of the experiment directory to the cloud failed with the error: GetFileInfo() yielded path 'C:/Users/sara/ray_results/llm', which is outside base dir 'C:\\Users\\sara/ray_results\\llm'\n",
      "Syncing will be retried.\n",
      "2025-08-19 16:45:46,032\tWARNING tune.py:1118 -- Trial Runner checkpointing failed: Uploading the experiment directory from the driver (local path: C:\\Users\\sara/ray_results\\llm) to the the cloud (remote path: C:/Users/sara/ray_results\\llm) failed. Please check the error message above.\n",
      "2025-08-19 16:45:46,069\tINFO tune.py:1143 -- Total run time: 3969.53 seconds (3969.09 seconds for the tuning loop).\n"
     ]
    },
    {
     "name": "stdout",
     "output_type": "stream",
     "text": [
      "CPU times: total: 38.2 s\n",
      "Wall time: 1h 6min 9s\n"
     ]
    }
   ],
   "source": [
    "%%time\n",
    "# Train\n",
    "results = trainer.fit()"
   ]
  },
  {
   "cell_type": "code",
   "execution_count": 66,
   "id": "034f10d4",
   "metadata": {},
   "outputs": [
    {
     "data": {
      "text/plain": [
       "{'epoch': 9,\n",
       " 'lr': 0.0001,\n",
       " 'train_loss': 0.03155096744497617,\n",
       " 'val_loss': 0.18214017152786255,\n",
       " 'timestamp': 1755611143,\n",
       " 'should_checkpoint': True,\n",
       " 'done': True,\n",
       " 'training_iteration': 10,\n",
       " 'trial_id': '90bd1_00000',\n",
       " 'date': '2025-08-19_16-45-44',\n",
       " 'time_this_iter_s': 297.9747772216797,\n",
       " 'time_total_s': 3953.5320706367493,\n",
       " 'pid': 24048,\n",
       " 'hostname': 'saraa',\n",
       " 'node_ip': '127.0.0.1',\n",
       " 'config': {'train_loop_config': {'dropout_p': 0.5,\n",
       "   'lr': 0.0001,\n",
       "   'lr_factor': 0.8,\n",
       "   'lr_patience': 3,\n",
       "   'num_epochs': 10,\n",
       "   'batch_size': 256,\n",
       "   'num_classes': 4}},\n",
       " 'time_since_restore': 3953.5320706367493,\n",
       " 'iterations_since_restore': 10,\n",
       " 'checkpoint_dir_name': 'checkpoint_000009',\n",
       " 'experiment_tag': '0'}"
      ]
     },
     "execution_count": 66,
     "metadata": {},
     "output_type": "execute_result"
    }
   ],
   "source": [
    "results.metrics"
   ]
  },
  {
   "cell_type": "code",
   "execution_count": 65,
   "id": "39c90750",
   "metadata": {},
   "outputs": [
    {
     "data": {
      "text/plain": [
       "[(Checkpoint(filesystem=local, path=C:/Users/sara/ray_results\\llm\\TorchTrainer_90bd1_00000_0_2025-08-19_15-39-36\\checkpoint_000007),\n",
       "  {'epoch': 7,\n",
       "   'lr': 0.0001,\n",
       "   'train_loss': 0.06079628939429919,\n",
       "   'val_loss': 0.16371040046215057,\n",
       "   'timestamp': 1755610490,\n",
       "   'should_checkpoint': True,\n",
       "   'done': False,\n",
       "   'training_iteration': 8,\n",
       "   'trial_id': '90bd1_00000',\n",
       "   'date': '2025-08-19_16-34-51',\n",
       "   'time_this_iter_s': 339.0789761543274,\n",
       "   'time_total_s': 3301.1848368644714,\n",
       "   'pid': 24048,\n",
       "   'hostname': 'saraa',\n",
       "   'node_ip': '127.0.0.1',\n",
       "   'config': {'train_loop_config': {'dropout_p': 0.5,\n",
       "     'lr': 0.0001,\n",
       "     'lr_factor': 0.8,\n",
       "     'lr_patience': 3,\n",
       "     'num_epochs': 10,\n",
       "     'batch_size': 256,\n",
       "     'num_classes': 4}},\n",
       "   'time_since_restore': 3301.1848368644714,\n",
       "   'iterations_since_restore': 8})]"
      ]
     },
     "execution_count": 65,
     "metadata": {},
     "output_type": "execute_result"
    }
   ],
   "source": [
    "results.best_checkpoints"
   ]
  },
  {
   "cell_type": "code",
   "execution_count": 74,
   "id": "5a79fe34",
   "metadata": {},
   "outputs": [
    {
     "data": {
      "application/vnd.microsoft.datawrangler.viewer.v0+json": {
       "columns": [
        {
         "name": "index",
         "rawType": "int64",
         "type": "integer"
        },
        {
         "name": "epoch",
         "rawType": "int64",
         "type": "integer"
        },
        {
         "name": "lr",
         "rawType": "float64",
         "type": "float"
        },
        {
         "name": "train_loss",
         "rawType": "float64",
         "type": "float"
        },
        {
         "name": "val_loss",
         "rawType": "float64",
         "type": "float"
        },
        {
         "name": "timestamp",
         "rawType": "int64",
         "type": "integer"
        },
        {
         "name": "should_checkpoint",
         "rawType": "bool",
         "type": "boolean"
        },
        {
         "name": "done",
         "rawType": "bool",
         "type": "boolean"
        },
        {
         "name": "training_iteration",
         "rawType": "int64",
         "type": "integer"
        },
        {
         "name": "trial_id",
         "rawType": "object",
         "type": "string"
        },
        {
         "name": "date",
         "rawType": "object",
         "type": "string"
        },
        {
         "name": "time_this_iter_s",
         "rawType": "float64",
         "type": "float"
        },
        {
         "name": "time_total_s",
         "rawType": "float64",
         "type": "float"
        },
        {
         "name": "pid",
         "rawType": "int64",
         "type": "integer"
        },
        {
         "name": "hostname",
         "rawType": "object",
         "type": "string"
        },
        {
         "name": "node_ip",
         "rawType": "object",
         "type": "string"
        },
        {
         "name": "time_since_restore",
         "rawType": "float64",
         "type": "float"
        },
        {
         "name": "iterations_since_restore",
         "rawType": "int64",
         "type": "integer"
        },
        {
         "name": "checkpoint_dir_name",
         "rawType": "object",
         "type": "string"
        },
        {
         "name": "config/train_loop_config/dropout_p",
         "rawType": "float64",
         "type": "float"
        },
        {
         "name": "config/train_loop_config/lr",
         "rawType": "float64",
         "type": "float"
        },
        {
         "name": "config/train_loop_config/lr_factor",
         "rawType": "float64",
         "type": "float"
        },
        {
         "name": "config/train_loop_config/lr_patience",
         "rawType": "int64",
         "type": "integer"
        },
        {
         "name": "config/train_loop_config/num_epochs",
         "rawType": "int64",
         "type": "integer"
        },
        {
         "name": "config/train_loop_config/batch_size",
         "rawType": "int64",
         "type": "integer"
        },
        {
         "name": "config/train_loop_config/num_classes",
         "rawType": "int64",
         "type": "integer"
        }
       ],
       "ref": "d23f6c38-e2f2-4c01-8a1d-0f63d46ce994",
       "rows": [
        [
         "0",
         "0",
         "0.0001",
         "0.5743282039960226",
         "0.4911822974681854",
         "1755607564",
         "True",
         "False",
         "1",
         "90bd1_00000",
         "2025-08-19_15-46-05",
         "377.5427041053772",
         "377.5427041053772",
         "24048",
         "saraa",
         "127.0.0.1",
         "377.5427041053772",
         "1",
         "checkpoint_000000",
         "0.5",
         "0.0001",
         "0.8",
         "3",
         "10",
         "256",
         "4"
        ],
        [
         "1",
         "1",
         "0.0001",
         "0.48056041200955707",
         "0.40648379921913147",
         "1755607937",
         "True",
         "False",
         "2",
         "90bd1_00000",
         "2025-08-19_15-52-20",
         "374.6726505756378",
         "752.215354681015",
         "24048",
         "saraa",
         "127.0.0.1",
         "752.215354681015",
         "2",
         "checkpoint_000001",
         "0.5",
         "0.0001",
         "0.8",
         "3",
         "10",
         "256",
         "4"
        ],
        [
         "2",
         "2",
         "0.0001",
         "0.37933024764060974",
         "0.32202962040901184",
         "1755608277",
         "True",
         "False",
         "3",
         "90bd1_00000",
         "2025-08-19_15-57-58",
         "337.3310124874115",
         "1089.5463671684265",
         "24048",
         "saraa",
         "127.0.0.1",
         "1089.5463671684265",
         "3",
         "checkpoint_000002",
         "0.5",
         "0.0001",
         "0.8",
         "3",
         "10",
         "256",
         "4"
        ],
        [
         "3",
         "3",
         "0.0001",
         "0.27905768156051636",
         "0.23514960706233978",
         "1755608655",
         "True",
         "False",
         "4",
         "90bd1_00000",
         "2025-08-19_16-04-19",
         "380.334668636322",
         "1469.8810358047485",
         "24048",
         "saraa",
         "127.0.0.1",
         "1469.8810358047485",
         "4",
         "checkpoint_000003",
         "0.5",
         "0.0001",
         "0.8",
         "3",
         "10",
         "256",
         "4"
        ],
        [
         "4",
         "4",
         "0.0001",
         "0.19883726040522257",
         "0.22506766021251678",
         "1755609518",
         "True",
         "False",
         "5",
         "90bd1_00000",
         "2025-08-19_16-18-38",
         "859.051789522171",
         "2328.9328253269196",
         "24048",
         "saraa",
         "127.0.0.1",
         "2328.9328253269196",
         "5",
         "checkpoint_000004",
         "0.5",
         "0.0001",
         "0.8",
         "3",
         "10",
         "256",
         "4"
        ],
        [
         "5",
         "5",
         "0.0001",
         "0.1408682887752851",
         "0.17503903806209564",
         "1755609835",
         "True",
         "False",
         "6",
         "90bd1_00000",
         "2025-08-19_16-23-58",
         "319.8428158760071",
         "2648.7756412029266",
         "24048",
         "saraa",
         "127.0.0.1",
         "2648.7756412029266",
         "6",
         "checkpoint_000005",
         "0.5",
         "0.0001",
         "0.8",
         "3",
         "10",
         "256",
         "4"
        ],
        [
         "6",
         "6",
         "0.0001",
         "0.09443192680676778",
         "0.1784457266330719",
         "1755610151",
         "True",
         "False",
         "7",
         "90bd1_00000",
         "2025-08-19_16-29-12",
         "313.3302195072174",
         "2962.105860710144",
         "24048",
         "saraa",
         "127.0.0.1",
         "2962.105860710144",
         "7",
         "checkpoint_000006",
         "0.5",
         "0.0001",
         "0.8",
         "3",
         "10",
         "256",
         "4"
        ],
        [
         "7",
         "7",
         "0.0001",
         "0.06079628939429919",
         "0.16371040046215057",
         "1755610490",
         "True",
         "False",
         "8",
         "90bd1_00000",
         "2025-08-19_16-34-51",
         "339.0789761543274",
         "3301.1848368644714",
         "24048",
         "saraa",
         "127.0.0.1",
         "3301.1848368644714",
         "8",
         "checkpoint_000007",
         "0.5",
         "0.0001",
         "0.8",
         "3",
         "10",
         "256",
         "4"
        ],
        [
         "8",
         "8",
         "0.0001",
         "0.04208985467751821",
         "0.16776975989341736",
         "1755610846",
         "True",
         "False",
         "9",
         "90bd1_00000",
         "2025-08-19_16-40-46",
         "354.37245655059814",
         "3655.5572934150696",
         "24048",
         "saraa",
         "127.0.0.1",
         "3655.5572934150696",
         "9",
         "checkpoint_000008",
         "0.5",
         "0.0001",
         "0.8",
         "3",
         "10",
         "256",
         "4"
        ],
        [
         "9",
         "9",
         "0.0001",
         "0.03155096744497617",
         "0.18214017152786255",
         "1755611143",
         "True",
         "False",
         "10",
         "90bd1_00000",
         "2025-08-19_16-45-44",
         "297.9747772216797",
         "3953.5320706367493",
         "24048",
         "saraa",
         "127.0.0.1",
         "3953.5320706367493",
         "10",
         "checkpoint_000009",
         "0.5",
         "0.0001",
         "0.8",
         "3",
         "10",
         "256",
         "4"
        ]
       ],
       "shape": {
        "columns": 25,
        "rows": 10
       }
      },
      "text/html": [
       "<div>\n",
       "<style scoped>\n",
       "    .dataframe tbody tr th:only-of-type {\n",
       "        vertical-align: middle;\n",
       "    }\n",
       "\n",
       "    .dataframe tbody tr th {\n",
       "        vertical-align: top;\n",
       "    }\n",
       "\n",
       "    .dataframe thead th {\n",
       "        text-align: right;\n",
       "    }\n",
       "</style>\n",
       "<table border=\"1\" class=\"dataframe\">\n",
       "  <thead>\n",
       "    <tr style=\"text-align: right;\">\n",
       "      <th></th>\n",
       "      <th>epoch</th>\n",
       "      <th>lr</th>\n",
       "      <th>train_loss</th>\n",
       "      <th>val_loss</th>\n",
       "      <th>timestamp</th>\n",
       "      <th>should_checkpoint</th>\n",
       "      <th>done</th>\n",
       "      <th>training_iteration</th>\n",
       "      <th>trial_id</th>\n",
       "      <th>date</th>\n",
       "      <th>...</th>\n",
       "      <th>time_since_restore</th>\n",
       "      <th>iterations_since_restore</th>\n",
       "      <th>checkpoint_dir_name</th>\n",
       "      <th>config/train_loop_config/dropout_p</th>\n",
       "      <th>config/train_loop_config/lr</th>\n",
       "      <th>config/train_loop_config/lr_factor</th>\n",
       "      <th>config/train_loop_config/lr_patience</th>\n",
       "      <th>config/train_loop_config/num_epochs</th>\n",
       "      <th>config/train_loop_config/batch_size</th>\n",
       "      <th>config/train_loop_config/num_classes</th>\n",
       "    </tr>\n",
       "  </thead>\n",
       "  <tbody>\n",
       "    <tr>\n",
       "      <th>0</th>\n",
       "      <td>0</td>\n",
       "      <td>0.0001</td>\n",
       "      <td>0.574328</td>\n",
       "      <td>0.491182</td>\n",
       "      <td>1755607564</td>\n",
       "      <td>True</td>\n",
       "      <td>False</td>\n",
       "      <td>1</td>\n",
       "      <td>90bd1_00000</td>\n",
       "      <td>2025-08-19_15-46-05</td>\n",
       "      <td>...</td>\n",
       "      <td>377.542704</td>\n",
       "      <td>1</td>\n",
       "      <td>checkpoint_000000</td>\n",
       "      <td>0.5</td>\n",
       "      <td>0.0001</td>\n",
       "      <td>0.8</td>\n",
       "      <td>3</td>\n",
       "      <td>10</td>\n",
       "      <td>256</td>\n",
       "      <td>4</td>\n",
       "    </tr>\n",
       "    <tr>\n",
       "      <th>1</th>\n",
       "      <td>1</td>\n",
       "      <td>0.0001</td>\n",
       "      <td>0.480560</td>\n",
       "      <td>0.406484</td>\n",
       "      <td>1755607937</td>\n",
       "      <td>True</td>\n",
       "      <td>False</td>\n",
       "      <td>2</td>\n",
       "      <td>90bd1_00000</td>\n",
       "      <td>2025-08-19_15-52-20</td>\n",
       "      <td>...</td>\n",
       "      <td>752.215355</td>\n",
       "      <td>2</td>\n",
       "      <td>checkpoint_000001</td>\n",
       "      <td>0.5</td>\n",
       "      <td>0.0001</td>\n",
       "      <td>0.8</td>\n",
       "      <td>3</td>\n",
       "      <td>10</td>\n",
       "      <td>256</td>\n",
       "      <td>4</td>\n",
       "    </tr>\n",
       "    <tr>\n",
       "      <th>2</th>\n",
       "      <td>2</td>\n",
       "      <td>0.0001</td>\n",
       "      <td>0.379330</td>\n",
       "      <td>0.322030</td>\n",
       "      <td>1755608277</td>\n",
       "      <td>True</td>\n",
       "      <td>False</td>\n",
       "      <td>3</td>\n",
       "      <td>90bd1_00000</td>\n",
       "      <td>2025-08-19_15-57-58</td>\n",
       "      <td>...</td>\n",
       "      <td>1089.546367</td>\n",
       "      <td>3</td>\n",
       "      <td>checkpoint_000002</td>\n",
       "      <td>0.5</td>\n",
       "      <td>0.0001</td>\n",
       "      <td>0.8</td>\n",
       "      <td>3</td>\n",
       "      <td>10</td>\n",
       "      <td>256</td>\n",
       "      <td>4</td>\n",
       "    </tr>\n",
       "    <tr>\n",
       "      <th>3</th>\n",
       "      <td>3</td>\n",
       "      <td>0.0001</td>\n",
       "      <td>0.279058</td>\n",
       "      <td>0.235150</td>\n",
       "      <td>1755608655</td>\n",
       "      <td>True</td>\n",
       "      <td>False</td>\n",
       "      <td>4</td>\n",
       "      <td>90bd1_00000</td>\n",
       "      <td>2025-08-19_16-04-19</td>\n",
       "      <td>...</td>\n",
       "      <td>1469.881036</td>\n",
       "      <td>4</td>\n",
       "      <td>checkpoint_000003</td>\n",
       "      <td>0.5</td>\n",
       "      <td>0.0001</td>\n",
       "      <td>0.8</td>\n",
       "      <td>3</td>\n",
       "      <td>10</td>\n",
       "      <td>256</td>\n",
       "      <td>4</td>\n",
       "    </tr>\n",
       "    <tr>\n",
       "      <th>4</th>\n",
       "      <td>4</td>\n",
       "      <td>0.0001</td>\n",
       "      <td>0.198837</td>\n",
       "      <td>0.225068</td>\n",
       "      <td>1755609518</td>\n",
       "      <td>True</td>\n",
       "      <td>False</td>\n",
       "      <td>5</td>\n",
       "      <td>90bd1_00000</td>\n",
       "      <td>2025-08-19_16-18-38</td>\n",
       "      <td>...</td>\n",
       "      <td>2328.932825</td>\n",
       "      <td>5</td>\n",
       "      <td>checkpoint_000004</td>\n",
       "      <td>0.5</td>\n",
       "      <td>0.0001</td>\n",
       "      <td>0.8</td>\n",
       "      <td>3</td>\n",
       "      <td>10</td>\n",
       "      <td>256</td>\n",
       "      <td>4</td>\n",
       "    </tr>\n",
       "    <tr>\n",
       "      <th>5</th>\n",
       "      <td>5</td>\n",
       "      <td>0.0001</td>\n",
       "      <td>0.140868</td>\n",
       "      <td>0.175039</td>\n",
       "      <td>1755609835</td>\n",
       "      <td>True</td>\n",
       "      <td>False</td>\n",
       "      <td>6</td>\n",
       "      <td>90bd1_00000</td>\n",
       "      <td>2025-08-19_16-23-58</td>\n",
       "      <td>...</td>\n",
       "      <td>2648.775641</td>\n",
       "      <td>6</td>\n",
       "      <td>checkpoint_000005</td>\n",
       "      <td>0.5</td>\n",
       "      <td>0.0001</td>\n",
       "      <td>0.8</td>\n",
       "      <td>3</td>\n",
       "      <td>10</td>\n",
       "      <td>256</td>\n",
       "      <td>4</td>\n",
       "    </tr>\n",
       "    <tr>\n",
       "      <th>6</th>\n",
       "      <td>6</td>\n",
       "      <td>0.0001</td>\n",
       "      <td>0.094432</td>\n",
       "      <td>0.178446</td>\n",
       "      <td>1755610151</td>\n",
       "      <td>True</td>\n",
       "      <td>False</td>\n",
       "      <td>7</td>\n",
       "      <td>90bd1_00000</td>\n",
       "      <td>2025-08-19_16-29-12</td>\n",
       "      <td>...</td>\n",
       "      <td>2962.105861</td>\n",
       "      <td>7</td>\n",
       "      <td>checkpoint_000006</td>\n",
       "      <td>0.5</td>\n",
       "      <td>0.0001</td>\n",
       "      <td>0.8</td>\n",
       "      <td>3</td>\n",
       "      <td>10</td>\n",
       "      <td>256</td>\n",
       "      <td>4</td>\n",
       "    </tr>\n",
       "    <tr>\n",
       "      <th>7</th>\n",
       "      <td>7</td>\n",
       "      <td>0.0001</td>\n",
       "      <td>0.060796</td>\n",
       "      <td>0.163710</td>\n",
       "      <td>1755610490</td>\n",
       "      <td>True</td>\n",
       "      <td>False</td>\n",
       "      <td>8</td>\n",
       "      <td>90bd1_00000</td>\n",
       "      <td>2025-08-19_16-34-51</td>\n",
       "      <td>...</td>\n",
       "      <td>3301.184837</td>\n",
       "      <td>8</td>\n",
       "      <td>checkpoint_000007</td>\n",
       "      <td>0.5</td>\n",
       "      <td>0.0001</td>\n",
       "      <td>0.8</td>\n",
       "      <td>3</td>\n",
       "      <td>10</td>\n",
       "      <td>256</td>\n",
       "      <td>4</td>\n",
       "    </tr>\n",
       "    <tr>\n",
       "      <th>8</th>\n",
       "      <td>8</td>\n",
       "      <td>0.0001</td>\n",
       "      <td>0.042090</td>\n",
       "      <td>0.167770</td>\n",
       "      <td>1755610846</td>\n",
       "      <td>True</td>\n",
       "      <td>False</td>\n",
       "      <td>9</td>\n",
       "      <td>90bd1_00000</td>\n",
       "      <td>2025-08-19_16-40-46</td>\n",
       "      <td>...</td>\n",
       "      <td>3655.557293</td>\n",
       "      <td>9</td>\n",
       "      <td>checkpoint_000008</td>\n",
       "      <td>0.5</td>\n",
       "      <td>0.0001</td>\n",
       "      <td>0.8</td>\n",
       "      <td>3</td>\n",
       "      <td>10</td>\n",
       "      <td>256</td>\n",
       "      <td>4</td>\n",
       "    </tr>\n",
       "    <tr>\n",
       "      <th>9</th>\n",
       "      <td>9</td>\n",
       "      <td>0.0001</td>\n",
       "      <td>0.031551</td>\n",
       "      <td>0.182140</td>\n",
       "      <td>1755611143</td>\n",
       "      <td>True</td>\n",
       "      <td>False</td>\n",
       "      <td>10</td>\n",
       "      <td>90bd1_00000</td>\n",
       "      <td>2025-08-19_16-45-44</td>\n",
       "      <td>...</td>\n",
       "      <td>3953.532071</td>\n",
       "      <td>10</td>\n",
       "      <td>checkpoint_000009</td>\n",
       "      <td>0.5</td>\n",
       "      <td>0.0001</td>\n",
       "      <td>0.8</td>\n",
       "      <td>3</td>\n",
       "      <td>10</td>\n",
       "      <td>256</td>\n",
       "      <td>4</td>\n",
       "    </tr>\n",
       "  </tbody>\n",
       "</table>\n",
       "<p>10 rows × 25 columns</p>\n",
       "</div>"
      ],
      "text/plain": [
       "   epoch      lr  train_loss  val_loss   timestamp  should_checkpoint   done   \n",
       "0      0  0.0001    0.574328  0.491182  1755607564               True  False  \\\n",
       "1      1  0.0001    0.480560  0.406484  1755607937               True  False   \n",
       "2      2  0.0001    0.379330  0.322030  1755608277               True  False   \n",
       "3      3  0.0001    0.279058  0.235150  1755608655               True  False   \n",
       "4      4  0.0001    0.198837  0.225068  1755609518               True  False   \n",
       "5      5  0.0001    0.140868  0.175039  1755609835               True  False   \n",
       "6      6  0.0001    0.094432  0.178446  1755610151               True  False   \n",
       "7      7  0.0001    0.060796  0.163710  1755610490               True  False   \n",
       "8      8  0.0001    0.042090  0.167770  1755610846               True  False   \n",
       "9      9  0.0001    0.031551  0.182140  1755611143               True  False   \n",
       "\n",
       "   training_iteration     trial_id                 date  ...   \n",
       "0                   1  90bd1_00000  2025-08-19_15-46-05  ...  \\\n",
       "1                   2  90bd1_00000  2025-08-19_15-52-20  ...   \n",
       "2                   3  90bd1_00000  2025-08-19_15-57-58  ...   \n",
       "3                   4  90bd1_00000  2025-08-19_16-04-19  ...   \n",
       "4                   5  90bd1_00000  2025-08-19_16-18-38  ...   \n",
       "5                   6  90bd1_00000  2025-08-19_16-23-58  ...   \n",
       "6                   7  90bd1_00000  2025-08-19_16-29-12  ...   \n",
       "7                   8  90bd1_00000  2025-08-19_16-34-51  ...   \n",
       "8                   9  90bd1_00000  2025-08-19_16-40-46  ...   \n",
       "9                  10  90bd1_00000  2025-08-19_16-45-44  ...   \n",
       "\n",
       "   time_since_restore  iterations_since_restore  checkpoint_dir_name   \n",
       "0          377.542704                         1    checkpoint_000000  \\\n",
       "1          752.215355                         2    checkpoint_000001   \n",
       "2         1089.546367                         3    checkpoint_000002   \n",
       "3         1469.881036                         4    checkpoint_000003   \n",
       "4         2328.932825                         5    checkpoint_000004   \n",
       "5         2648.775641                         6    checkpoint_000005   \n",
       "6         2962.105861                         7    checkpoint_000006   \n",
       "7         3301.184837                         8    checkpoint_000007   \n",
       "8         3655.557293                         9    checkpoint_000008   \n",
       "9         3953.532071                        10    checkpoint_000009   \n",
       "\n",
       "  config/train_loop_config/dropout_p config/train_loop_config/lr   \n",
       "0                                0.5                      0.0001  \\\n",
       "1                                0.5                      0.0001   \n",
       "2                                0.5                      0.0001   \n",
       "3                                0.5                      0.0001   \n",
       "4                                0.5                      0.0001   \n",
       "5                                0.5                      0.0001   \n",
       "6                                0.5                      0.0001   \n",
       "7                                0.5                      0.0001   \n",
       "8                                0.5                      0.0001   \n",
       "9                                0.5                      0.0001   \n",
       "\n",
       "   config/train_loop_config/lr_factor  config/train_loop_config/lr_patience   \n",
       "0                                 0.8                                     3  \\\n",
       "1                                 0.8                                     3   \n",
       "2                                 0.8                                     3   \n",
       "3                                 0.8                                     3   \n",
       "4                                 0.8                                     3   \n",
       "5                                 0.8                                     3   \n",
       "6                                 0.8                                     3   \n",
       "7                                 0.8                                     3   \n",
       "8                                 0.8                                     3   \n",
       "9                                 0.8                                     3   \n",
       "\n",
       "  config/train_loop_config/num_epochs  config/train_loop_config/batch_size   \n",
       "0                                  10                                  256  \\\n",
       "1                                  10                                  256   \n",
       "2                                  10                                  256   \n",
       "3                                  10                                  256   \n",
       "4                                  10                                  256   \n",
       "5                                  10                                  256   \n",
       "6                                  10                                  256   \n",
       "7                                  10                                  256   \n",
       "8                                  10                                  256   \n",
       "9                                  10                                  256   \n",
       "\n",
       "   config/train_loop_config/num_classes  \n",
       "0                                     4  \n",
       "1                                     4  \n",
       "2                                     4  \n",
       "3                                     4  \n",
       "4                                     4  \n",
       "5                                     4  \n",
       "6                                     4  \n",
       "7                                     4  \n",
       "8                                     4  \n",
       "9                                     4  \n",
       "\n",
       "[10 rows x 25 columns]"
      ]
     },
     "execution_count": 74,
     "metadata": {},
     "output_type": "execute_result"
    }
   ],
   "source": [
    "results.metrics_dataframe\n"
   ]
  },
  {
   "cell_type": "code",
   "execution_count": 94,
   "id": "35459f91",
   "metadata": {},
   "outputs": [],
   "source": [
    "best_checkpoint, best_metrics = results.best_checkpoints[0]"
   ]
  },
  {
   "cell_type": "code",
   "execution_count": 95,
   "id": "1bee1227",
   "metadata": {},
   "outputs": [
    {
     "name": "stdout",
     "output_type": "stream",
     "text": [
      "Best metrics: {'epoch': 7, 'lr': 0.0001, 'train_loss': 0.06079628939429919, 'val_loss': 0.16371040046215057, 'timestamp': 1755610490, 'should_checkpoint': True, 'done': False, 'training_iteration': 8, 'trial_id': '90bd1_00000', 'date': '2025-08-19_16-34-51', 'time_this_iter_s': 339.0789761543274, 'time_total_s': 3301.1848368644714, 'pid': 24048, 'hostname': 'saraa', 'node_ip': '127.0.0.1', 'config': {'train_loop_config': {'dropout_p': 0.5, 'lr': 0.0001, 'lr_factor': 0.8, 'lr_patience': 3, 'num_epochs': 10, 'batch_size': 256, 'num_classes': 4}}, 'time_since_restore': 3301.1848368644714, 'iterations_since_restore': 8}\n",
      "Best checkpoint path: C:\\Users\\sara\\AppData\\Local\\Temp\\checkpoint_tmp_fa24bd973b864f6fae4eaa271b79d177\n"
     ]
    }
   ],
   "source": [
    "print(\"Best metrics:\", best_metrics)\n",
    "print(\"Best checkpoint path:\", best_checkpoint.to_directory())"
   ]
  },
  {
   "cell_type": "code",
   "execution_count": 82,
   "id": "401eb101",
   "metadata": {},
   "outputs": [
    {
     "data": {
      "application/vnd.microsoft.datawrangler.viewer.v0+json": {
       "columns": [
        {
         "name": "index",
         "rawType": "int64",
         "type": "integer"
        },
        {
         "name": "epoch",
         "rawType": "int64",
         "type": "integer"
        },
        {
         "name": "lr",
         "rawType": "float64",
         "type": "float"
        },
        {
         "name": "train_loss",
         "rawType": "float64",
         "type": "float"
        },
        {
         "name": "val_loss",
         "rawType": "float64",
         "type": "float"
        },
        {
         "name": "timestamp",
         "rawType": "int64",
         "type": "integer"
        },
        {
         "name": "should_checkpoint",
         "rawType": "bool",
         "type": "boolean"
        },
        {
         "name": "done",
         "rawType": "bool",
         "type": "boolean"
        },
        {
         "name": "training_iteration",
         "rawType": "int64",
         "type": "integer"
        },
        {
         "name": "trial_id",
         "rawType": "object",
         "type": "string"
        },
        {
         "name": "date",
         "rawType": "object",
         "type": "string"
        },
        {
         "name": "time_this_iter_s",
         "rawType": "float64",
         "type": "float"
        },
        {
         "name": "time_total_s",
         "rawType": "float64",
         "type": "float"
        },
        {
         "name": "pid",
         "rawType": "int64",
         "type": "integer"
        },
        {
         "name": "hostname",
         "rawType": "object",
         "type": "string"
        },
        {
         "name": "node_ip",
         "rawType": "object",
         "type": "string"
        },
        {
         "name": "config",
         "rawType": "object",
         "type": "unknown"
        },
        {
         "name": "time_since_restore",
         "rawType": "float64",
         "type": "float"
        },
        {
         "name": "iterations_since_restore",
         "rawType": "int64",
         "type": "integer"
        }
       ],
       "ref": "f198f3fb-fe5b-41f9-be3a-34e9a58dc1f8",
       "rows": [
        [
         "0",
         "7",
         "0.0001",
         "0.06079628939429919",
         "0.16371040046215057",
         "1755610490",
         "True",
         "False",
         "8",
         "90bd1_00000",
         "2025-08-19_16-34-51",
         "339.0789761543274",
         "3301.1848368644714",
         "24048",
         "saraa",
         "127.0.0.1",
         "{'train_loop_config': {'dropout_p': 0.5, 'lr': 0.0001, 'lr_factor': 0.8, 'lr_patience': 3, 'num_epochs': 10, 'batch_size': 256, 'num_classes': 4}}",
         "3301.1848368644714",
         "8"
        ]
       ],
       "shape": {
        "columns": 18,
        "rows": 1
       }
      },
      "text/html": [
       "<div>\n",
       "<style scoped>\n",
       "    .dataframe tbody tr th:only-of-type {\n",
       "        vertical-align: middle;\n",
       "    }\n",
       "\n",
       "    .dataframe tbody tr th {\n",
       "        vertical-align: top;\n",
       "    }\n",
       "\n",
       "    .dataframe thead th {\n",
       "        text-align: right;\n",
       "    }\n",
       "</style>\n",
       "<table border=\"1\" class=\"dataframe\">\n",
       "  <thead>\n",
       "    <tr style=\"text-align: right;\">\n",
       "      <th></th>\n",
       "      <th>epoch</th>\n",
       "      <th>lr</th>\n",
       "      <th>train_loss</th>\n",
       "      <th>val_loss</th>\n",
       "      <th>timestamp</th>\n",
       "      <th>should_checkpoint</th>\n",
       "      <th>done</th>\n",
       "      <th>training_iteration</th>\n",
       "      <th>trial_id</th>\n",
       "      <th>date</th>\n",
       "      <th>time_this_iter_s</th>\n",
       "      <th>time_total_s</th>\n",
       "      <th>pid</th>\n",
       "      <th>hostname</th>\n",
       "      <th>node_ip</th>\n",
       "      <th>config</th>\n",
       "      <th>time_since_restore</th>\n",
       "      <th>iterations_since_restore</th>\n",
       "    </tr>\n",
       "  </thead>\n",
       "  <tbody>\n",
       "    <tr>\n",
       "      <th>0</th>\n",
       "      <td>7</td>\n",
       "      <td>0.0001</td>\n",
       "      <td>0.060796</td>\n",
       "      <td>0.16371</td>\n",
       "      <td>1755610490</td>\n",
       "      <td>True</td>\n",
       "      <td>False</td>\n",
       "      <td>8</td>\n",
       "      <td>90bd1_00000</td>\n",
       "      <td>2025-08-19_16-34-51</td>\n",
       "      <td>339.078976</td>\n",
       "      <td>3301.184837</td>\n",
       "      <td>24048</td>\n",
       "      <td>saraa</td>\n",
       "      <td>127.0.0.1</td>\n",
       "      <td>{'train_loop_config': {'dropout_p': 0.5, 'lr':...</td>\n",
       "      <td>3301.184837</td>\n",
       "      <td>8</td>\n",
       "    </tr>\n",
       "  </tbody>\n",
       "</table>\n",
       "</div>"
      ],
      "text/plain": [
       "   epoch      lr  train_loss  val_loss   timestamp  should_checkpoint   done   \n",
       "0      7  0.0001    0.060796   0.16371  1755610490               True  False  \\\n",
       "\n",
       "   training_iteration     trial_id                 date  time_this_iter_s   \n",
       "0                   8  90bd1_00000  2025-08-19_16-34-51        339.078976  \\\n",
       "\n",
       "   time_total_s    pid hostname    node_ip   \n",
       "0   3301.184837  24048    saraa  127.0.0.1  \\\n",
       "\n",
       "                                              config  time_since_restore   \n",
       "0  {'train_loop_config': {'dropout_p': 0.5, 'lr':...         3301.184837  \\\n",
       "\n",
       "   iterations_since_restore  \n",
       "0                         8  "
      ]
     },
     "execution_count": 82,
     "metadata": {},
     "output_type": "execute_result"
    }
   ],
   "source": [
    "df = pd.DataFrame([m for _, m in results.best_checkpoints])\n",
    "df"
   ]
  },
  {
   "cell_type": "code",
   "execution_count": null,
   "id": "818c90fd",
   "metadata": {},
   "outputs": [
    {
     "name": "stdout",
     "output_type": "stream",
     "text": [
      "Best config (only trial): {'train_loop_config': {'dropout_p': 0.5, 'lr': 0.0001, 'lr_factor': 0.8, 'lr_patience': 3, 'num_epochs': 10, 'batch_size': 256, 'num_classes': 4}}\n"
     ]
    }
   ],
   "source": [
    "# best trial hyperparameter\n",
    "print(\"Best config (only trial):\", results.config)"
   ]
  },
  {
   "cell_type": "code",
   "execution_count": 100,
   "id": "08f17778",
   "metadata": {},
   "outputs": [
    {
     "name": "stderr",
     "output_type": "stream",
     "text": [
      "Some weights of the model checkpoint at allenai/scibert_scivocab_uncased were not used when initializing BertModel: ['cls.predictions.decoder.bias', 'cls.seq_relationship.bias', 'cls.predictions.transform.LayerNorm.bias', 'cls.predictions.decoder.weight', 'cls.seq_relationship.weight', 'cls.predictions.transform.dense.bias', 'cls.predictions.bias', 'cls.predictions.transform.dense.weight', 'cls.predictions.transform.LayerNorm.weight']\n",
      "- This IS expected if you are initializing BertModel from the checkpoint of a model trained on another task or with another architecture (e.g. initializing a BertForSequenceClassification model from a BertForPreTraining model).\n",
      "- This IS NOT expected if you are initializing BertModel from the checkpoint of a model that you expect to be exactly identical (initializing a BertForSequenceClassification model from a BertForSequenceClassification model).\n"
     ]
    },
    {
     "name": "stdout",
     "output_type": "stream",
     "text": [
      "Preprocessor: None\n"
     ]
    }
   ],
   "source": [
    "# Recreate your model (you MUST have this)\n",
    "llm = BertModel.from_pretrained(\"allenai/scibert_scivocab_uncased\", return_dict=False)\n",
    "model = FinetunedLLM(  # This class must be defined first!\n",
    "    llm=llm, \n",
    "    dropout_p=0.5,\n",
    "    embedding_dim=llm.config.hidden_size, \n",
    "    num_classes=4\n",
    ")\n",
    "\n",
    "# Now load the checkpoint\n",
    "checkpoint_path = best_checkpoint.to_directory()\n",
    "torch_checkpoint = TorchCheckpoint.from_directory(checkpoint_path)\n",
    "predictor = TorchPredictor.from_checkpoint(torch_checkpoint, model=model)  # Notice model=model here!\n",
    "\n",
    "preprocessor = predictor.get_preprocessor()\n",
    "print(\"Preprocessor:\", preprocessor)"
   ]
  },
  {
   "cell_type": "code",
   "execution_count": 112,
   "id": "e42c37e8",
   "metadata": {},
   "outputs": [
    {
     "name": "stderr",
     "output_type": "stream",
     "text": [
      "2025-08-19 18:01:56,366\tINFO read_api.py:406 -- To satisfy the requested parallelism of 24, each read task output is split into 24 smaller blocks.\n",
      "2025-08-19 18:01:56,940\tINFO streaming_executor.py:93 -- Executing DAG InputDataBuffer[Input] -> TaskPoolMapOperator[ReadCSV->SplitBlocks(24)] -> AllToAllOperator[Aggregate] -> TaskPoolMapOperator[MapBatches(<lambda>)]\n",
      "2025-08-19 18:01:56,940\tINFO streaming_executor.py:94 -- Execution config: ExecutionOptions(resource_limits=ExecutionResources(cpu=None, gpu=None, object_store_memory=None), locality_with_output=False, preserve_order=True, actor_locality_enabled=True, verbose_progress=False)\n",
      "2025-08-19 18:01:56,940\tINFO streaming_executor.py:96 -- Tip: For detailed progress reporting, run `ray.data.DataContext.get_current().execution_options.verbose_progress = True`\n"
     ]
    },
    {
     "data": {
      "application/vnd.jupyter.widget-view+json": {
       "model_id": "d8fd819784e64d5a9ae73c0d90d1a78e",
       "version_major": 2,
       "version_minor": 0
      },
      "text/plain": [
       "- Aggregate 1:   0%|          | 0/576 [00:00<?, ?it/s]"
      ]
     },
     "metadata": {},
     "output_type": "display_data"
    },
    {
     "data": {
      "application/vnd.jupyter.widget-view+json": {
       "model_id": "b398c51fcf85447e8cc8b71976babae4",
       "version_major": 2,
       "version_minor": 0
      },
      "text/plain": [
       "Shuffle Map 2:   0%|          | 0/576 [00:00<?, ?it/s]"
      ]
     },
     "metadata": {},
     "output_type": "display_data"
    },
    {
     "data": {
      "application/vnd.jupyter.widget-view+json": {
       "model_id": "9731f588ace04a4fb1e2dfff23d7e3cd",
       "version_major": 2,
       "version_minor": 0
      },
      "text/plain": [
       "Shuffle Reduce 3:   0%|          | 0/576 [00:00<?, ?it/s]"
      ]
     },
     "metadata": {},
     "output_type": "display_data"
    },
    {
     "data": {
      "application/vnd.jupyter.widget-view+json": {
       "model_id": "e78bc73a94db47c989ec3a12440ad7d4",
       "version_major": 2,
       "version_minor": 0
      },
      "text/plain": [
       "Running 0:   0%|          | 0/576 [00:00<?, ?it/s]"
      ]
     },
     "metadata": {},
     "output_type": "display_data"
    },
    {
     "data": {
      "application/vnd.jupyter.widget-view+json": {
       "model_id": "43f24412b217492f9bea9f14051011b6",
       "version_major": 2,
       "version_minor": 0
      },
      "text/plain": [
       "Sort Sample 0:   0%|          | 0/24 [00:00<?, ?it/s]"
      ]
     },
     "metadata": {},
     "output_type": "display_data"
    },
    {
     "name": "stderr",
     "output_type": "stream",
     "text": [
      "2025-08-19 18:01:58,202\tINFO streaming_executor.py:93 -- Executing DAG InputDataBuffer[Input] -> TaskPoolMapOperator[ReadCSV->SplitBlocks(24)] -> TaskPoolMapOperator[MapBatches(CustomPreprocessor._transform_pandas)] -> LimitOperator[limit=1]\n",
      "2025-08-19 18:01:58,203\tINFO streaming_executor.py:94 -- Execution config: ExecutionOptions(resource_limits=ExecutionResources(cpu=None, gpu=None, object_store_memory=None), locality_with_output=False, preserve_order=True, actor_locality_enabled=True, verbose_progress=False)\n",
      "2025-08-19 18:01:58,205\tINFO streaming_executor.py:96 -- Tip: For detailed progress reporting, run `ray.data.DataContext.get_current().execution_options.verbose_progress = True`\n"
     ]
    },
    {
     "data": {
      "application/vnd.jupyter.widget-view+json": {
       "model_id": "2e20d8a49a70410690aab1af494ae9b0",
       "version_major": 2,
       "version_minor": 0
      },
      "text/plain": [
       "Running 0:   0%|          | 0/1 [00:00<?, ?it/s]"
      ]
     },
     "metadata": {},
     "output_type": "display_data"
    },
    {
     "data": {
      "text/plain": [
       "[{'ids': array([  102,  4905,  2069,  2470,  2848,  4905, 30132, 22081,   691,\n",
       "          4324,  7491,  5896,   341,  6136,   934, 30137,   103,     0,\n",
       "             0,     0,     0]),\n",
       "  'masks': array([1, 1, 1, 1, 1, 1, 1, 1, 1, 1, 1, 1, 1, 1, 1, 1, 1, 0, 0, 0, 0]),\n",
       "  'targets': 3}]"
      ]
     },
     "execution_count": 112,
     "metadata": {},
     "output_type": "execute_result"
    }
   ],
   "source": [
    "# Test (holdout) dataset\n",
    "HOLDOUT_LOC = \"https://raw.githubusercontent.com/GokuMohandas/Made-With-ML/main/datasets/holdout.csv\"\n",
    "test_ds = ray.data.read_csv(HOLDOUT_LOC)\n",
    "\n",
    "# Create and fit the preprocessor\n",
    "preprocessor = CustomPreprocessor()\n",
    "\n",
    "preprocessed_ds = preprocessor.fit_transform(test_ds)\n",
    "preprocessed_ds.take(1)"
   ]
  },
  {
   "cell_type": "code",
   "execution_count": 108,
   "id": "9823d7ab",
   "metadata": {},
   "outputs": [
    {
     "name": "stderr",
     "output_type": "stream",
     "text": [
      "2025-08-19 17:55:57,356\tINFO streaming_executor.py:93 -- Executing DAG InputDataBuffer[Input] -> TaskPoolMapOperator[ReadCSV->SplitBlocks(24)] -> TaskPoolMapOperator[MapBatches(CustomPreprocessor._transform_pandas)->MapBatches(<lambda>)]\n",
      "2025-08-19 17:55:57,359\tINFO streaming_executor.py:94 -- Execution config: ExecutionOptions(resource_limits=ExecutionResources(cpu=None, gpu=None, object_store_memory=None), locality_with_output=False, preserve_order=True, actor_locality_enabled=True, verbose_progress=False)\n",
      "2025-08-19 17:55:57,361\tINFO streaming_executor.py:96 -- Tip: For detailed progress reporting, run `ray.data.DataContext.get_current().execution_options.verbose_progress = True`\n"
     ]
    },
    {
     "data": {
      "application/vnd.jupyter.widget-view+json": {
       "model_id": "0c64548ba6bc4a12a524589acf4b13d2",
       "version_major": 2,
       "version_minor": 0
      },
      "text/plain": [
       "Running 0:   0%|          | 0/576 [00:00<?, ?it/s]"
      ]
     },
     "metadata": {},
     "output_type": "display_data"
    },
    {
     "name": "stdout",
     "output_type": "stream",
     "text": [
      "[3 3 3 0 2 0 0 0 0 2 0 0 2 3 0 0 2 2 3 2 3 0 3 2 0 2 2 1 1 2 2 2 2 2 2 0 0\n",
      " 0 0 0 1 1 2 0 0 3 1 2 0 2 2 3 3 0 2 3 2 3 3 3 3 0 0 0 0 2 2 0 2 1 0 2 3 0\n",
      " 0 2 2 2 2 2 0 0 2 0 1 0 0 0 0 3 0 0 2 0 2 2 3 2 0 2 0 2 0 3 0 0 0 0 0 2 0\n",
      " 0 2 2 2 2 3 0 2 0 2 0 2 3 3 3 2 0 2 2 2 2 0 2 2 2 0 1 2 2 2 2 2 1 2 0 3 0\n",
      " 2 2 1 1 2 0 0 0 0 0 0 2 2 2 0 2 1 1 2 0 0 1 2 3 2 2 2 0 0 2 0 2 0 3 0 2 2\n",
      " 0 1 2 1 2 2]\n"
     ]
    }
   ],
   "source": [
    "# y_true\n",
    "values = preprocessed_ds.select_columns(cols=[\"targets\"]).take_all()\n",
    "y_true = np.stack([item[\"targets\"] for item in values])\n",
    "print (y_true)"
   ]
  },
  {
   "cell_type": "code",
   "execution_count": 117,
   "id": "df36f2d7",
   "metadata": {},
   "outputs": [
    {
     "ename": "RuntimeError",
     "evalue": "Invalid input data type of <class 'ray.data.dataset.Dataset'>, supported types: [<class 'numpy.ndarray'>, <class 'dict'>, <class 'pandas.core.frame.DataFrame'>]",
     "output_type": "error",
     "traceback": [
      "\u001b[1;31m---------------------------------------------------------------------------\u001b[0m",
      "\u001b[1;31mKeyError\u001b[0m                                  Traceback (most recent call last)",
      "File \u001b[1;32mc:\\Users\\sara\\miniconda3\\envs\\mwml\\lib\\site-packages\\ray\\train\\predictor.py:185\u001b[0m, in \u001b[0;36mPredictor.predict\u001b[1;34m(self, data, **kwargs)\u001b[0m\n\u001b[0;32m    184\u001b[0m \u001b[38;5;28;01mtry\u001b[39;00m:\n\u001b[1;32m--> 185\u001b[0m     batch_format \u001b[38;5;241m=\u001b[39m \u001b[43mTYPE_TO_ENUM\u001b[49m\u001b[43m[\u001b[49m\u001b[38;5;28;43mtype\u001b[39;49m\u001b[43m(\u001b[49m\u001b[43mdata\u001b[49m\u001b[43m)\u001b[49m\u001b[43m]\u001b[49m\n\u001b[0;32m    186\u001b[0m \u001b[38;5;28;01mexcept\u001b[39;00m \u001b[38;5;167;01mKeyError\u001b[39;00m:\n",
      "\u001b[1;31mKeyError\u001b[0m: <class 'ray.data.dataset.Dataset'>",
      "\nDuring handling of the above exception, another exception occurred:\n",
      "\u001b[1;31mRuntimeError\u001b[0m                              Traceback (most recent call last)",
      "Cell \u001b[1;32mIn[117], line 2\u001b[0m\n\u001b[0;32m      1\u001b[0m \u001b[38;5;66;03m# y_pred\u001b[39;00m\n\u001b[1;32m----> 2\u001b[0m predictions \u001b[38;5;241m=\u001b[39m \u001b[43mpredictor\u001b[49m\u001b[38;5;241;43m.\u001b[39;49m\u001b[43mpredict\u001b[49m\u001b[43m(\u001b[49m\u001b[43mpreprocessed_ds\u001b[49m\u001b[43m)\u001b[49m\n",
      "File \u001b[1;32mc:\\Users\\sara\\miniconda3\\envs\\mwml\\lib\\site-packages\\ray\\train\\torch\\torch_predictor.py:227\u001b[0m, in \u001b[0;36mTorchPredictor.predict\u001b[1;34m(self, data, dtype)\u001b[0m\n\u001b[0;32m    152\u001b[0m \u001b[38;5;28;01mdef\u001b[39;00m\u001b[38;5;250m \u001b[39m\u001b[38;5;21mpredict\u001b[39m(\n\u001b[0;32m    153\u001b[0m     \u001b[38;5;28mself\u001b[39m,\n\u001b[0;32m    154\u001b[0m     data: DataBatchType,\n\u001b[0;32m    155\u001b[0m     dtype: Optional[Union[torch\u001b[38;5;241m.\u001b[39mdtype, Dict[\u001b[38;5;28mstr\u001b[39m, torch\u001b[38;5;241m.\u001b[39mdtype]]] \u001b[38;5;241m=\u001b[39m \u001b[38;5;28;01mNone\u001b[39;00m,\n\u001b[0;32m    156\u001b[0m ) \u001b[38;5;241m-\u001b[39m\u001b[38;5;241m>\u001b[39m DataBatchType:\n\u001b[0;32m    157\u001b[0m \u001b[38;5;250m    \u001b[39m\u001b[38;5;124;03m\"\"\"Run inference on data batch.\u001b[39;00m\n\u001b[0;32m    158\u001b[0m \n\u001b[0;32m    159\u001b[0m \u001b[38;5;124;03m    If the provided data is a single array or a dataframe/table with a single\u001b[39;00m\n\u001b[1;32m   (...)\u001b[0m\n\u001b[0;32m    225\u001b[0m \u001b[38;5;124;03m            1    [2.857038]\u001b[39;00m\n\u001b[0;32m    226\u001b[0m \u001b[38;5;124;03m    \"\"\"\u001b[39;00m\n\u001b[1;32m--> 227\u001b[0m     \u001b[38;5;28;01mreturn\u001b[39;00m \u001b[38;5;28;43msuper\u001b[39;49m\u001b[43m(\u001b[49m\u001b[43mTorchPredictor\u001b[49m\u001b[43m,\u001b[49m\u001b[43m \u001b[49m\u001b[38;5;28;43mself\u001b[39;49m\u001b[43m)\u001b[49m\u001b[38;5;241;43m.\u001b[39;49m\u001b[43mpredict\u001b[49m\u001b[43m(\u001b[49m\u001b[43mdata\u001b[49m\u001b[38;5;241;43m=\u001b[39;49m\u001b[43mdata\u001b[49m\u001b[43m,\u001b[49m\u001b[43m \u001b[49m\u001b[43mdtype\u001b[49m\u001b[38;5;241;43m=\u001b[39;49m\u001b[43mdtype\u001b[49m\u001b[43m)\u001b[49m\n",
      "File \u001b[1;32mc:\\Users\\sara\\miniconda3\\envs\\mwml\\lib\\site-packages\\ray\\train\\predictor.py:187\u001b[0m, in \u001b[0;36mPredictor.predict\u001b[1;34m(self, data, **kwargs)\u001b[0m\n\u001b[0;32m    185\u001b[0m     batch_format \u001b[38;5;241m=\u001b[39m TYPE_TO_ENUM[\u001b[38;5;28mtype\u001b[39m(data)]\n\u001b[0;32m    186\u001b[0m \u001b[38;5;28;01mexcept\u001b[39;00m \u001b[38;5;167;01mKeyError\u001b[39;00m:\n\u001b[1;32m--> 187\u001b[0m     \u001b[38;5;28;01mraise\u001b[39;00m \u001b[38;5;167;01mRuntimeError\u001b[39;00m(\n\u001b[0;32m    188\u001b[0m         \u001b[38;5;124mf\u001b[39m\u001b[38;5;124m\"\u001b[39m\u001b[38;5;124mInvalid input data type of \u001b[39m\u001b[38;5;132;01m{\u001b[39;00m\u001b[38;5;28mtype\u001b[39m(data)\u001b[38;5;132;01m}\u001b[39;00m\u001b[38;5;124m, supported \u001b[39m\u001b[38;5;124m\"\u001b[39m\n\u001b[0;32m    189\u001b[0m         \u001b[38;5;124mf\u001b[39m\u001b[38;5;124m\"\u001b[39m\u001b[38;5;124mtypes: \u001b[39m\u001b[38;5;132;01m{\u001b[39;00m\u001b[38;5;28mlist\u001b[39m(TYPE_TO_ENUM\u001b[38;5;241m.\u001b[39mkeys())\u001b[38;5;132;01m}\u001b[39;00m\u001b[38;5;124m\"\u001b[39m\n\u001b[0;32m    190\u001b[0m     )\n\u001b[0;32m    192\u001b[0m \u001b[38;5;28;01mif\u001b[39;00m \u001b[38;5;28mself\u001b[39m\u001b[38;5;241m.\u001b[39m_preprocessor:\n\u001b[0;32m    193\u001b[0m     data \u001b[38;5;241m=\u001b[39m \u001b[38;5;28mself\u001b[39m\u001b[38;5;241m.\u001b[39m_preprocessor\u001b[38;5;241m.\u001b[39mtransform_batch(data)\n",
      "\u001b[1;31mRuntimeError\u001b[0m: Invalid input data type of <class 'ray.data.dataset.Dataset'>, supported types: [<class 'numpy.ndarray'>, <class 'dict'>, <class 'pandas.core.frame.DataFrame'>]"
     ]
    }
   ],
   "source": [
    "# y_pred\n",
    "predictions = predictor.predict(preprocessed_ds)"
   ]
  },
  {
   "cell_type": "code",
   "execution_count": null,
   "id": "3d00cdeb",
   "metadata": {},
   "outputs": [],
   "source": []
  }
 ],
 "metadata": {
  "kernelspec": {
   "display_name": "mwml",
   "language": "python",
   "name": "python3"
  },
  "language_info": {
   "codemirror_mode": {
    "name": "ipython",
    "version": 3
   },
   "file_extension": ".py",
   "mimetype": "text/x-python",
   "name": "python",
   "nbconvert_exporter": "python",
   "pygments_lexer": "ipython3",
   "version": "3.10.18"
  }
 },
 "nbformat": 4,
 "nbformat_minor": 5
}
